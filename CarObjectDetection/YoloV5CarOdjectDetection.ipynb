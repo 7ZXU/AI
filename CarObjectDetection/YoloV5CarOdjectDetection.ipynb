{
  "nbformat": 4,
  "nbformat_minor": 0,
  "metadata": {
    "colab": {
      "name": "YoloV5CarOdjectDetection.ipynb",
      "private_outputs": true,
      "provenance": [],
      "collapsed_sections": [],
      "authorship_tag": "ABX9TyOU4XybnGS89+5aY64XY4K0",
      "include_colab_link": true
    },
    "kernelspec": {
      "name": "python3",
      "display_name": "Python 3"
    },
    "language_info": {
      "name": "python"
    },
    "accelerator": "GPU"
  },
  "cells": [
    {
      "cell_type": "markdown",
      "metadata": {
        "id": "view-in-github",
        "colab_type": "text"
      },
      "source": [
        "<a href=\"https://colab.research.google.com/github/7ZXU/AI/blob/main/CarObjectDetection/YoloV5CarOdjectDetection.ipynb\" target=\"_parent\"><img src=\"https://colab.research.google.com/assets/colab-badge.svg\" alt=\"Open In Colab\"/></a>"
      ]
    },
    {
      "cell_type": "markdown",
      "metadata": {
        "id": "bKW_sNOmt9IY"
      },
      "source": [
        "#**Import Drive**"
      ]
    },
    {
      "cell_type": "code",
      "metadata": {
        "id": "qGFcHU9uo7n4"
      },
      "source": [
        "from google.colab import drive\n",
        "drive.mount('/content/drive')"
      ],
      "execution_count": null,
      "outputs": []
    },
    {
      "cell_type": "markdown",
      "metadata": {
        "id": "2KIOwLpiuDga"
      },
      "source": [
        "#**Clone YOLOv5**"
      ]
    },
    {
      "cell_type": "code",
      "metadata": {
        "id": "Irq9tnlrtjPV"
      },
      "source": [
        "%cd /content/drive/MyDrive/TNT/CarObject"
      ],
      "execution_count": null,
      "outputs": []
    },
    {
      "cell_type": "code",
      "metadata": {
        "id": "M2-_xJxtpdSW"
      },
      "source": [
        "%%time\n",
        "\n",
        "!git clone https://github.com/ultralytics/yolov5  # clone repo\n",
        "!pip install -U pycocotools\n",
        "!pip install -qr yolov5/requirements.txt  # install dependencies\n",
        "!cp yolov5/requirements.txt ./"
      ],
      "execution_count": null,
      "outputs": []
    },
    {
      "cell_type": "markdown",
      "metadata": {
        "id": "Gekntsj9u1tB"
      },
      "source": [
        "#**Library**\n"
      ]
    },
    {
      "cell_type": "code",
      "metadata": {
        "id": "kcOVCFMGu1K9"
      },
      "source": [
        "import os, time, random\n",
        "import numpy as np\n",
        "import pandas as pd\n",
        "import cv2, torch\n",
        "from tqdm.auto import tqdm\n",
        "import shutil as sh\n",
        "\n",
        "from IPython.display import Image, clear_output\n",
        "import matplotlib.pyplot as plt\n",
        "%matplotlib inline"
      ],
      "execution_count": null,
      "outputs": []
    },
    {
      "cell_type": "markdown",
      "metadata": {
        "id": "Z1g2Dr86vAPN"
      },
      "source": [
        "#**Load Data**"
      ]
    },
    {
      "cell_type": "code",
      "metadata": {
        "id": "lRxyl742tDhQ"
      },
      "source": [
        "# 이미지 shape\n",
        "img_h, img_w, num_channels = (380, 676, 3)\n",
        "\n",
        "# 바운딩박스 데이터\n",
        "bb_df = pd.read_csv('/content/drive/MyDrive/TNT/CarObject/train_solution_bounding_boxes (1).csv')\n",
        "\n",
        "bb_df"
      ],
      "execution_count": null,
      "outputs": []
    },
    {
      "cell_type": "markdown",
      "metadata": {
        "id": "zD1ftEQHvDTy"
      },
      "source": [
        "#**Preprocessing**"
      ]
    },
    {
      "cell_type": "code",
      "metadata": {
        "id": "RQI-3qp4uy5y"
      },
      "source": [
        "# 열 이름 : iamge -> image_id\n",
        "bb_df.rename(columns = {'image' : 'image_id'}, inplace = True)\n",
        "bb_df['image_id'] = bb_df['image_id'].apply(lambda x: x.split('.')[0]) # .jpg 떼고 id 저장\n",
        "\n",
        "# 바운딩박스 중심점 (x_center, y_center)\n",
        "# 바운딩박스 크기 (w, h)\n",
        "bb_df['x_center'] = (bb_df['xmin']+bb_df['xmax'])/2\n",
        "bb_df['y_center'] = (bb_df['ymin']+bb_df['ymax'])/2\n",
        "bb_df['w'] = bb_df['xmax'] - bb_df['xmin']\n",
        "bb_df['h'] = bb_df['ymax'] - bb_df['ymin']\n",
        "\n",
        "# 클래스 열 추가하고 0으로 초기화\n",
        "bb_df['classes'] = 0\n",
        "\n",
        "# 상위 행 출력\n",
        "bb_df.head()"
      ],
      "execution_count": null,
      "outputs": []
    },
    {
      "cell_type": "code",
      "metadata": {
        "id": "byII7P0uwEUJ"
      },
      "source": [
        "# 이미지 정규화\n",
        "bb_df['x_center'] = bb_df['x_center']/img_w\n",
        "bb_df['y_center'] = bb_df['y_center']/img_h\n",
        "\n",
        "bb_df['w'] = bb_df['w']/img_w\n",
        "bb_df['h'] = bb_df['h']/img_h\n",
        "\n",
        "bb_df.head()"
      ],
      "execution_count": null,
      "outputs": []
    },
    {
      "cell_type": "markdown",
      "metadata": {
        "id": "G88YrrxOzOhL"
      },
      "source": [
        "#**Split train&valid data**"
      ]
    },
    {
      "cell_type": "code",
      "metadata": {
        "id": "O4JqfwSl0fYI"
      },
      "source": [
        "index = list(set(bb_df.image_id))"
      ],
      "execution_count": null,
      "outputs": []
    },
    {
      "cell_type": "code",
      "metadata": {
        "id": "u1Y9UVOaLYMw"
      },
      "source": [
        "len(index)"
      ],
      "execution_count": null,
      "outputs": []
    },
    {
      "cell_type": "code",
      "metadata": {
        "id": "WyU3ym8DsX1a"
      },
      "source": [
        "train_idx = index[ : round(len(index*0.6))]\n",
        "val_idx = index[round(len(index)*0.6):len(index)]"
      ],
      "execution_count": null,
      "outputs": []
    },
    {
      "cell_type": "code",
      "metadata": {
        "id": "fC1M5BCHszCD"
      },
      "source": [
        "print(len(train_idx),len(val_idx))"
      ],
      "execution_count": null,
      "outputs": []
    },
    {
      "cell_type": "code",
      "metadata": {
        "id": "elQJprD3ydtU"
      },
      "source": [
        "base_path = '/content/drive/MyDrive/TNT/CarObject/'\n",
        "\n",
        "\n",
        "\n",
        "for id, data in tqdm(bb_df.groupby('image_id')): # tqdm 상태바 표시\n",
        "  if id in val_idx:\n",
        "    save_folder = 'valid/'\n",
        "  else:\n",
        "    save_folder = 'train/'\n",
        "  \n",
        "  label_file_name = base_path + 'preprocessed_data/labels/' + save_folder + id + '.txt'\n",
        "\n",
        "  with open(label_file_name, 'w+') as f:\n",
        "    row = data[['classes', 'x_center', 'y_center', 'w', 'h']].astype(float).values\n",
        "    row = row.astype(str)\n",
        "    for i in range(len(row)):\n",
        "      text = ' '.join(row[i])\n",
        "      f.write(text)\n",
        "      f.write('\\n')\n",
        "  \n",
        "  image_path = base_path + 'preprocessed_data/images/' + save_folder + id + '.jpg'\n",
        "\n",
        "  sh.copy(base_path + \"training_images/{}.jpg\".format(id), image_path)"
      ],
      "execution_count": null,
      "outputs": []
    },
    {
      "cell_type": "code",
      "metadata": {
        "id": "whLnZkdYzTtz"
      },
      "source": [
        "base_path = '/content/drive/MyDrive/TNT/CarObject/yolov5/preprocessed_data'\n",
        "\n",
        "\n",
        "\n",
        "print(\"TRAIN LABELS : {}\\nTRAIN IMAGES: {}\\nVALID LABELS : {}\\nVALID IMAGES: {}\".format(\n",
        "    len(os.listdir(base_path+'/labels/train')),\n",
        "    len(os.listdir(base_path+'/images/train')),\n",
        "    len(os.listdir(base_path+'/labels/valid')),\n",
        "    len(os.listdir(base_path+'/images/valid')),\n",
        "    ))"
      ],
      "execution_count": null,
      "outputs": []
    },
    {
      "cell_type": "markdown",
      "metadata": {
        "id": "y73_VK94ChPe"
      },
      "source": [
        "#**Training**"
      ]
    },
    {
      "cell_type": "code",
      "metadata": {
        "id": "DFi5vdAx1Pma"
      },
      "source": [
        "%cd /content/drive/MyDrive/TNT/CarObject/yolov5"
      ],
      "execution_count": null,
      "outputs": []
    },
    {
      "cell_type": "code",
      "metadata": {
        "id": "rn_aCXSZ1Y84"
      },
      "source": [
        "%ls"
      ],
      "execution_count": null,
      "outputs": []
    },
    {
      "cell_type": "code",
      "metadata": {
        "id": "cpxCJSHn2D6P"
      },
      "source": [
        "!python train.py --img 676 --batch 16 --epoch 20 --data /content/drive/MyDrive/TNT/CarObject/yolov5/data/coco.yaml --weights yolov5s.pt"
      ],
      "execution_count": null,
      "outputs": []
    },
    {
      "cell_type": "markdown",
      "metadata": {
        "id": "8E227fsC2w20"
      },
      "source": [
        "#**Prediction**"
      ]
    },
    {
      "cell_type": "code",
      "metadata": {
        "id": "CcPDhLqM2GDF"
      },
      "source": [
        "!python /content/drive/MyDrive/TNT/CarObject/yolov5/detect.py --weights yolov5/yolov5s.pt --img 676 --conf 0.4 --source /content/drive/MyDrive/TNT/CarObject/testing_images"
      ],
      "execution_count": null,
      "outputs": []
    },
    {
      "cell_type": "code",
      "metadata": {
        "id": "uQm-rDHFGhHf"
      },
      "source": [
        "import random\n",
        "\n",
        "def show_test_exp():\n",
        "  rnd_images = random.choice(os.listdir('runs/detect/exp'))\n",
        "  print(rnd_images)\n",
        "  return Image('runs/detect/exp/'+rnd_images, width=500)"
      ],
      "execution_count": null,
      "outputs": []
    },
    {
      "cell_type": "code",
      "metadata": {
        "id": "zoPW3gTWGiP6"
      },
      "source": [
        "show_test_exp()"
      ],
      "execution_count": null,
      "outputs": []
    },
    {
      "cell_type": "code",
      "metadata": {
        "id": "wPO7aWgrGu8k"
      },
      "source": [
        ""
      ],
      "execution_count": null,
      "outputs": []
    }
  ]
}