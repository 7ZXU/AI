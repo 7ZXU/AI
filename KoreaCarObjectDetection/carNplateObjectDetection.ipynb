{
  "nbformat": 4,
  "nbformat_minor": 0,
  "metadata": {
    "colab": {
      "name": "carNplateObjectDetection.ipynb",
      "private_outputs": true,
      "provenance": [],
      "collapsed_sections": [],
      "mount_file_id": "1eSWcdTq4X6PmUTo6i45b07jMqVBt3zX5",
      "authorship_tag": "ABX9TyOagdlcBQ5565waFY1ii0HV",
      "include_colab_link": true
    },
    "kernelspec": {
      "name": "python3",
      "display_name": "Python 3"
    },
    "language_info": {
      "name": "python"
    },
    "accelerator": "GPU"
  },
  "cells": [
    {
      "cell_type": "markdown",
      "metadata": {
        "id": "view-in-github",
        "colab_type": "text"
      },
      "source": [
        "<a href=\"https://colab.research.google.com/github/7ZXU/AI/blob/main/KoreaCarObjectDetection/carNplateObjectDetection.ipynb\" target=\"_parent\"><img src=\"https://colab.research.google.com/assets/colab-badge.svg\" alt=\"Open In Colab\"/></a>"
      ]
    },
    {
      "cell_type": "code",
      "metadata": {
        "id": "SdMq7f3a-Wae"
      },
      "source": [
        "from google.colab import drive\n",
        "drive.mount('/content/drive')"
      ],
      "execution_count": null,
      "outputs": []
    },
    {
      "cell_type": "code",
      "metadata": {
        "id": "po-57yzK_NYi"
      },
      "source": [
        "import os, time, random\n",
        "import numpy as np\n",
        "import pandas as pd\n",
        "import matplotlib.pyplot as plt\n",
        "\n",
        "%matplotlib inline \n",
        "# 브라우저 내부(inline)에서 rich output(그림, 소리, 애니메이션)을 바로 볼 수 있음\n",
        "\n",
        "from IPython.display import Image # show image\n",
        "from tqdm.auto import tqdm # 진행바 표시\n",
        "import shutil as sh # 파일 이동\n",
        "from PIL import Image"
      ],
      "execution_count": null,
      "outputs": []
    },
    {
      "cell_type": "markdown",
      "metadata": {
        "id": "GoQrncKN_pyX"
      },
      "source": [
        "# **Loading Data**"
      ]
    },
    {
      "cell_type": "code",
      "metadata": {
        "id": "QpQ9rkzr_X8V"
      },
      "source": [
        "train_data = pd.read_csv('/content/drive/MyDrive/TNT/KoreanCarObject/Dataset_for_LPR/train.csv')\n",
        "test_data = pd.read_csv('/content/drive/MyDrive/TNT/KoreanCarObject/Dataset_for_LPR/test.csv')"
      ],
      "execution_count": null,
      "outputs": []
    },
    {
      "cell_type": "code",
      "metadata": {
        "id": "X6iqwsfu_1nG"
      },
      "source": [
        "train_data"
      ],
      "execution_count": null,
      "outputs": []
    },
    {
      "cell_type": "code",
      "metadata": {
        "id": "FLhjLiRH_3bM"
      },
      "source": [
        "test_data"
      ],
      "execution_count": null,
      "outputs": []
    },
    {
      "cell_type": "markdown",
      "metadata": {
        "id": "EJ8U6jomCy_N"
      },
      "source": [
        "# **Chage to YOLO dataset**"
      ]
    },
    {
      "cell_type": "code",
      "metadata": {
        "id": "_XcrCNy6D_xW"
      },
      "source": [
        "# # 열 이름 : iamge -> image_id\n",
        "# bb_df.rename(columns = {'image' : 'image_id'}, inplace = True)\n",
        "# bb_df['image_id'] = bb_df['image_id'].apply(lambda x: x.split('.')[0]) # .jpg 떼고 id 저장\n",
        "\n",
        "# # 바운딩박스 중심점 (x_center, y_center)\n",
        "# # 바운딩박스 크기 (w, h)\n",
        "# bb_df['x_center'] = (bb_df['xmin']+bb_df['xmax'])/2\n",
        "# bb_df['y_center'] = (bb_df['ymin']+bb_df['ymax'])/2\n",
        "# bb_df['w'] = bb_df['xmax'] - bb_df['xmin']\n",
        "# bb_df['h'] = bb_df['ymax'] - bb_df['ymin']\n",
        "\n",
        "# # 클래스 열 추가하고 0으로 초기화\n",
        "# bb_df['classes'] = 0\n",
        "\n",
        "# # 상위 행 출력\n",
        "# bb_df.head()"
      ],
      "execution_count": null,
      "outputs": []
    },
    {
      "cell_type": "code",
      "metadata": {
        "id": "AVdktjLY_4S6"
      },
      "source": [
        "train_data.columns"
      ],
      "execution_count": null,
      "outputs": []
    },
    {
      "cell_type": "code",
      "metadata": {
        "id": "sKy11UwQEF05"
      },
      "source": [
        "# train data\n",
        "# car 와 plate 정보 분리 \n",
        "\n",
        "train_car_data = train_data[['image_id', 'car_bb_xmin', 'car_bb_ymin', 'car_bb_w', 'car_bb_h']]\n",
        "train_car_data"
      ],
      "execution_count": null,
      "outputs": []
    },
    {
      "cell_type": "code",
      "metadata": {
        "id": "hvjZ1KiVE0Rm"
      },
      "source": [
        "train_plate_data = train_data[['image_id', 'plate_bb_xmin', 'plate_bb_ymin', 'plate_bb_w', 'plate_bb_h']]\n",
        "train_plate_data"
      ],
      "execution_count": null,
      "outputs": []
    },
    {
      "cell_type": "code",
      "metadata": {
        "id": "GH2-HZKOGE-p"
      },
      "source": [
        "# test data\n",
        "# car, plate data 분리 \n",
        "\n",
        "test_car_data = test_data[['image_id', 'car_bb_xmin', 'car_bb_ymin', 'car_bb_w', 'car_bb_h']]\n",
        "test_plate_data = test_data[['image_id', 'plate_bb_xmin', 'plate_bb_ymin', 'plate_bb_w', 'plate_bb_h']]"
      ],
      "execution_count": null,
      "outputs": []
    },
    {
      "cell_type": "code",
      "metadata": {
        "id": "vhLch4HpGXT_"
      },
      "source": [
        "test_car_data.shape, test_plate_data.shape"
      ],
      "execution_count": null,
      "outputs": []
    },
    {
      "cell_type": "code",
      "metadata": {
        "id": "6VvQaCF6GbXh"
      },
      "source": [
        "img_w = 1920\n",
        "img_h = 1080\n",
        "\n",
        "def get_yolo_input(data, class_name):\n",
        "    # column rename\n",
        "    data.columns = ['image_id', 'xmin', 'ymin', 'w', 'h']\n",
        "\n",
        "    # 중심점 구하기 \n",
        "    data['x_center'] = data['xmin'] + data['w']/2\n",
        "    data['y_center'] = data['ymin'] + data['h']/2\n",
        "\n",
        "    # 이미지 정규화 \n",
        "    data['x_center'] = data['x_center']/img_w\n",
        "    data['y_center'] = data['y_center']/img_h\n",
        "    data['w'] = data['w']/img_w\n",
        "    data['h'] = data['h']/img_h\n",
        "    \n",
        "    # 이미지 클래스 인덱싱\n",
        "    # car(0) plate(1) \n",
        "    if class_name == 'car':\n",
        "        data['class'] = 0\n",
        "    elif class_name == 'plate':\n",
        "        data['class'] = 1\n",
        "\n",
        "    return data"
      ],
      "execution_count": null,
      "outputs": []
    },
    {
      "cell_type": "code",
      "metadata": {
        "id": "I9DnZGazKkks"
      },
      "source": [
        "# 각 데이터를 yolo 를 위한 데이터로 변환\n",
        "train_car_data_yolo = get_yolo_input(train_car_data, 'car') \n",
        "train_plate_data_yolo = get_yolo_input(train_plate_data, 'plate')\n",
        "test_car_data_yolo = get_yolo_input(test_car_data, 'car') \n",
        "test_plate_data_yolo = get_yolo_input(test_plate_data, 'plate')"
      ],
      "execution_count": null,
      "outputs": []
    },
    {
      "cell_type": "code",
      "metadata": {
        "id": "MdDDTMoaK7Z0"
      },
      "source": [
        "train_car_data_yolo"
      ],
      "execution_count": null,
      "outputs": []
    },
    {
      "cell_type": "code",
      "metadata": {
        "id": "vS3KQ8VVMDb1"
      },
      "source": [
        "test_plate_data_yolo"
      ],
      "execution_count": null,
      "outputs": []
    },
    {
      "cell_type": "code",
      "metadata": {
        "id": "iibVKDC1MGb1"
      },
      "source": [
        "# car data + plate data\n",
        "yolo_train_data = pd.concat([train_car_data_yolo, train_plate_data_yolo])\n",
        "yolo_test_data = pd.concat([test_car_data_yolo, test_plate_data_yolo])"
      ],
      "execution_count": null,
      "outputs": []
    },
    {
      "cell_type": "code",
      "metadata": {
        "id": "tVpvRNyhMvtn"
      },
      "source": [
        "yolo_test_data # car(0), plate(1) 로 구분"
      ],
      "execution_count": null,
      "outputs": []
    },
    {
      "cell_type": "code",
      "metadata": {
        "id": "1nveMDgRMx5p"
      },
      "source": [
        "base_path = '/content/drive/MyDrive/TNT/KoreanCarObject/LPRdata/labels'\n",
        "\n",
        "def get_label_txt(type, data):\n",
        "    for id, data in tqdm(data.groupby('image_id')):\n",
        "        label_file_name = '{}/{}/{}.txt'.format(base_path, type, id)\n",
        "\n",
        "        with open(label_file_name, 'w+') as f:\n",
        "            row = data[['class','x_center', 'y_center', 'w', 'h']].astype(float).values # data의 각 열들을 float 형으로 받아옴\n",
        "            row = row.astype(str) # 리스트 요소들 string 으로 변환\n",
        "            for i in range(len(row)):\n",
        "                text = ' '.join(row[i]) # 리스트의 값들을 공백 기준으로 합침\n",
        "                f.write(text)\n",
        "                f.write('\\n') # 행 사이 줄바꿈      \n"
      ],
      "execution_count": null,
      "outputs": []
    },
    {
      "cell_type": "markdown",
      "metadata": {
        "id": "HDKTHO_HRzaX"
      },
      "source": [
        "함수 내용 확인"
      ]
    },
    {
      "cell_type": "code",
      "metadata": {
        "id": "OSMfI01XPks9"
      },
      "source": [
        "# float 형으로 data 불러오기\n",
        "row = yolo_train_data[['class','x_center', 'y_center', 'w', 'h']].astype(float).values\n",
        "row"
      ],
      "execution_count": null,
      "outputs": []
    },
    {
      "cell_type": "code",
      "metadata": {
        "id": "Ly4HRmi6PyV0"
      },
      "source": [
        "# list 요소들을 string 으로 변환\n",
        "row = row.astype(str)\n",
        "row[0]"
      ],
      "execution_count": null,
      "outputs": []
    },
    {
      "cell_type": "code",
      "metadata": {
        "id": "T56tviN9QTM6"
      },
      "source": [
        "# '구분자'.join(리스트)\n",
        "\n",
        "# 리스트의 값과 값 사이에 구분자를 넣어서 하나의 문자열로 합쳐준다.\n",
        "# '_'.join(['a', 'b', 'c']) 라 하면 \"a_b_c\" 와 같은 형태로 문자열을 만들어서 반환\n",
        "\n",
        "\n",
        "text = ' '.join(row[0]) # 리스트 요소 공백으로 구분해서 합친 문자열 반환\n",
        "text"
      ],
      "execution_count": null,
      "outputs": []
    },
    {
      "cell_type": "markdown",
      "metadata": {
        "id": "itMbeOLgbb0f"
      },
      "source": [
        "label 저장"
      ]
    },
    {
      "cell_type": "code",
      "metadata": {
        "id": "wovOxrkDRqwj"
      },
      "source": [
        "get_label_txt('train', yolo_train_data)\n",
        "get_label_txt('valid', yolo_test_data)"
      ],
      "execution_count": null,
      "outputs": []
    },
    {
      "cell_type": "markdown",
      "metadata": {
        "id": "Qc7o2Dy1URn4"
      },
      "source": [
        "# **Training**"
      ]
    },
    {
      "cell_type": "code",
      "metadata": {
        "id": "doAgqk9CXW5R"
      },
      "source": [
        "%cd /content/drive/MyDrive/TNT/KoreanCarObject"
      ],
      "execution_count": null,
      "outputs": []
    },
    {
      "cell_type": "code",
      "metadata": {
        "id": "VUanB37OXccx"
      },
      "source": [
        "%%time\n",
        "\n",
        "!git clone https://github.com/ultralytics/yolov5  # clone repo\n",
        "!pip install -U pycocotools\n",
        "!pip install -qr yolov5/requirements.txt  # install dependencies\n",
        "!cp yolov5/requirements.txt ./"
      ],
      "execution_count": null,
      "outputs": []
    },
    {
      "cell_type": "code",
      "metadata": {
        "id": "uTa8d04NXlBq"
      },
      "source": [
        "%ls"
      ],
      "execution_count": null,
      "outputs": []
    },
    {
      "cell_type": "code",
      "metadata": {
        "id": "IwnsyoI2X3Fu"
      },
      "source": [
        "%cd /content/drive/MyDrive/TNT/KoreanCarObject/yolov5"
      ],
      "execution_count": null,
      "outputs": []
    },
    {
      "cell_type": "code",
      "metadata": {
        "id": "VHqnhJG7Riy_"
      },
      "source": [
        "import torch\n",
        "torch.cuda.empty_cache()"
      ],
      "execution_count": null,
      "outputs": []
    },
    {
      "cell_type": "code",
      "metadata": {
        "id": "F4y7a-6nUYMy"
      },
      "source": [
        "!python train.py --img 1920 --batch 8 --epoch 20 --data LPR.yaml --weights yolov5s.pt"
      ],
      "execution_count": null,
      "outputs": []
    },
    {
      "cell_type": "code",
      "metadata": {
        "id": "9XPhvN5NV04Z"
      },
      "source": [
        ""
      ],
      "execution_count": null,
      "outputs": []
    }
  ]
}