{
  "nbformat": 4,
  "nbformat_minor": 0,
  "metadata": {
    "colab": {
      "name": "DataPreprocessing.ipynb",
      "private_outputs": true,
      "provenance": [],
      "collapsed_sections": [],
      "mount_file_id": "1MMj-gK1UUTH4qmWaOKEDid7V4vO_XUpN",
      "authorship_tag": "ABX9TyOGNBv5e+PXtseSD5nuR2Dj",
      "include_colab_link": true
    },
    "kernelspec": {
      "name": "python3",
      "display_name": "Python 3"
    },
    "language_info": {
      "name": "python"
    }
  },
  "cells": [
    {
      "cell_type": "markdown",
      "metadata": {
        "id": "view-in-github",
        "colab_type": "text"
      },
      "source": [
        "<a href=\"https://colab.research.google.com/github/7ZXU/AI/blob/main/KoreaCarObjectDetection/DataPreprocessing.ipynb\" target=\"_parent\"><img src=\"https://colab.research.google.com/assets/colab-badge.svg\" alt=\"Open In Colab\"/></a>"
      ]
    },
    {
      "cell_type": "markdown",
      "metadata": {
        "id": "Lpkdzp9rroXW"
      },
      "source": [
        "# **Git clone**"
      ]
    },
    {
      "cell_type": "code",
      "metadata": {
        "id": "k2SYN08JrnkG"
      },
      "source": [
        "from google.colab import drive\n",
        "drive.mount('/content/drive')"
      ],
      "execution_count": null,
      "outputs": []
    },
    {
      "cell_type": "code",
      "metadata": {
        "id": "rbwUeN2AsB24"
      },
      "source": [
        "%cd /content/drive/MyDrive/TNT/KoreanCarObject"
      ],
      "execution_count": null,
      "outputs": []
    },
    {
      "cell_type": "code",
      "metadata": {
        "id": "WBLNw5utsJkx"
      },
      "source": [
        "!git clone https://github.com/seokbongyoo/Dataset_for_LPR.git"
      ],
      "execution_count": null,
      "outputs": []
    },
    {
      "cell_type": "markdown",
      "metadata": {
        "id": "g0EjN5PQtpWn"
      },
      "source": [
        "# **Library**"
      ]
    },
    {
      "cell_type": "code",
      "metadata": {
        "id": "AcaHoq4ysfyN"
      },
      "source": [
        "import os, time, random\n",
        "import numpy as np\n",
        "import pandas as pd\n",
        "import matplotlib.pyplot as plt\n",
        "\n",
        "%matplotlib inline \n",
        "# 브라우저 내부(inline)에서 rich output(그림, 소리, 애니메이션)을 바로 볼 수 있음\n",
        "\n",
        "from IPython.display import Image # show image\n",
        "from tqdm.auto import tqdm # 진행바 표시\n",
        "import shutil as sh # 파일 이동"
      ],
      "execution_count": null,
      "outputs": []
    },
    {
      "cell_type": "markdown",
      "metadata": {
        "id": "PNVog_jN5icr"
      },
      "source": [
        "# **Parsing xml file**"
      ]
    },
    {
      "cell_type": "code",
      "metadata": {
        "id": "GKXCPnCCNfor"
      },
      "source": [
        "%cd /content/drive/MyDrive/TNT/KoreanCarObject/Dataset_for_LPR"
      ],
      "execution_count": null,
      "outputs": []
    },
    {
      "cell_type": "code",
      "metadata": {
        "id": "46lZxRsytAnV"
      },
      "source": [
        "from bs4 import BeautifulSoup \n",
        "# xml 또는 html 파일을 파싱해서 data로 변환하는 기능을 제공하는 라이브러리 \n",
        "# 웹 크롤링에 사용됨\n",
        "\n",
        "def get_metadata(file_name):\n",
        "\n",
        "    # BeautifulSoup 라이브러리를 이용해허 xml 파일 파싱해서 출력\n",
        "    with open(file_name, 'r', encoding='euc-kr') as f: # file open \n",
        "        xml_text = BeautifulSoup(f, \"html.parser\")\n",
        "        # print(xml_text)\n",
        "    \n",
        "    meta = xml_text.findAll('rexmetainfo')[0]\n",
        "\n",
        "    # 이미지 경로 설정 \n",
        "    image_id = file_name.split('.')[0].split('/')[-1] # Image000003\n",
        "    image_path = file_name.split('.')[0]+'.jpg' # /content/drive/MyDrive/TNT/KoreanCarObject/Dataset_for_LPR/Black-box_01/Image000003.jpg\n",
        "\n",
        "    # car info\n",
        "    car_bb_xmin, car_bb_ymin, car_bb_w, car_bb_h = meta.carinfo.rect.string.split(',')\n",
        "    car_bb_xmin, car_bb_ymin, car_bb_w, car_bb_h = int(car_bb_xmin), int(car_bb_ymin), int(car_bb_w), int(car_bb_h)\n",
        "    \n",
        "    # plate info\n",
        "    plate_bb_xmin, plate_bb_ymin, plate_bb_w, plate_bb_h = meta.plateinfo.rect.string.split(',')\n",
        "    plate_bb_xmin, plate_bb_ymin, plate_bb_w, plate_bb_h = int(plate_bb_xmin), int(plate_bb_ymin), int(plate_bb_w), int(plate_bb_h)\n",
        "    plate_type = meta.plateinfo.platetype.string\n",
        "    plate_code = meta.plateinfo.code.string\n",
        "\n",
        "    # save data \n",
        "    data = {'image_id' : image_id, \n",
        "            'car_bb_xmin' : car_bb_xmin, 'car_bb_ymin' : car_bb_ymin, 'car_bb_w' : car_bb_w, 'car_bb_h' : car_bb_h,\n",
        "            'plate_bb_xmin' : plate_bb_xmin, 'plate_bb_ymin' : plate_bb_ymin, 'plate_bb_w' : plate_bb_w, 'plate_bb_h' : plate_bb_h,\n",
        "            'plate_type' : plate_type, 'plate_code' : plate_code, 'image_path' : image_path}\n",
        "\n",
        "    return data\n",
        "\n",
        "\n",
        "temp_data = get_metadata('/content/drive/MyDrive/TNT/KoreanCarObject/Dataset_for_LPR/Black-box_01/Image000003.xml')\n",
        "temp_data"
      ],
      "execution_count": null,
      "outputs": []
    },
    {
      "cell_type": "code",
      "metadata": {
        "id": "ce6J8BdByqcz"
      },
      "source": [
        "Image('/content/drive/MyDrive/TNT/KoreanCarObject/Dataset_for_LPR/Black-box_01/Image000003.jpg')"
      ],
      "execution_count": null,
      "outputs": []
    },
    {
      "cell_type": "markdown",
      "metadata": {
        "id": "yW1mQcni5cbw"
      },
      "source": [
        "#**Drawing Bounding Box function**"
      ]
    },
    {
      "cell_type": "code",
      "metadata": {
        "id": "dPdV2oxv19jv"
      },
      "source": [
        "!pip install Pillow\n",
        "\n",
        "from PIL import Image # 이미지 처리\n",
        "import matplotlib.patches as patches # 도형 그리기\n",
        "# patches : 도형 설정\n",
        "# add_patch : 그래프에 도형 시각화\n",
        " \n",
        "def image_with_bb(data):\n",
        "    print(data.iloc[0,0]) # image_id 출력\n",
        "    img = Image.open(data.iloc[0,11]) # image 경로 open \n",
        "    plt.imshow(img) # 이미지 보여줌\n",
        "\n",
        "    # car bounding box\n",
        "    car_bb = patches.Rectangle((data.iloc[0, 1], data.iloc[0, 2]),\n",
        "                                data.iloc[0, 3], data.iloc[0, 4],\n",
        "                                linewidth=2,\n",
        "                                edgecolor='red',\n",
        "                                fill = False)\n",
        "    \n",
        "    # plate bounding box\n",
        "    plate_bb = patches.Rectangle((data.iloc[0, 5], data.iloc[0, 6]),\n",
        "                                 data.iloc[0, 7], data.iloc[0, 8],\n",
        "                                 linewidth=2,\n",
        "                                 edgecolor='blue',\n",
        "                                 fill = False)\n",
        "    ax = plt.gca()\n",
        "    ax.add_patch(car_bb) # 바운딩 박스 시각화 \n",
        "    ax.add_patch(plate_bb) \n",
        "\n",
        "    plt.axis('off')\n",
        "    plt.show()\n"
      ],
      "execution_count": null,
      "outputs": []
    },
    {
      "cell_type": "markdown",
      "metadata": {
        "id": "0ncVLw175zgy"
      },
      "source": [
        "# **Preprocessing Data**"
      ]
    },
    {
      "cell_type": "code",
      "metadata": {
        "id": "flg_5_4b3LTd"
      },
      "source": [
        "%cd /content/drive/MyDrive/TNT/KoreanCarObject/Dataset_for_LPR"
      ],
      "execution_count": null,
      "outputs": []
    },
    {
      "cell_type": "code",
      "metadata": {
        "id": "IfGmv-hC55AX"
      },
      "source": [
        "os.listdir() # 디렉토리 목록 불러오기 "
      ],
      "execution_count": null,
      "outputs": []
    },
    {
      "cell_type": "code",
      "metadata": {
        "id": "TecCgk1S6H96"
      },
      "source": [
        "black_box_list = os.listdir()[1:7]\n",
        "black_box_list"
      ],
      "execution_count": null,
      "outputs": []
    },
    {
      "cell_type": "code",
      "metadata": {
        "id": "BVRPkZfUDtK7"
      },
      "source": [
        "# 메타데이터 데이터프레임 정의\n",
        "meta_df = pd.DataFrame()"
      ],
      "execution_count": null,
      "outputs": []
    },
    {
      "cell_type": "code",
      "metadata": {
        "id": "O2hSPtvq6UC3"
      },
      "source": [
        "for dir in tqdm(black_box_list): # 진행바 표시\n",
        "    xml_file_lists = [os.path.join(os.getcwd(),dir+'/'+_) \n",
        "    for _ in os.listdir(dir) if _.endswith('.xml')]\n",
        "    for file in tqdm(xml_file_lists):\n",
        "        data = get_metadata(file)\n",
        "        meta_df = meta_df.append(data, ignore_index=True) # 인덱스 없이 데이터 프레임 생성\n",
        "\n",
        "    # os.getcwd() : 현재 자신의 위치 표시\n",
        "    # os.path.join\n",
        "    # /content/drive/MyDrive/TNT/KoreaCarObject/Dataset_for_LPR/Black-box_01/_\n",
        "    # for _\n",
        "    # /content/drive/MyDrive/TNT/KoreaCarObject/Dataset_for_LPR/Black-box_01/Image000003.xml"
      ],
      "execution_count": null,
      "outputs": []
    },
    {
      "cell_type": "code",
      "metadata": {
        "id": "bZDDUwFsEHot"
      },
      "source": [
        "# 메타데이터 인덱스 생성\n",
        "meta_df = meta_df[['image_id', 'car_bb_xmin', 'car_bb_ymin', 'car_bb_w', 'car_bb_h', \n",
        "                   'plate_bb_xmin', 'plate_bb_ymin', 'plate_bb_w', 'plate_bb_h',  \n",
        "                   'plate_code', 'plate_type', 'image_path']]\n",
        "meta_df"
      ],
      "execution_count": null,
      "outputs": []
    },
    {
      "cell_type": "code",
      "metadata": {
        "id": "nZVT_Im0Ej0R"
      },
      "source": [
        "# 데이터프레임 -> csv 파일 저장\n",
        "meta_df.to_csv('meta_df.csv', index = False)"
      ],
      "execution_count": null,
      "outputs": []
    },
    {
      "cell_type": "markdown",
      "metadata": {
        "id": "WVTPblF-Ig_A"
      },
      "source": [
        "# **Confirm data**"
      ]
    },
    {
      "cell_type": "code",
      "metadata": {
        "id": "Td499mVfEmC3"
      },
      "source": [
        "index = list(set(meta_df.image_id)) # image_id만 담긴 리스트 구성\n",
        "random_img = random.choice(index) # 랜덤하게 image_id 선택\n",
        "image_data = meta_df[meta_df['image_id']==random_img] # meta_df 에서 해당 행 반환\n",
        "image_with_bb(image_data) # 바운딩 박스 그려진 이미지 반환"
      ],
      "execution_count": null,
      "outputs": []
    },
    {
      "cell_type": "markdown",
      "metadata": {
        "id": "Y8htqOLzIy-g"
      },
      "source": [
        "# **데이터 정리**"
      ]
    },
    {
      "cell_type": "code",
      "metadata": {
        "id": "FxFi-mOFFmVw"
      },
      "source": [
        "%cd /content/drive/MyDrive/TNT/KoreanCarObject/Dataset_for_LPR"
      ],
      "execution_count": null,
      "outputs": []
    },
    {
      "cell_type": "code",
      "metadata": {
        "id": "lmOnprDiI15k"
      },
      "source": [
        "dir = os.listdir()[1:7] # Black-box_01:Black-box_06"
      ],
      "execution_count": null,
      "outputs": []
    },
    {
      "cell_type": "code",
      "metadata": {
        "id": "owpGup3zJF42"
      },
      "source": [
        "for folder in tqdm(dir):\n",
        "    file_list = os.listdir(folder) # Black-box_\n",
        "    xml_files = [file for file in file_list if file.endswith(\".xml\")] # xml 파일명 리스트  \n",
        "    img_files = [file for file in file_list if file.endswith(\".jpg\")] # jpg 파일명 리스트 \n",
        "\n",
        "    # annotations 폴더로 xml 파일 이동\n",
        "    for xml_file_name in xml_files :\n",
        "        src_path = os.path.join(folder,xml_file_name) # xml 파일 경로 \n",
        "        target_path = os.path.join('annotations', xml_file_name)\n",
        "        sh.move(src_path, target_path)\n",
        "\n",
        "    # images 폴더로 jpg 파일 이동\n",
        "    for img_file_name in img_files:\n",
        "        src_path = os.path.join(folder,img_file_name)\n",
        "        target_path = os.path.join('images', img_file_name)\n",
        "        sh.move(src_path, target_path)"
      ],
      "execution_count": null,
      "outputs": []
    },
    {
      "cell_type": "code",
      "metadata": {
        "id": "z6CdCsjmJpoJ"
      },
      "source": [
        "len(os.listdir('annotations'))"
      ],
      "execution_count": null,
      "outputs": []
    },
    {
      "cell_type": "code",
      "metadata": {
        "id": "xyFxLrITLMDs"
      },
      "source": [
        "len(os.listdir('images'))"
      ],
      "execution_count": null,
      "outputs": []
    },
    {
      "cell_type": "markdown",
      "metadata": {
        "id": "R5aww_vzLifY"
      },
      "source": [
        "# **train, test split**"
      ]
    },
    {
      "cell_type": "code",
      "metadata": {
        "id": "fUATRt56LN4X"
      },
      "source": [
        "data = pd.read_csv('/content/drive/MyDrive/TNT/KoreanCarObject/Dataset_for_LPR/meta_df.csv')\n",
        "data"
      ],
      "execution_count": null,
      "outputs": []
    },
    {
      "cell_type": "code",
      "metadata": {
        "id": "8Z8A8Q7VLeuw"
      },
      "source": [
        "# train 0.6 test 0.4 비율로 데이터 분할 \n",
        "from sklearn.model_selection import train_test_split\n",
        "train, test = train_test_split(data, test_size=0.4, shuffle=True)"
      ],
      "execution_count": null,
      "outputs": []
    },
    {
      "cell_type": "code",
      "metadata": {
        "id": "lzNrAF21QImk"
      },
      "source": [
        "train"
      ],
      "execution_count": null,
      "outputs": []
    },
    {
      "cell_type": "code",
      "metadata": {
        "id": "UA8L0F-5QO83"
      },
      "source": [
        "test"
      ],
      "execution_count": null,
      "outputs": []
    },
    {
      "cell_type": "code",
      "metadata": {
        "id": "ImvP9TuxQRG2"
      },
      "source": [
        "# csv 파일로 저장\n",
        "train.to_csv('train.csv', index=False)\n",
        "test.to_csv('test.csv', index=False)"
      ],
      "execution_count": null,
      "outputs": []
    },
    {
      "cell_type": "code",
      "metadata": {
        "id": "ZNA6broIQhis"
      },
      "source": [
        "# images 폴더 내 이미지들을 -> train_images, test_images 로 분할해서 저장\n",
        "train_img_list = train['image_id']\n",
        "test_img_list = test['image_id']\n",
        "\n",
        "base_path = \"/content/drive/MyDrive/TNT/KoreanCarObject/LPRdata/images\"\n",
        "\n",
        "for img in tqdm(train_img_list):\n",
        "    src_path = os.path.join('images',img+'.jpg')\n",
        "    target_path = os.path.join(base_path,'train',img+'.jpg')\n",
        "    sh.move(src_path, target_path)\n",
        "\n",
        "for img in tqdm(test_img_list):\n",
        "    src_path = os.path.join('images',img+'.jpg')\n",
        "    target_path = os.path.join(base_path,'valid',img+'.jpg')\n",
        "    sh.move(src_path, target_path)"
      ],
      "execution_count": null,
      "outputs": []
    },
    {
      "cell_type": "code",
      "metadata": {
        "id": "iU0gcLRfRsM8"
      },
      "source": [
        "len(os.listdir('train_images'))"
      ],
      "execution_count": null,
      "outputs": []
    },
    {
      "cell_type": "code",
      "metadata": {
        "id": "GSFeczgpRxBB"
      },
      "source": [
        "len(os.listdir('test_images'))"
      ],
      "execution_count": null,
      "outputs": []
    },
    {
      "cell_type": "code",
      "metadata": {
        "id": "3WWVA-UyRzT2"
      },
      "source": [
        ""
      ],
      "execution_count": null,
      "outputs": []
    }
  ]
}