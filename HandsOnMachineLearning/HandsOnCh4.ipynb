{
  "nbformat": 4,
  "nbformat_minor": 0,
  "metadata": {
    "colab": {
      "name": "HandsOnCh4.ipynb",
      "private_outputs": true,
      "provenance": [],
      "include_colab_link": true
    },
    "kernelspec": {
      "name": "python3",
      "display_name": "Python 3"
    }
  },
  "cells": [
    {
      "cell_type": "markdown",
      "metadata": {
        "id": "view-in-github",
        "colab_type": "text"
      },
      "source": [
        "<a href=\"https://colab.research.google.com/github/7ZXU/AI/blob/main/HandsOnMachineLearning/HandsOnCh4.ipynb\" target=\"_parent\"><img src=\"https://colab.research.google.com/assets/colab-badge.svg\" alt=\"Open In Colab\"/></a>"
      ]
    },
    {
      "cell_type": "markdown",
      "metadata": {
        "id": "NJOpgMxqjpr-"
      },
      "source": [
        "##**4.1 선형회귀**\n",
        "**4.1.1 정규방정식**\n",
        "\n",
        "\n",
        "비용함수 최소화하는 세타값 바로 구하는 공식"
      ]
    },
    {
      "cell_type": "code",
      "metadata": {
        "id": "-HZIht4kjbNM"
      },
      "source": [
        "import numpy as np\n",
        "#선형 데이터 생성\n",
        "X=2*np.random.rand(100,1)\n",
        "y=4+3*X+np.random.randn(100,1) \n",
        "#############.randn\n",
        "#가우시안_잡음\n",
        "#잡음이 추가된 데이터 생성"
      ],
      "execution_count": null,
      "outputs": []
    },
    {
      "cell_type": "code",
      "metadata": {
        "id": "p7urI_r9kiqR"
      },
      "source": [
        "import os\n",
        "import matplotlib\n",
        "import matplotlib.pyplot as plt\n",
        "import seaborn as sns\n",
        "\n",
        "plt.plot(X,y,\"b.\")\n",
        "plt.xlabel(\"$x_1$\", fontsize=18)\n",
        "plt.ylabel(\"$y$\", rotation=0,fontsize=18)\n",
        "plt.axis([0,2,0,15])\n",
        "plt.show()"
      ],
      "execution_count": null,
      "outputs": []
    },
    {
      "cell_type": "code",
      "metadata": {
        "id": "V4jChaBklKox"
      },
      "source": [
        "X_b=np.c_[np.ones((100,1)),X]\n",
        "theta_best = np.linalg.inv(X_b.T.dot(X_b)).dot(X_b.T).dot(y)\n",
        "#정규방정식\n",
        "#np.linalg #module #선형대수 \n",
        "#inv() #함수 #역행렬계산\n",
        "#dot() #method #행렬곱셉\n",
        "\n",
        "theta_best \n",
        "#최적화 theta 계산\n",
        "#가우시안 잡음 때문에 정확히 재현해내지 못함\n",
        "\n",
        "#정규방정식이 가장 정확"
      ],
      "execution_count": null,
      "outputs": []
    },
    {
      "cell_type": "code",
      "metadata": {
        "id": "eHhJE4Ynlv9R"
      },
      "source": [
        "#theata 사용 예측\n",
        "\n",
        "X_new = np.array([[0], [2]])\n",
        "X_new_b = np.c_[np.ones((2,1)), X_new] \n",
        "##############모든 샘플에 x0=1추가\n",
        "y_predict = X_new_b.dot(theta_best)\n",
        "y_predict\n",
        "\n"
      ],
      "execution_count": null,
      "outputs": []
    },
    {
      "cell_type": "code",
      "metadata": {
        "id": "7kvyKdmZnGlO"
      },
      "source": [
        "plt.plot(X_new, y_predict, \"r-\", linewidth=2, label=\"예측\")\n",
        "plt.plot(X, y, \"b.\")\n",
        "plt.xlabel(\"$x_1$\", fontsize=18)\n",
        "plt.ylabel(\"$y$\", rotation=0, fontsize=18)\n",
        "plt.legend(loc=\"upper left\", fontsize=14)\n",
        "plt.axis([0, 2, 0, 15])\n",
        "plt.show()"
      ],
      "execution_count": null,
      "outputs": []
    },
    {
      "cell_type": "markdown",
      "metadata": {
        "id": "UCTVma9-nYg0"
      },
      "source": [
        "**Scikit-Learn에서 LinearRegression 사용하기**"
      ]
    },
    {
      "cell_type": "code",
      "metadata": {
        "id": "STDQT7yvnQIK"
      },
      "source": [
        "from sklearn.linear_model import LinearRegression\n",
        "\n",
        "lin_reg = LinearRegression()\n",
        "lin_reg.fit(X,y)"
      ],
      "execution_count": null,
      "outputs": []
    },
    {
      "cell_type": "code",
      "metadata": {
        "id": "o5ubdI4_nqZl"
      },
      "source": [
        "lin_reg.intercept_, lin_reg.coef_\n",
        "#intercept_ #편향\n",
        "#coef_ #가중치\n",
        "#편향과 가중치 분리하여 저장"
      ],
      "execution_count": null,
      "outputs": []
    },
    {
      "cell_type": "code",
      "metadata": {
        "id": "bZBR_7uWn1Ao"
      },
      "source": [
        "lin_reg.predict(X_new)"
      ],
      "execution_count": null,
      "outputs": []
    },
    {
      "cell_type": "markdown",
      "metadata": {
        "id": "s5nbje_koLb2"
      },
      "source": [
        "##**4.2 경사하강법**\n",
        "**4.2.1 경사하강법**"
      ]
    },
    {
      "cell_type": "code",
      "metadata": {
        "id": "oRFsGAXnoEsd"
      },
      "source": [
        "eta = 0.1 #learning rate\n",
        "#오차 = 실제값-예측값\n",
        "#파라미터 공간에 얼마만큼의 영향력을 행사할지 직접 정하는 hyperaprameter\n",
        "n_iterations = 1000\n",
        "m=100\n",
        "\n",
        "weight = np.random.randn(2,1) #random init\n",
        "\n",
        "for step in range(n_iterations) : \n",
        "    gradients = 2/m * X_b.T.dot(X_b.dot(weight) - y)\n",
        "    weight = weight - eta*gradients \n",
        "\n",
        "    if (step+1) % 200 == 0:\n",
        "        print('Step : {:04d}, weight = \\n {}'.format(step+1, weight))\n",
        "\n",
        "\n",
        "print(\"최종 결과값 : \\n{}\".format(weight))"
      ],
      "execution_count": null,
      "outputs": []
    },
    {
      "cell_type": "markdown",
      "metadata": {
        "id": "eUmSuTZorzgD"
      },
      "source": [
        "**4.2.2 확률적 경사 하강법**"
      ]
    },
    {
      "cell_type": "code",
      "metadata": {
        "id": "yA14k01mrDwV"
      },
      "source": [
        "weight_path_sgd = []\n",
        "m=len(X_b)\n",
        "np.random.seed(42)"
      ],
      "execution_count": null,
      "outputs": []
    },
    {
      "cell_type": "code",
      "metadata": {
        "id": "4bXpw-nYsyRx"
      },
      "source": [
        "n_epochs=50\n",
        "t0, t1 = 5, 50 \n",
        "#학습 스케줄 hyperparameter\n",
        "#learning rate schedule\n",
        "#매 반복에서 학습률 결정\n",
        "\n",
        "def learning_schedule(t):\n",
        "    return t0 / (t+t1)\n",
        "weight = np.random.randn(2,1) #random init\n",
        "\n",
        "for epoch in range(n_epochs): #epoch #반복\n",
        "    for i in range(m): #m #훈련 샘플 수 \n",
        "        random_index = np.random.randint(m)\n",
        "        xi = X_b[random_index : random_index+1]\n",
        "        yi = y[random_index : random_index+1]\n",
        "        gradients = 2* xi.T.dot(xi.dot(weight)-yi)\n",
        "        eta = learning_schedule(epoch*m+i)\n",
        "        weight = weight - eta*gradients"
      ],
      "execution_count": null,
      "outputs": []
    },
    {
      "cell_type": "code",
      "metadata": {
        "id": "k-O2rdJus1hG"
      },
      "source": [
        "weight"
      ],
      "execution_count": null,
      "outputs": []
    },
    {
      "cell_type": "code",
      "metadata": {
        "id": "TqwhUpLXuM6H"
      },
      "source": [
        "from sklearn.linear_model import SGDRegressor #제곱오차함수 최적화\n",
        "sgd_reg = SGDRegressor(\n",
        "    max_iter=50, #반복횟수\n",
        "    penalty=None, \n",
        "    eta0=0.1, #학습률\n",
        "    random_state=42\n",
        "    )\n",
        "\n",
        "sgd_reg.fit(X, y.ravel())\n"
      ],
      "execution_count": null,
      "outputs": []
    },
    {
      "cell_type": "code",
      "metadata": {
        "id": "XtDDQ3yquyqB"
      },
      "source": [
        "sgd_reg.intercept_, sgd_reg.coef_"
      ],
      "execution_count": null,
      "outputs": []
    },
    {
      "cell_type": "markdown",
      "metadata": {
        "id": "YP2zaNxkvH6i"
      },
      "source": [
        "**4.2.3 미니배치 경사 하강법**\n",
        "\n",
        "매 스텝에서 미니 배치 추출하여 gradient 계산\n",
        "\n",
        "행렬연산에 최적화된 하드웨어, GPU 에서 빠르게 수행\n",
        "\n",
        "- 장점 : 덜 불규칙하게 감소 \n",
        "- 당점 : local minimum 빠질 확률 높음"
      ]
    },
    {
      "cell_type": "markdown",
      "metadata": {
        "id": "hUvUznIpvxJv"
      },
      "source": [
        "##**4.3 다항회귀(Polynomial Regression)**\n",
        "\n",
        "선형 모델로 비선형 데이터 학습\n",
        "방법 : 특성의 거듭제곱을 새로운 특성으로 추가\n"
      ]
    },
    {
      "cell_type": "code",
      "metadata": {
        "id": "yKcXxF6wvGEt"
      },
      "source": [
        "#2차 방정식 #비선형 데이터셋\n",
        "m=100\n",
        "X=6*np.random.rand(m,1)-3\n",
        "y=0.5*X**2+X+2+np.random.randn(m, 1)"
      ],
      "execution_count": null,
      "outputs": []
    },
    {
      "cell_type": "code",
      "metadata": {
        "id": "rlRkMnBRy2B0"
      },
      "source": [
        "from sklearn.preprocessing import PolynomialFeatures\n",
        "\n",
        "poly_features = PolynomialFeatures(degree=2, include_bias=False)\n",
        "#제곱함수\n",
        "\n",
        "X_poly = poly_features.fit_transform(X)\n",
        "print('X[0]:', X[0])\n",
        "print('X_poly[0]:', X_poly[0])\n",
        "#[특성, 특성**2]"
      ],
      "execution_count": null,
      "outputs": []
    },
    {
      "cell_type": "code",
      "metadata": {
        "id": "DXkt-Rr2zl5B"
      },
      "source": [
        "lin_reg = LinearRegression()\n",
        "lin_reg.fit(X_poly, y) #훈련"
      ],
      "execution_count": null,
      "outputs": []
    },
    {
      "cell_type": "code",
      "metadata": {
        "id": "WYfTtkjZz7nq"
      },
      "source": [
        "lin_reg.intercept_, lin_reg.coef_"
      ],
      "execution_count": null,
      "outputs": []
    },
    {
      "cell_type": "markdown",
      "metadata": {
        "id": "DMh6CkzS0sHc"
      },
      "source": [
        "##**4.4 학습곡선(Learning Curve)**\n",
        "\n",
        "고차 다항회귀는 선형회귀보다 train set에 overfitting될 위험이 크다 \n",
        "\n",
        "따라서 과적합 확인하는 방법 -> 학습곡선"
      ]
    },
    {
      "cell_type": "code",
      "metadata": {
        "id": "lSpcPdk-0Atq"
      },
      "source": [
        "from sklearn.metrics import mean_squared_error\n",
        "from sklearn.model_selection import train_test_split\n",
        "\n",
        "def plot_learning_curves(model, X, y):\n",
        "    X_train, X_val, y_train, y_val = train_test_split(\n",
        "        X, y, test_size=0.2, random_state=10 \n",
        "                                                      )\n",
        "    train_errors, val_errors = [], []\n",
        "    \n",
        "    for m in range(1, len(X_train)):\n",
        "        model.fit(X_train[:m],y_train[:m])\n",
        "        y_train_predict = model.predict(X_train[:m])\n",
        "        y_val_predict = model.predict(X_val)\n",
        "        train_errors.append( #훈련오차\n",
        "            mean_squared_error(\n",
        "                y_train[:m], y_train_predict))\n",
        "        val_errors.append( #검증오차\n",
        "            mean_squared_error(\n",
        "                y_val, y_val_predict)\n",
        "            )\n",
        "        \n",
        "        plt.plot(np.sqrt(train_errors),\"r-+\", linewidth=2,label=\"훈련\")\n",
        "        plt.plot(np.sqrt(val_errors), \"b-\", linewidth=3, label=\"검증\")\n",
        "        plt.legend(loc=\"upper right\", fontsize=14)\n",
        "        plt.xlabel(\"훈련세트크기\",fontsize=14)\n",
        "        plt.ylabel(\"RMSE\", fontsize=14)\n",
        "\n",
        "    "
      ],
      "execution_count": null,
      "outputs": []
    },
    {
      "cell_type": "code",
      "metadata": {
        "id": "NPvrs4iV3rGU"
      },
      "source": [
        "lin_reg = LinearRegression()\n",
        "plot_learning_curves(lin_reg, X, y)\n",
        "plt.axis([0,80,0,3])\n",
        "plt.show()\n",
        "\n",
        "#과소적합모델 해결방법\n",
        "#1 더 복잡한 모델 사용\n",
        "#2 더 나은 특성 사용"
      ],
      "execution_count": null,
      "outputs": []
    },
    {
      "cell_type": "code",
      "metadata": {
        "id": "MvffnzG932oZ"
      },
      "source": [
        "from sklearn.pipeline import Pipeline\n",
        "polynominal_regression = Pipeline([\n",
        "        (\"poly_features\", PolynomialFeatures(\n",
        "            degree=10, include_bias=False\n",
        "        )), #10차 다항회귀모델\n",
        "        (\"lin_reg\", LinearRegression()),\n",
        "])\n",
        "\n",
        "plot_learning_curves(polynominal_regression, X, y)\n",
        "plt.axis([0,80,0,3])\n",
        "plt.show()\n",
        "\n",
        "\n",
        "#과대적합 모델 \n",
        "#훈련데이터 오차는 선형회귀보다 낮다 \n",
        "\n",
        "#과대적합 해결방법\n",
        "#더 많은 훈련 데이터 추가 "
      ],
      "execution_count": null,
      "outputs": []
    },
    {
      "cell_type": "markdown",
      "metadata": {
        "id": "_1Nqje0U5xcR"
      },
      "source": [
        "##**4.5 규제(Regularization)가 있는 선형 모델**\n",
        "**4.5.1 릿지회귀(Ridge Regression)**"
      ]
    },
    {
      "cell_type": "code",
      "metadata": {
        "id": "Exn-7X_L5nNE"
      },
      "source": [
        "from sklearn.linear_model import Ridge\n",
        "from sklearn.preprocessing import StandardScaler\n",
        "\n",
        "np.random.seed(42)\n",
        "m = 20\n",
        "X = 3 * np.random.rand(m, 1)\n",
        "y = 1 + 0.5 * X + np.random.randn(m, 1) / 1.5\n",
        "X_new = np.linspace(0, 3, 100).reshape(100, 1)\n",
        "\n",
        "def plot_model(model_class, polynomial, alphas, **model_kargs):\n",
        "    for alpha, style in zip(alphas, (\"b-\", \"g--\", \"r:\")):\n",
        "        model = model_class(alpha, **model_kargs) if alpha > 0 else LinearRegression()\n",
        "        if polynomial:\n",
        "            model = Pipeline([\n",
        "                    (\"poly_features\", PolynomialFeatures(degree=10, include_bias=False)),\n",
        "                    (\"std_scaler\", StandardScaler()),\n",
        "                    (\"regul_reg\", model),\n",
        "                ])\n",
        "        model.fit(X, y)\n",
        "        y_new_regul = model.predict(X_new)\n",
        "        lw = 2 if alpha > 0 else 1\n",
        "        plt.plot(X_new, y_new_regul, style, linewidth=lw, label=r\"$\\alpha = {}$\".format(alpha))\n",
        "    plt.plot(X, y, \"b.\", linewidth=3)\n",
        "    plt.legend(loc=\"upper left\", fontsize=15)\n",
        "    plt.xlabel(\"$x_1$\", fontsize=18)\n",
        "    plt.axis([0, 3, 0, 4])\n",
        "\n",
        "plt.figure(figsize=(10,4))\n",
        "plt.subplot(121)\n",
        "plot_model(Ridge, polynomial=False, alphas=(0, 10, 100), random_state=42)\n",
        "plt.ylabel(\"$y$\", rotation=0, fontsize=18)\n",
        "plt.subplot(122)\n",
        "plot_model(Ridge, polynomial=True, alphas=(0, 10**-5, 1), random_state=42)\n",
        "\n",
        "plt.show()"
      ],
      "execution_count": null,
      "outputs": []
    },
    {
      "cell_type": "code",
      "metadata": {
        "id": "zA8K67pT9qf2"
      },
      "source": [
        "from sklearn.linear_model import Ridge\n",
        "\n",
        "ridge_reg = Ridge(alpha=1, solver='cholesky', random_state=42)  # alpha == lambda\n",
        "ridge_reg.fit(X, y)"
      ],
      "execution_count": null,
      "outputs": []
    },
    {
      "cell_type": "code",
      "metadata": {
        "id": "NWSMSqcB-HZT"
      },
      "source": [
        "ridge_reg.predict([[1.5]])"
      ],
      "execution_count": null,
      "outputs": []
    },
    {
      "cell_type": "markdown",
      "metadata": {
        "id": "5yGfQKmB-jCN"
      },
      "source": [
        "**4.5.2 라쏘 회귀**"
      ]
    },
    {
      "cell_type": "code",
      "metadata": {
        "id": "km1moMvq-JE7"
      },
      "source": [
        "from sklearn.linear_model import Lasso\n",
        "\n",
        "plt.figure(figsize=(10,4))\n",
        "plt.subplot(121)\n",
        "plot_model(Lasso, polynomial=False, alphas=(0, 0.1, 1), random_state=42)\n",
        "plt.ylabel(\"$y$\", rotation=0, fontsize=18)\n",
        "plt.subplot(122)\n",
        "plot_model(Lasso, polynomial=True, alphas=(0, 10**-7, 1), tol=1, random_state=42)\n",
        "plt.show()"
      ],
      "execution_count": null,
      "outputs": []
    },
    {
      "cell_type": "code",
      "metadata": {
        "id": "MKci69JE-og4"
      },
      "source": [
        "from sklearn.linear_model import Lasso\n",
        "lasso_reg = Lasso(alpha=0.1)\n",
        "lasso_reg.fit(X, y)"
      ],
      "execution_count": null,
      "outputs": []
    },
    {
      "cell_type": "code",
      "metadata": {
        "id": "nKd9aNh0-w4B"
      },
      "source": [
        "lasso_reg.predict([[1.5]])"
      ],
      "execution_count": null,
      "outputs": []
    },
    {
      "cell_type": "code",
      "metadata": {
        "id": "qO-dx8Hz-yRW"
      },
      "source": [
        "sgd_reg = SGDRegressor(max_iter=5, penalty=\"l1\", random_state=42)\n",
        "sgd_reg.fit(X, y.ravel())\n",
        "sgd_reg.predict([[1.5]])"
      ],
      "execution_count": null,
      "outputs": []
    },
    {
      "cell_type": "markdown",
      "metadata": {
        "id": "SRUWLh0N-5Hy"
      },
      "source": [
        "**4.5.3 ElasticNet**"
      ]
    },
    {
      "cell_type": "code",
      "metadata": {
        "id": "AXuy_xWa-2td"
      },
      "source": [
        "from sklearn.linear_model import ElasticNet\n",
        "\n",
        "elastic_net = ElasticNet(alpha=0.1, l1_ratio=0.5, random_state=42)\n",
        "elastic_net.fit(X, y)\n",
        "elastic_net.predict([[1.5]])"
      ],
      "execution_count": null,
      "outputs": []
    },
    {
      "cell_type": "code",
      "metadata": {
        "id": "5iY6qgNQAU-9"
      },
      "source": [
        "plt.figure(figsize=(10,4))\n",
        "plt.subplot(121)\n",
        "plot_model(ElasticNet, polynomial=False, alphas=(0, 0.1, 1), random_state=42)\n",
        "plt.ylabel(\"$y$\", rotation=0, fontsize=18)\n",
        "plt.subplot(122)\n",
        "plot_model(ElasticNet, polynomial=True, alphas=(0, 10**-7, 1), tol=1, random_state=42)\n",
        "plt.show()"
      ],
      "execution_count": null,
      "outputs": []
    },
    {
      "cell_type": "markdown",
      "metadata": {
        "id": "sP61Ir7lBnBr"
      },
      "source": [
        "**4.5.4 조기 종료**\n",
        "\n",
        "최솟값에 도달하면 학습 스텝이 남았더라도 학습 중지\n",
        "\n"
      ]
    },
    {
      "cell_type": "code",
      "metadata": {
        "id": "eghheZoiAW1B"
      },
      "source": [
        "np.random.seed(42)\n",
        "m = 100\n",
        "X = 6 * np.random.rand(m, 1) - 3\n",
        "y = 2 + X + 0.5 * X**2 + np.random.randn(m, 1)\n",
        "\n",
        "X_train, X_val, y_train, y_val = train_test_split(X[:50], y[:50].ravel(), test_size=0.5, random_state=10)\n",
        "\n",
        "poly_scaler = Pipeline([\n",
        "        (\"poly_features\", PolynomialFeatures(degree=90, include_bias=False)),\n",
        "        (\"std_scaler\", StandardScaler()),\n",
        "    ])\n",
        "\n",
        "X_train_poly_scaled = poly_scaler.fit_transform(X_train)\n",
        "X_val_poly_scaled = poly_scaler.transform(X_val)\n",
        "\n",
        "sgd_reg = SGDRegressor(max_iter=1,\n",
        "                       penalty=None,\n",
        "                       eta0=0.0005,\n",
        "                       warm_start=True,\n",
        "                       learning_rate=\"constant\",\n",
        "                       random_state=42)\n",
        "\n",
        "n_epochs = 500\n",
        "train_errors, val_errors = [], []\n",
        "for epoch in range(n_epochs):\n",
        "    sgd_reg.fit(X_train_poly_scaled, y_train)\n",
        "    y_train_predict = sgd_reg.predict(X_train_poly_scaled)\n",
        "    y_val_predict = sgd_reg.predict(X_val_poly_scaled)\n",
        "    train_errors.append(mean_squared_error(y_train, y_train_predict))\n",
        "    val_errors.append(mean_squared_error(y_val, y_val_predict))\n",
        "\n",
        "best_epoch = np.argmin(val_errors)\n",
        "best_val_rmse = np.sqrt(val_errors[best_epoch])\n",
        "\n",
        "plt.annotate('최선의 모델',\n",
        "             xy=(best_epoch, best_val_rmse),\n",
        "             xytext=(best_epoch, best_val_rmse + 1),\n",
        "             ha=\"center\",\n",
        "             arrowprops=dict(facecolor='black', shrink=0.05),\n",
        "             fontsize=16,\n",
        "            )\n",
        "\n",
        "best_val_rmse -= 0.03  # just to make the graph look better\n",
        "plt.plot([0, n_epochs], [best_val_rmse, best_val_rmse], \"k:\", linewidth=2)\n",
        "plt.plot(np.sqrt(val_errors), \"b-\", linewidth=3, label=\"검증 세트\")\n",
        "plt.plot(np.sqrt(train_errors), \"r--\", linewidth=2, label=\"훈련 세트\")\n",
        "plt.legend(loc=\"upper right\", fontsize=14)\n",
        "plt.xlabel(\"에포크\", fontsize=14)\n",
        "plt.ylabel(\"RMSE\", fontsize=14)\n",
        "plt.show()"
      ],
      "execution_count": null,
      "outputs": []
    },
    {
      "cell_type": "markdown",
      "metadata": {
        "id": "bJqZohChB4Yj"
      },
      "source": [
        "##**4.6 로지스틱회귀**\n",
        "\n",
        "이진 분류 알고리즘 중 하나"
      ]
    },
    {
      "cell_type": "markdown",
      "metadata": {
        "id": "s-PcUD72B9rq"
      },
      "source": [
        "**4.6.1 확률 추정**"
      ]
    },
    {
      "cell_type": "code",
      "metadata": {
        "id": "KnwQtQORB26j"
      },
      "source": [
        "t = np.linspace(-10, 10, 100)\n",
        "sig = 1 / (1 + np.exp(-t))\n",
        "\n",
        "plt.figure(figsize=(9, 3))\n",
        "plt.plot([-10, 10], [0, 0], \"k-\")\n",
        "plt.plot([-10, 10], [0.5, 0.5], \"k:\")\n",
        "plt.plot([-10, 10], [1, 1], \"k:\")\n",
        "plt.plot([0, 0], [-1.1, 1.1], \"k-\")\n",
        "plt.plot(t, sig, \"b-\", linewidth=2, label=r\"$\\sigma(t) = \\frac{1}{1 + e^{-t}}$\")\n",
        "plt.xlabel(\"t\")\n",
        "plt.legend(loc=\"upper left\", fontsize=20)\n",
        "plt.axis([-10, 10, -0.1, 1.1])\n",
        "plt.show()"
      ],
      "execution_count": null,
      "outputs": []
    },
    {
      "cell_type": "markdown",
      "metadata": {
        "id": "tovwEJzzCEsX"
      },
      "source": [
        "**4.6.2 훈련과 비용 함수**"
      ]
    },
    {
      "cell_type": "markdown",
      "metadata": {
        "id": "WKuEfi-oCJGR"
      },
      "source": [
        "**4.6.3 결정 경계**"
      ]
    },
    {
      "cell_type": "code",
      "metadata": {
        "id": "8zfLDLhVCDDn"
      },
      "source": [
        "from sklearn import datasets\n",
        "\n",
        "iris = datasets.load_iris()\n",
        "list(iris.keys())"
      ],
      "execution_count": null,
      "outputs": []
    },
    {
      "cell_type": "code",
      "metadata": {
        "id": "hNF-hvSwCOZK"
      },
      "source": [
        "print(iris.DESCR)"
      ],
      "execution_count": null,
      "outputs": []
    },
    {
      "cell_type": "code",
      "metadata": {
        "id": "-XfximdVCQAj"
      },
      "source": [
        "import pandas as pd"
      ],
      "execution_count": null,
      "outputs": []
    },
    {
      "cell_type": "code",
      "metadata": {
        "id": "wmfENDmNCR-r"
      },
      "source": [
        "iris_df = pd.DataFrame(iris['data'], columns=iris.feature_names)\n",
        "iris_df.head()"
      ],
      "execution_count": null,
      "outputs": []
    },
    {
      "cell_type": "code",
      "metadata": {
        "id": "7VzZkEBNCTid"
      },
      "source": [
        "iris_df.describe()"
      ],
      "execution_count": null,
      "outputs": []
    },
    {
      "cell_type": "markdown",
      "metadata": {
        "id": "7IK8CLgXCWd1"
      },
      "source": [
        "**Pental width 이용한 Verginca종 분류기 구현**\n",
        "\n",
        "꽃잎 너비 이용해서 종 분류"
      ]
    },
    {
      "cell_type": "code",
      "metadata": {
        "id": "u1Lp2PiwCVZT"
      },
      "source": [
        "X = iris['data'][:, 3:]  # 꽃잎 너비\n",
        "y = (iris['target'] == 2).astype(np.int)  # Verginca == 1"
      ],
      "execution_count": null,
      "outputs": []
    },
    {
      "cell_type": "code",
      "metadata": {
        "id": "FIbGmtd4Cl37"
      },
      "source": [
        "from sklearn.linear_model import LogisticRegression\n",
        "\n",
        "log_reg = LogisticRegression(random_state=42)\n",
        "log_reg.fit(X, y)"
      ],
      "execution_count": null,
      "outputs": []
    },
    {
      "cell_type": "code",
      "metadata": {
        "id": "9LJJIy_nCm9m"
      },
      "source": [
        "X_new = np.linspace(0, 3, 1000).reshape(-1, 1)\n",
        "y_proba = log_reg.predict_proba(X_new)\n",
        "decision_boundary = X_new[y_proba[:, 1] >= 0.5][0]\n",
        "\n",
        "plt.figure(figsize=(8, 3))\n",
        "plt.plot(X[y==0], y[y==0], \"bs\")\n",
        "plt.plot(X[y==1], y[y==1], \"g^\")\n",
        "plt.plot([decision_boundary, decision_boundary], [-1, 2], \"k:\", linewidth=2)\n",
        "plt.plot(X_new, y_proba[:, 1], \"g-\", linewidth=2, label=\"Iris-Virginica\")\n",
        "plt.plot(X_new, y_proba[:, 0], \"b--\", linewidth=2, label=\"Not Iris-Virginica\")\n",
        "plt.text(decision_boundary+0.02, 0.15, \"결정 경계\", fontsize=14, color=\"k\", ha=\"center\")\n",
        "plt.arrow(decision_boundary, 0.08, -0.3, 0, head_width=0.05, head_length=0.1, fc='b', ec='b')\n",
        "plt.arrow(decision_boundary, 0.92, 0.3, 0, head_width=0.05, head_length=0.1, fc='g', ec='g')\n",
        "plt.xlabel(\"꽃잎의 폭 (cm)\", fontsize=14)\n",
        "plt.ylabel(\"확률\", fontsize=14)\n",
        "plt.legend(loc=\"center left\", fontsize=14)\n",
        "plt.axis([0, 3, -0.02, 1.02])\n",
        "plt.show()"
      ],
      "execution_count": null,
      "outputs": []
    },
    {
      "cell_type": "code",
      "metadata": {
        "id": "hqCO206FCo8C"
      },
      "source": [
        "decision_boundary"
      ],
      "execution_count": null,
      "outputs": []
    },
    {
      "cell_type": "code",
      "metadata": {
        "id": "Bo06SIEXCqGA"
      },
      "source": [
        "log_reg.predict([[1.7], [1.5]])"
      ],
      "execution_count": null,
      "outputs": []
    },
    {
      "cell_type": "markdown",
      "metadata": {
        "id": "RtzUCP61CuM8"
      },
      "source": [
        "**Petal width, Petal length 이용한 종 분류기**"
      ]
    },
    {
      "cell_type": "code",
      "metadata": {
        "id": "cYzXWmWVCrUV"
      },
      "source": [
        "X = iris[\"data\"][:, (2, 3)]  # petal length, petal width\n",
        "y = (iris[\"target\"] == 2).astype(np.int)\n",
        "\n",
        "log_reg = LogisticRegression(C=10**10, random_state=42)\n",
        "log_reg.fit(X, y)\n",
        "\n",
        "x0, x1 = np.meshgrid(\n",
        "        np.linspace(2.9, 7, 500).reshape(-1, 1),\n",
        "        np.linspace(0.8, 2.7, 200).reshape(-1, 1),\n",
        "    )\n",
        "X_new = np.c_[x0.ravel(), x1.ravel()]\n",
        "\n",
        "y_proba = log_reg.predict_proba(X_new)\n",
        "\n",
        "plt.figure(figsize=(10, 4))\n",
        "plt.plot(X[y==0, 0], X[y==0, 1], \"bs\")\n",
        "plt.plot(X[y==1, 0], X[y==1, 1], \"g^\")\n",
        "\n",
        "zz = y_proba[:, 1].reshape(x0.shape)\n",
        "contour = plt.contour(x0, x1, zz, cmap=plt.cm.brg)\n",
        "\n",
        "\n",
        "left_right = np.array([2.9, 7])\n",
        "boundary = -(log_reg.coef_[0][0] * left_right + log_reg.intercept_[0]) / log_reg.coef_[0][1]\n",
        "\n",
        "plt.clabel(contour, inline=1, fontsize=12)\n",
        "plt.plot(left_right, boundary, \"k--\", linewidth=3)\n",
        "plt.text(3.5, 1.5, \"Iris-Virginica 아님\", fontsize=14, color=\"b\", ha=\"center\")\n",
        "plt.text(6.5, 2.3, \"Iris-Virginica\", fontsize=14, color=\"g\", ha=\"center\")\n",
        "plt.xlabel(\"꽃잎의 길이\", fontsize=14)\n",
        "plt.ylabel(\"꽃잎의 폭\", fontsize=14)\n",
        "plt.axis([2.9, 7, 0.8, 2.7])\n",
        "plt.show()"
      ],
      "execution_count": null,
      "outputs": []
    },
    {
      "cell_type": "markdown",
      "metadata": {
        "id": "IBTxndwgC2MQ"
      },
      "source": [
        "**4.6.4 소프트맥스 회귀(Softmax Regression)**"
      ]
    },
    {
      "cell_type": "markdown",
      "metadata": {
        "id": "qGG3fb1NC_vG"
      },
      "source": [
        "**Scikit-Learn LogisticRegression 이용하여 Softmax Regression 사용**"
      ]
    },
    {
      "cell_type": "code",
      "metadata": {
        "id": "_hRir7JBC00F"
      },
      "source": [
        "X = iris[\"data\"][:, (2, 3)]  # 꽃잎 길이, 꽃잎 너비\n",
        "y = iris[\"target\"]\n",
        "\n",
        "softmax_reg = LogisticRegression(multi_class=\"multinomial\",solver=\"lbfgs\", C=10, random_state=42)\n",
        "softmax_reg.fit(X, y)"
      ],
      "execution_count": null,
      "outputs": []
    },
    {
      "cell_type": "code",
      "metadata": {
        "id": "5-RJgHYfDKgm"
      },
      "source": [
        "x0, x1 = np.meshgrid(\n",
        "        np.linspace(0, 8, 500).reshape(-1, 1),\n",
        "        np.linspace(0, 3.5, 200).reshape(-1, 1),\n",
        "    )\n",
        "X_new = np.c_[x0.ravel(), x1.ravel()]\n",
        "\n",
        "\n",
        "y_proba = softmax_reg.predict_proba(X_new)\n",
        "y_predict = softmax_reg.predict(X_new)\n",
        "\n",
        "zz1 = y_proba[:, 1].reshape(x0.shape)\n",
        "zz = y_predict.reshape(x0.shape)\n",
        "\n",
        "plt.figure(figsize=(10, 4))\n",
        "plt.plot(X[y==2, 0], X[y==2, 1], \"g^\", label=\"Iris-Virginica\")\n",
        "plt.plot(X[y==1, 0], X[y==1, 1], \"bs\", label=\"Iris-Versicolor\")\n",
        "plt.plot(X[y==0, 0], X[y==0, 1], \"yo\", label=\"Iris-Setosa\")\n",
        "\n",
        "from matplotlib.colors import ListedColormap\n",
        "custom_cmap = ListedColormap(['#fafab0','#9898ff','#a0faa0'])\n",
        "\n",
        "plt.contourf(x0, x1, zz, cmap=custom_cmap)\n",
        "contour = plt.contour(x0, x1, zz1, cmap=plt.cm.brg)\n",
        "plt.clabel(contour, inline=1, fontsize=12)\n",
        "plt.xlabel(\"꽃잎의 길이\", fontsize=14)\n",
        "plt.ylabel(\"꽃잎의 폭\", fontsize=14)\n",
        "plt.legend(loc=\"center left\", fontsize=14)\n",
        "plt.axis([0, 7, 0, 3.5])\n",
        "plt.show()"
      ],
      "execution_count": null,
      "outputs": []
    },
    {
      "cell_type": "code",
      "metadata": {
        "id": "1-lZigFGDPaM"
      },
      "source": [
        "softmax_reg.predict([[5, 2]])"
      ],
      "execution_count": null,
      "outputs": []
    },
    {
      "cell_type": "code",
      "metadata": {
        "id": "y7R3QV8sDRcg"
      },
      "source": [
        "softmax_reg.predict_proba([[5, 2]])"
      ],
      "execution_count": null,
      "outputs": []
    },
    {
      "cell_type": "code",
      "metadata": {
        "id": "vkwNTa6IDSqx"
      },
      "source": [
        ""
      ],
      "execution_count": null,
      "outputs": []
    }
  ]
}