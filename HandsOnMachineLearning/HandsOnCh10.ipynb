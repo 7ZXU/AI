{
  "nbformat": 4,
  "nbformat_minor": 0,
  "metadata": {
    "colab": {
      "name": "HandsOnCh10.ipynb",
      "private_outputs": true,
      "provenance": [],
      "collapsed_sections": [
        "Yqxm5MjnRj1d",
        "OJ3hKh6vRrsx",
        "m6UVL68oRwDR"
      ],
      "toc_visible": true,
      "include_colab_link": true
    },
    "kernelspec": {
      "name": "python3",
      "display_name": "Python 3"
    },
    "accelerator": "GPU"
  },
  "cells": [
    {
      "cell_type": "markdown",
      "metadata": {
        "id": "view-in-github",
        "colab_type": "text"
      },
      "source": [
        "<a href=\"https://colab.research.google.com/github/7ZXU/AI/blob/main/HandsOnMachineLearning/HandsOnCh10.ipynb\" target=\"_parent\"><img src=\"https://colab.research.google.com/assets/colab-badge.svg\" alt=\"Open In Colab\"/></a>"
      ]
    },
    {
      "cell_type": "markdown",
      "metadata": {
        "id": "3e2gUoxKCdBx"
      },
      "source": [
        "#**10.2 케라스로 다층 퍼셉트론 구현하기**"
      ]
    },
    {
      "cell_type": "markdown",
      "metadata": {
        "id": "TkQbkrarDc_s"
      },
      "source": [
        "##**10.2.1 텐서플로 2 설치**"
      ]
    },
    {
      "cell_type": "code",
      "metadata": {
        "id": "-EYVIYZfB6NB"
      },
      "source": [
        "import tensorflow as tf\n",
        "from tensorflow import keras"
      ],
      "execution_count": null,
      "outputs": []
    },
    {
      "cell_type": "code",
      "metadata": {
        "id": "DKSWhsFHCnrg"
      },
      "source": [
        "tf.__version__"
      ],
      "execution_count": null,
      "outputs": []
    },
    {
      "cell_type": "code",
      "metadata": {
        "id": "GkMKhwELDV7E"
      },
      "source": [
        "keras.__version__"
      ],
      "execution_count": null,
      "outputs": []
    },
    {
      "cell_type": "markdown",
      "metadata": {
        "id": "dqErue9gDiuz"
      },
      "source": [
        "##**10.2.2 시퀀셜 API를 사용하여 이미지 분류기 만들기**"
      ]
    },
    {
      "cell_type": "code",
      "metadata": {
        "id": "CXUO09riDXy1"
      },
      "source": [
        "\n",
        "fashion_mnist = keras.datasets.fashion_mnist\n",
        "(X_train_full, y_train_full), (X_test, y_test) = fashion_mnist.load_data()"
      ],
      "execution_count": null,
      "outputs": []
    },
    {
      "cell_type": "code",
      "metadata": {
        "id": "6ZC-6sF-ELcX"
      },
      "source": [
        "X_train_full.shape #이미지가 28*28 배열"
      ],
      "execution_count": null,
      "outputs": []
    },
    {
      "cell_type": "code",
      "metadata": {
        "id": "yBBEDlS1ETfb"
      },
      "source": [
        "X_train_full.dtype # 픽셀강도 정수 0~255"
      ],
      "execution_count": null,
      "outputs": []
    },
    {
      "cell_type": "code",
      "metadata": {
        "id": "mIdhAKcLEVgg"
      },
      "source": [
        "#검증세트 만들기 #훈련세트 가져오기\n",
        "X_valid, X_train = X_train_full[:5000] / 255.0, X_train_full[5000:] / 255.0\n",
        "##255로 나누는 이유 ? \n",
        "#경사 하강법으로 훈련하기에 입력 틍성의 스케일 (0~1) 조정\n",
        "#########################왜 조정해야돼?\n",
        "y_valid, y_train = y_train_full[:5000], y_train_full[5000:]\n",
        "X_test = X_test/255.0"
      ],
      "execution_count": null,
      "outputs": []
    },
    {
      "cell_type": "code",
      "metadata": {
        "id": "mIACPHckFXoe"
      },
      "source": [
        "\n",
        "#클래스 이름 리스트 만들기 #like MINIST label 5\n",
        "class_names = [\"T-shirt/top\", \"Trouser\", \"Pullover\", \"Dress\", \"Coat\", \"Sandal\", \"Shirt\", \"Sneaker\", \"Bag\", \"Ankle Boot\"]"
      ],
      "execution_count": null,
      "outputs": []
    },
    {
      "cell_type": "code",
      "metadata": {
        "id": "Wr_A-cuAFuii"
      },
      "source": [
        "class_names[y_train[0]]"
      ],
      "execution_count": null,
      "outputs": []
    },
    {
      "cell_type": "markdown",
      "metadata": {
        "id": "OxoaLcxYF1D8"
      },
      "source": [
        "**시퀀셜 API를 사용하여 모델 만들기**"
      ]
    },
    {
      "cell_type": "code",
      "metadata": {
        "id": "B35vhO7MFxlw"
      },
      "source": [
        "model = keras.models.Sequential() #\n",
        "model.add(keras.layers.Flatten(input_shape=[28,28]))\n",
        "model.add(keras.layers.Dense(300, activation=\"relu\"))\n",
        "model.add(keras.layers.Dense(100, activation=\"relu\"))\n",
        "model.add(keras.layers.Dense(10, activation=\"softmax\"))"
      ],
      "execution_count": null,
      "outputs": []
    },
    {
      "cell_type": "code",
      "metadata": {
        "id": "KBDqP-TVF--R"
      },
      "source": [
        "model.summary()"
      ],
      "execution_count": null,
      "outputs": []
    },
    {
      "cell_type": "markdown",
      "metadata": {
        "id": "fKQrYUhfH65i"
      },
      "source": [
        "**모델 컴파일**"
      ]
    },
    {
      "cell_type": "code",
      "metadata": {
        "id": "8p1sTc2FHDtS"
      },
      "source": [
        "model.compile(loss=\"sparse_categorical_crossentropy\", \n",
        "              optimizer=\"sgd\", \n",
        "              metrics=[\"accuracy\"])"
      ],
      "execution_count": null,
      "outputs": []
    },
    {
      "cell_type": "code",
      "metadata": {
        "id": "qsL5ZKblILNa"
      },
      "source": [
        "history = model.fit(X_train, y_train, epochs=30, validation_data=(X_valid, y_valid))"
      ],
      "execution_count": null,
      "outputs": []
    },
    {
      "cell_type": "markdown",
      "metadata": {
        "id": "8tFOPD4ZKHm9"
      },
      "source": [
        "**모델학습곡선**"
      ]
    },
    {
      "cell_type": "code",
      "metadata": {
        "id": "FAWUWNeFJI65"
      },
      "source": [
        "#에포크마다 측정한 평균 훈련손실, 정확도\n",
        "#에포크 종료 시점마다 측정한 평균 검증 손실과 정확도 \n",
        "import pandas as pd\n",
        "import matplotlib.pyplot as plt\n",
        "\n",
        "pd.DataFrame(history.history).plot(figsize=(8,5))\n",
        "plt.grid(True)\n",
        "plt.gca().set_ylim(0,1) #수직축 범위 0~1 설정\n",
        "plt.show()"
      ],
      "execution_count": null,
      "outputs": []
    },
    {
      "cell_type": "markdown",
      "metadata": {
        "id": "82zpu0jgMUjF"
      },
      "source": [
        ""
      ]
    },
    {
      "cell_type": "markdown",
      "metadata": {
        "id": "VwbCqdWwMUd-"
      },
      "source": [
        ""
      ]
    },
    {
      "cell_type": "markdown",
      "metadata": {
        "id": "1u7Puj-aME-K"
      },
      "source": [
        "**모델 사용해 예측 만들기 : 확률 출력**"
      ]
    },
    {
      "cell_type": "code",
      "metadata": {
        "id": "hw8PLSeJKWct"
      },
      "source": [
        "X_new = X_test[3:6] #테스트 세트에서 새로운 샘플 받아오기\n",
        "y_proba = model.predict(X_new) #새로운 샘플 예측\n",
        "y_proba.round(2) \n",
        "#X_test[3] 클래스 1일 확률 : 100%\n",
        "#X_test[4] 클래스 6일 확률 : 70%"
      ],
      "execution_count": null,
      "outputs": []
    },
    {
      "cell_type": "markdown",
      "metadata": {
        "id": "dZoYLXisNM2I"
      },
      "source": [
        "**모델 사용해 예측 만들기 : 가장 높은 확률만 출력**"
      ]
    },
    {
      "cell_type": "code",
      "metadata": {
        "id": "gEUly64jMTXt"
      },
      "source": [
        "import numpy as np \n",
        "\n",
        "y_pred = model.predict_classes(X_new)\n",
        "y_pred\n",
        "np.array(class_names)[y_pred]"
      ],
      "execution_count": null,
      "outputs": []
    },
    {
      "cell_type": "markdown",
      "metadata": {
        "id": "f9BZaMweNlOJ"
      },
      "source": [
        "##**10.2.3 시퀀셜 API 사용하여 회귀용 다층 퍼셉트론 만들기**"
      ]
    },
    {
      "cell_type": "code",
      "metadata": {
        "id": "VPI6UHt_NdpU"
      },
      "source": [
        "from sklearn.datasets import fetch_california_housing\n",
        "from sklearn.model_selection import train_test_split\n",
        "from sklearn.preprocessing import StandardScaler\n",
        "\n",
        "housing = fetch_california_housing()\n",
        "\n",
        "#split train, test\n",
        "X_train_full, X_test, y_train_full, y_test = train_test_split(\n",
        "    housing.data, housing.target)\n",
        "\n",
        "#train, validation split\n",
        "X_train, X_valid, y_train, y_valid = train_test_split(\n",
        "    X_train_full, y_train_full)\n",
        "\n",
        "scaler = StandardScaler()\n",
        "X_train = scaler.fit_transform(X_train)\n",
        "X_valid = scaler.transform(X_valid)\n",
        "X_test = scaler.transform(X_test)"
      ],
      "execution_count": null,
      "outputs": []
    },
    {
      "cell_type": "code",
      "metadata": {
        "id": "bhcoJYH3Ofzi"
      },
      "source": [
        "model = keras.models.Sequential([\n",
        "                                 keras.layers.Dense(30, activation=\"relu\", input_shape=X_train.shape[1:]),\n",
        "                                 keras.layers.Dense(1)\n",
        "])\n",
        "model.compile(loss=\"mean_squared_error\", optimizer=\"sgd\")\n",
        "history = model.fit(X_train, y_train, epochs=20, validation_data=(X_valid, y_valid))\n",
        "\n",
        "#evaluate model by test case\n",
        "mse_test = model.evaluate(X_test, y_test)\n",
        "\n",
        "#t새로운 샘플\n",
        "X_new = X_test[:3] \n",
        "y_pred = model.predict(X_new)\n"
      ],
      "execution_count": null,
      "outputs": []
    },
    {
      "cell_type": "markdown",
      "metadata": {
        "id": "7yCklNOeQ_b5"
      },
      "source": [
        "##**10.2.4 함수형 API를 사용해 복잡한 모델 만들기**"
      ]
    },
    {
      "cell_type": "code",
      "metadata": {
        "id": "mcoppaWfYzjW"
      },
      "source": [
        "input_=keras.layers.Input(shape=X_train.shape[1:])\n",
        "hidden1=keras.layers.Dense(30, activation=\"relu\")(input_)\n",
        "hidden2=keras.layers.Dense(30, activation=\"relu\")(hidden1)\n",
        "concat=keras.layers.Concatenate()([input_, hidden2])\n",
        "output=keras.layers.Dense(1)(concat) #활성화함수 없는 출력층\n",
        "model=keras.Model(inputs=[input_], outputs=[output])"
      ],
      "execution_count": null,
      "outputs": []
    },
    {
      "cell_type": "markdown",
      "metadata": {
        "id": "MwVfEC0ycbL4"
      },
      "source": [
        "**여러 개의 입력 다루기**"
      ]
    },
    {
      "cell_type": "code",
      "metadata": {
        "id": "9PIIVuQ0cZ57"
      },
      "source": [
        "input_A = keras.layers.Input(shape=[5], name=\"wide_input\")\n",
        "input_B = keras.layers.Input(shape=[6], name=\"deep_input\")\n",
        "hidden1 = keras.layers.Dense(30, activation=\"relu\")(input_B)\n",
        "hidden2 = keras.layers.Dense(30, activation=\"relu\")(hidden1)\n",
        "concat = keras.layers.concatenate([input_A, hidden2])\n",
        "output = keras.layers.Dense(1, name=\"output\")(concat)\n",
        "model = keras.Model(inputs=[input_A, input_B], outputs=[output])"
      ],
      "execution_count": null,
      "outputs": []
    },
    {
      "cell_type": "code",
      "metadata": {
        "id": "giqMMX_1eAIm"
      },
      "source": [
        "model.compile(loss=\"mse\", optimizer=keras.optimizers.SGD(lr=1e-3)) #lr\n",
        "\n",
        "X_train_A, X_train_B = X_train[:, :5], X_train[: ,2:]\n",
        "X_valid_A, X_valid_B = X_valid[:, :5], X_valid[:, 2:]\n",
        "X_test_A, X_test_B = X_test[:, :5], X_test[:, 2:]\n",
        "X_new_A, X_new_B = X_test_A[:3], X_test_B[:3]\n",
        "\n",
        "history = model.fit((X_train_A, X_train_B), y_train, epochs=20, \n",
        "                    validation_data=((X_valid_A, X_valid_B), y_valid))\n",
        "mse_test = model.evaluate((X_test_A, X_test_B), y_test)\n",
        "y_pred = model.predict((X_new_A, X_new_B))"
      ],
      "execution_count": null,
      "outputs": []
    },
    {
      "cell_type": "markdown",
      "metadata": {
        "id": "OINylKuCiHcD"
      },
      "source": [
        "**여러 출력 다루기**"
      ]
    },
    {
      "cell_type": "code",
      "metadata": {
        "id": "Vlq7mAamiLdY"
      },
      "source": [
        "input_A = keras.layers.Input(shape=[5], name=\"wide_input\")\n",
        "input_B = keras.layers.Input(shape=[6], name=\"deep_input\")\n",
        "hidden1 = keras.layers.Dense(30, activation=\"relu\")(input_B)\n",
        "hidden2 = keras.layers.Dense(30, activation=\"relu\")(hidden1)\n",
        "concat = keras.layers.concatenate([input_A, hidden2])\n",
        "output = keras.layers.Dense(1, name=\"main_output\")(concat)\n",
        "aux_output = keras.layers.Dense(1, name=\"aux_output\")(hidden2)\n",
        "model = keras.Model(inputs=[input_A, input_B], outputs=[output, aux_output])"
      ],
      "execution_count": null,
      "outputs": []
    },
    {
      "cell_type": "code",
      "metadata": {
        "id": "D7dB_IBMszsF"
      },
      "source": [
        "model.compile(loss=[\"mse\", \"mse\"], loss_weights=[0.9, 0.1], optimizer=\"sgd\") \n",
        "#손실을 모두 더해서 최종 손실 구함\n",
        "#주 출력에 더 큰 가중치 "
      ],
      "execution_count": null,
      "outputs": []
    },
    {
      "cell_type": "code",
      "metadata": {
        "id": "-My1YaqTswcP"
      },
      "source": [
        "history = model.fit(\n",
        "    [X_train_A, X_train_B], [y_train, y_train], epochs=20,\n",
        "    validation_data=([X_valid_A, X_valid_B], [y_valid, y_valid])\n",
        ")\n",
        "#주 출력 = 보조 출력\n",
        "#따라서 동일한 레이블 사용\n",
        "\n"
      ],
      "execution_count": null,
      "outputs": []
    },
    {
      "cell_type": "code",
      "metadata": {
        "id": "O1VxW76Wu29I"
      },
      "source": [
        "total_loss, main_loss, aux_loss = model.evaluate(\n",
        "    [X_test_A, X_test_B], [y_test, y_test]\n",
        ")\n",
        "\n",
        "#개별손실 \n",
        "#총손실"
      ],
      "execution_count": null,
      "outputs": []
    },
    {
      "cell_type": "code",
      "metadata": {
        "id": "1teum05mvNdC"
      },
      "source": [
        "y_pred_main, y_pred_aux = model.predict([X_new_A, X_new_B])\n",
        "print(y_pred_main, y_pred_aux)"
      ],
      "execution_count": null,
      "outputs": []
    },
    {
      "cell_type": "markdown",
      "metadata": {
        "id": "NcU2i2OwQ_RC"
      },
      "source": [
        "##**10.2.5 서브클래싱 API로 동적 모델 만들기**"
      ]
    },
    {
      "cell_type": "markdown",
      "metadata": {
        "id": "mDoCM6LmwTZg"
      },
      "source": [
        "**클래스로 함수형 API 기능 수행**"
      ]
    },
    {
      "cell_type": "code",
      "metadata": {
        "id": "FAmJeguAwSWg"
      },
      "source": [
        "class WideAndDeepModel(keras.Model):\n",
        "    def __init__(self, units=30, activation=\"relu\", **kwargs):\n",
        "        super().__init__(**kwargs) #표준 매개변수 처리\n",
        "        self.hidden1 = keras.layers.Dense(units, activation=activation)\n",
        "        self.hidden2 = keras.layers.Dense(units, activation=activation)\n",
        "        self.main_output = keras.layers.Dense(1)\n",
        "        self.aux_output = keras.layers.Dense(1)\n",
        "\n",
        "    def call(self, inputs):\n",
        "        input_A, input_B = inputs\n",
        "        hidden1 = self.hidden1(input_B)\n",
        "        hidden2 = self.hidden2(hidden1)\n",
        "        concat = keras.layers.concatenate([input_A, hidden2])\n",
        "        main_output = self.main_output(concat)\n",
        "        aux_output = self.aux_output(hidden2)\n",
        "        return main_output, aux_output\n",
        "\n",
        "model = WideAndDeepModel()"
      ],
      "execution_count": null,
      "outputs": []
    },
    {
      "cell_type": "markdown",
      "metadata": {
        "id": "OrgEj6CNQ_GJ"
      },
      "source": [
        "##**10.2.6 모델 저장과 복원**"
      ]
    },
    {
      "cell_type": "code",
      "metadata": {
        "id": "koXcpqpUwSRJ"
      },
      "source": [
        "model.save_weights(\"my_keras_model.h5\")"
      ],
      "execution_count": null,
      "outputs": []
    },
    {
      "cell_type": "code",
      "metadata": {
        "id": "R_DqR1sNRqIg"
      },
      "source": [
        ""
      ],
      "execution_count": null,
      "outputs": []
    },
    {
      "cell_type": "markdown",
      "metadata": {
        "id": "zWLl9JMzQ-kd"
      },
      "source": [
        "##**10.2.7 콜백 사용하기**"
      ]
    },
    {
      "cell_type": "markdown",
      "metadata": {
        "id": "RbTC_5DM2A6K"
      },
      "source": [
        "**ModelCheckpoint**"
      ]
    },
    {
      "cell_type": "code",
      "metadata": {
        "id": "4iredy5B1UUH"
      },
      "source": [
        "checkpoint_cb = keras.callbacks.ModelCheckpoint(\"my_keras_model.h5\")\n",
        "#매 에포크 끝에서 호출됨\n",
        "#훈련하는 동안 일정한 간격으로 모델의 체크 포인트 저장\n",
        "history = model.fit(X_train, y_train, epochs=10, callbacks=[checkpoint_cb])"
      ],
      "execution_count": null,
      "outputs": []
    },
    {
      "cell_type": "code",
      "metadata": {
        "id": "t3rDa6KF2N8k"
      },
      "source": [
        "checkpoint_cb = keras.callbacks.ModelCheckpoint(\"my_keras_model.h5\", save_best_only=True)\n",
        "#최상의 검증 세트 점수에서만 모델 저장 \n",
        "history = model.fit(X_train, y_train, epochs=10,\n",
        "                    validation_data=(X_valid, y_valid), \n",
        "                    callbacks=[checkpoint_cb])\n",
        "model = keras.models.load_model(\"my_keras_model.h5\")\n",
        "#최상의 모델로 복원"
      ],
      "execution_count": null,
      "outputs": []
    },
    {
      "cell_type": "markdown",
      "metadata": {
        "id": "VtDMdKEm2EnB"
      },
      "source": [
        "**EarlyStopping Call back**\n",
        "\n",
        "조기 종료 구현"
      ]
    },
    {
      "cell_type": "code",
      "metadata": {
        "id": "qJh6vp2-2ALF"
      },
      "source": [
        "early_stopping_cb = keras.callbacks.EarlyStopping(\n",
        "    patience=10,\n",
        "    restore_best_weights=True\n",
        ")\n",
        "#patience = 반복횟수\n",
        "#검증세트에 대한 점수가 향상되지 않으면 훈련 정지\n",
        "#최상의 가중치 저장\n",
        "\n",
        "history = model.fit(X_train, y_train, epochs=100, \n",
        "                    validation_data = (X_valid, y_valid), \n",
        "                    callbacks = [checkpoint_cb, early_stopping_cb])\n",
        "#체크포인트저장콜백 : 컴퓨터 문제 일으키는 경우 대비\n",
        "#조기종료콜백 : 시간 및 자원 낭비 방지"
      ],
      "execution_count": null,
      "outputs": []
    },
    {
      "cell_type": "markdown",
      "metadata": {
        "id": "vIRgq_n83rxK"
      },
      "source": [
        "**사용자 정의 콜백**"
      ]
    },
    {
      "cell_type": "code",
      "metadata": {
        "id": "CW0DyD_V3t1Z"
      },
      "source": [
        "class PrintValTrainRatioCallback(keras.callbacks.Callback):\n",
        "    def on_epoch_end(self, epoch, logs):\n",
        "        print(\"\\nval/train: {:.2f}\".format(logs[\"val_loss\"] / logs[\"loss\"]))\n",
        "        #검증손실과 훈련손실 비율 측정 \n",
        "        #과대적합 감지"
      ],
      "execution_count": null,
      "outputs": []
    },
    {
      "cell_type": "markdown",
      "metadata": {
        "id": "L1zHLGj-Q983"
      },
      "source": [
        "##**10.2.8 텐서 보드를 사용해 시각화하기**"
      ]
    },
    {
      "cell_type": "code",
      "metadata": {
        "id": "YtWo_3ft4r1i"
      },
      "source": [
        "import os\n",
        "root_logdir = os.path.join(os.curdir, \"my_logs\")\n",
        "#os.curdir : 현재 디렉토리\n",
        "#텐서보드 로그를 위해 사용\n",
        "\n",
        "def get_run_logdir():\n",
        "    import time\n",
        "    run_id = time.strftime(\"run_%Y_%m_%d-%H_%M_%S\")\n",
        "    return os.path.join(root_logdir, run_id)\n",
        "#현재 날짜와 시간 사용\n",
        "#실행할 때마다 다른 서브디렉터리 경로 생성\n",
        "#테스트하는 하이퍼파라미터값과 같은 추가적 정보도 로그디렉터리 이름으로 사용\n",
        "\n",
        "run_logdir = get_run_logdir()\n",
        "#ex) ./my_logs/run_2019_06_07-15_15_22\n",
        "\n"
      ],
      "execution_count": null,
      "outputs": []
    },
    {
      "cell_type": "code",
      "metadata": {
        "id": "3vHmWTjf53A4"
      },
      "source": [
        "tensorboard_cb = keras.callbacks.TensorBoard(run_logdir)\n",
        "history = model.fit(X_train, y_train, epochs=30,\n",
        "                    validation_data=(X_valid, y_valid), \n",
        "                    callbacks=[tensorboard_cb])"
      ],
      "execution_count": null,
      "outputs": []
    },
    {
      "cell_type": "code",
      "metadata": {
        "id": "Tk01ehoM52i-"
      },
      "source": [
        ""
      ],
      "execution_count": null,
      "outputs": []
    },
    {
      "cell_type": "markdown",
      "metadata": {
        "id": "9d56SVaJRcSY"
      },
      "source": [
        "#**10.3 신경망 하이퍼파라미터 튜닝하기**"
      ]
    },
    {
      "cell_type": "code",
      "metadata": {
        "id": "T4MGkgg7R-tT"
      },
      "source": [
        ""
      ],
      "execution_count": null,
      "outputs": []
    },
    {
      "cell_type": "markdown",
      "metadata": {
        "id": "Yqxm5MjnRj1d"
      },
      "source": [
        "##**10.3.1 은닉층 개수**"
      ]
    },
    {
      "cell_type": "code",
      "metadata": {
        "id": "n4FW7x8zP8-T"
      },
      "source": [
        ""
      ],
      "execution_count": null,
      "outputs": []
    },
    {
      "cell_type": "markdown",
      "metadata": {
        "id": "OJ3hKh6vRrsx"
      },
      "source": [
        "##**10.3.2 은닉층의 뉴런 개수**"
      ]
    },
    {
      "cell_type": "code",
      "metadata": {
        "id": "DpAMiM92Rvhf"
      },
      "source": [
        ""
      ],
      "execution_count": null,
      "outputs": []
    },
    {
      "cell_type": "markdown",
      "metadata": {
        "id": "m6UVL68oRwDR"
      },
      "source": [
        "##**10.3.3 학습률, 배치 크기 그리고 다른 하이퍼파라미터**"
      ]
    },
    {
      "cell_type": "code",
      "metadata": {
        "id": "35xtUemwR0Tm"
      },
      "source": [
        ""
      ],
      "execution_count": null,
      "outputs": []
    }
  ]
}