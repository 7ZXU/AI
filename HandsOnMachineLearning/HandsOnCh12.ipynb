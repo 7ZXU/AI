{
  "nbformat": 4,
  "nbformat_minor": 0,
  "metadata": {
    "colab": {
      "name": "HandsOnCh12.ipynb",
      "provenance": [],
      "collapsed_sections": [],
      "toc_visible": true,
      "include_colab_link": true
    },
    "kernelspec": {
      "name": "python3",
      "display_name": "Python 3"
    },
    "accelerator": "GPU"
  },
  "cells": [
    {
      "cell_type": "markdown",
      "metadata": {
        "id": "view-in-github",
        "colab_type": "text"
      },
      "source": [
        "<a href=\"https://colab.research.google.com/github/7ZXU/AI/blob/main/HandsOnMachineLearning/HandsOnCh12.ipynb\" target=\"_parent\"><img src=\"https://colab.research.google.com/assets/colab-badge.svg\" alt=\"Open In Colab\"/></a>"
      ]
    },
    {
      "cell_type": "markdown",
      "metadata": {
        "id": "ELAcskPoOgLg"
      },
      "source": [
        "#**11.1 MLP 모델에 학습 개선 방법 적용하기**\n",
        "\n",
        "1. 가중치 함수 초기화\n",
        "2. 활성화 함수 \n",
        "3. 최적화\n",
        "4. 배치정규화\n",
        "5. 드롭아웃\n",
        "\n",
        "\n",
        "\n"
      ]
    },
    {
      "cell_type": "markdown",
      "metadata": {
        "id": "_4WEg7aDOzaM"
      },
      "source": [
        "##**baseMLP 모델 만들기**"
      ]
    },
    {
      "cell_type": "markdown",
      "metadata": {
        "id": "OwFCOSS6O4O3"
      },
      "source": [
        "**MNIST 데이터셋 불러오기**"
      ]
    },
    {
      "cell_type": "code",
      "metadata": {
        "colab": {
          "base_uri": "https://localhost:8080/"
        },
        "id": "WjAQwlrAOXev",
        "outputId": "360c5636-7ca1-4daa-dbfc-720d6f937461"
      },
      "source": [
        "from keras.datasets import mnist\n",
        "import matplotlib.pyplot as plt\n",
        "\n",
        "(X_train, y_train), (X_test, y_test) = mnist.load_data()"
      ],
      "execution_count": null,
      "outputs": [
        {
          "output_type": "stream",
          "text": [
            "Downloading data from https://storage.googleapis.com/tensorflow/tf-keras-datasets/mnist.npz\n",
            "11493376/11490434 [==============================] - 0s 0us/step\n"
          ],
          "name": "stdout"
        }
      ]
    },
    {
      "cell_type": "code",
      "metadata": {
        "colab": {
          "base_uri": "https://localhost:8080/",
          "height": 282
        },
        "id": "sMO4J-oNPOn4",
        "outputId": "e4a80d8a-9b90-4c8a-b344-89d9aa009018"
      },
      "source": [
        "plt.imshow(X_train[0]) \n",
        "plt.show() #그래프 출력\n",
        "print('Label :', y_train[0]) #레이블 출력"
      ],
      "execution_count": null,
      "outputs": [
        {
          "output_type": "display_data",
          "data": {
            "image/png": "[encoded data removed]",
            "text/plain": [
              "<Figure size 432x288 with 1 Axes>"
            ]
          },
          "metadata": {
            "tags": [],
            "needs_background": "light"
          }
        },
        {
          "output_type": "stream",
          "text": [
            "Label : 5\n"
          ],
          "name": "stdout"
        }
      ]
    },
    {
      "cell_type": "code",
      "metadata": {
        "colab": {
          "base_uri": "https://localhost:8080/"
        },
        "id": "Ew2TwLVUSzk4",
        "outputId": "3d9b567a-cbc4-440d-c9c1-02fbe477219b"
      },
      "source": [
        "X_train.shape"
      ],
      "execution_count": null,
      "outputs": [
        {
          "output_type": "execute_result",
          "data": {
            "text/plain": [
              "(60000, 28, 28)"
            ]
          },
          "metadata": {
            "tags": []
          },
          "execution_count": 4
        }
      ]
    },
    {
      "cell_type": "code",
      "metadata": {
        "colab": {
          "base_uri": "https://localhost:8080/"
        },
        "id": "IFmrLxWpPbk7",
        "outputId": "99448d03-3c15-4a53-a3d4-ac25444c6ebb"
      },
      "source": [
        "from keras.utils.np_utils import to_categorical\n",
        "from sklearn.model_selection import train_test_split\n",
        "\n",
        "#reshaping X data (n, 28, 28) -> (n, 784)\n",
        "X_train = X_train.reshape((X_train.shape[0],-1)) ##열이 가변적 \n",
        "X_test = X_test.reshape((X_test.shape[0], -1)) ##########################원래 (19800,784)인데 이거 왜 하는거지?\n",
        "\n",
        "\n",
        "#학습 과정을 단축하기 위해 학습 데이터의 1/3만 활용\n",
        "X_train, _ , y_train, _ = train_test_split(X_train, y_train, test_size=0.67, random_state=7)\n",
        "######################## _ ? random_state?\n",
        "######################## test_size = 0.67이어서 1/3인거야?\n",
        "\n",
        "#타겟 변수를 one-hot encoding 한다\n",
        "y_train = to_categorical(y_train)\n",
        "y_test = to_categorical(y_test)\n",
        "\n",
        "print(X_train.shape, X_test.shape, y_train.shape, y_test.shape)"
      ],
      "execution_count": null,
      "outputs": [
        {
          "output_type": "stream",
          "text": [
            "(19800, 784) (10000, 784) (19800, 10) (10000, 10)\n"
          ],
          "name": "stdout"
        }
      ]
    },
    {
      "cell_type": "code",
      "metadata": {
        "id": "xYHlTyFxRSam"
      },
      "source": [
        "#MLP (4 hidden layers)\n",
        "from keras.models import Sequential\n",
        "from keras.layers import Activation, Dense\n",
        "from keras import optimizers\n",
        "\n",
        "model = Sequential()\n",
        "model.add(Dense(50, input_shape = (784, )))\n",
        "model.add(Activation('sigmoid'))\n",
        "model.add(Dense(50))\n",
        "model.add(Activation('sigmoid'))\n",
        "model.add(Dense(50))\n",
        "model.add(Activation('sigmoid'))\n",
        "model.add(Dense(50))\n",
        "model.add(Activation('sigmoid'))\n",
        "model.add(Dense(10))\n",
        "model.add(Activation('softmax'))\n",
        "\n",
        "sgd = optimizers.SGD(lr = 0.001)\n",
        "model.compile(optimizer = sgd, loss='categorical_crossentropy', metrics = ['accuracy'])\n",
        "history = model.fit(X_train, y_train, batch_size = 256, validation_split = 0.3, epochs=100, verbose=0)"
      ],
      "execution_count": null,
      "outputs": []
    },
    {
      "cell_type": "code",
      "metadata": {
        "colab": {
          "base_uri": "https://localhost:8080/",
          "height": 265
        },
        "id": "HUhCHDfUVenN",
        "outputId": "3e8c18f0-4ec8-449a-b043-b966361b8371"
      },
      "source": [
        "plt.plot(history.history['accuracy'])\n",
        "plt.plot(history.history['val_accuracy'])\n",
        "plt.legend(['training', 'validation'], loc = 'upper left') #레전드 #왼쪽 위 네모박스\n",
        "plt.show()"
      ],
      "execution_count": null,
      "outputs": [
        {
          "output_type": "display_data",
          "data": {
            "image/png": "[encoded data removed]",
            "text/plain": [
              "<Figure size 432x288 with 1 Axes>"
            ]
          },
          "metadata": {
            "tags": [],
            "needs_background": "light"
          }
        }
      ]
    },
    {
      "cell_type": "code",
      "metadata": {
        "colab": {
          "base_uri": "https://localhost:8080/"
        },
        "id": "2KOdr6blpIfi",
        "outputId": "a11c4c46-02ee-456a-c520-61b6a68b5fde"
      },
      "source": [
        "results = model.evaluate(X_test, y_test)\n",
        "print('Test accuracy:', results[1])"
      ],
      "execution_count": null,
      "outputs": [
        {
          "output_type": "stream",
          "text": [
            "313/313 [==============================] - 1s 2ms/step - loss: 2.2999 - accuracy: 0.1135\n",
            "Test accuracy: 0.11349999904632568\n"
          ],
          "name": "stdout"
        }
      ]
    },
    {
      "cell_type": "markdown",
      "metadata": {
        "id": "tzv3NhwfpCKB"
      },
      "source": [
        "##**가중치 초기화**"
      ]
    },
    {
      "cell_type": "code",
      "metadata": {
        "id": "HuDSBXs1oMp3"
      },
      "source": [
        "def mlp_model():\n",
        "    #use he_normal initializer\n",
        "    #before activation function\n",
        "    model = Sequential()\n",
        "    model.add(Dense(50, input_shape = (784, ), kernel_initializer='he_normal'))\n",
        "    model.add(Activation('sigmoid'))\n",
        "    model.add(Dense(50, kernel_initializer='he_normal'))\n",
        "    model.add(Activation('sigmoid'))\n",
        "    model.add(Dense(50, kernel_initializer='he_normal'))\n",
        "    model.add(Activation('sigmoid'))\n",
        "    model.add(Dense(50, kernel_initializer='he_normal'))\n",
        "    model.add(Activation('sigmoid'))\n",
        "    model.add(Dense(10, kernel_initializer='he_normal'))\n",
        "    model.add(Activation('softmax'))\n",
        "    \n",
        "    sgd = optimizers.SGD(lr = 0.001)\n",
        "    model.compile(optimizer = sgd, loss='categorical_crossentropy', metrics = ['accuracy'])\n",
        "\n",
        "    return model"
      ],
      "execution_count": null,
      "outputs": []
    },
    {
      "cell_type": "code",
      "metadata": {
        "id": "dWvbCCKYq2-1"
      },
      "source": [
        "model = mlp_model()\n",
        "history = model.fit(X_train, y_train, validation_split = 0.3, epochs = 100, verbose = 0)"
      ],
      "execution_count": null,
      "outputs": []
    },
    {
      "cell_type": "code",
      "metadata": {
        "colab": {
          "base_uri": "https://localhost:8080/",
          "height": 267
        },
        "id": "MtY9gTJxsSEh",
        "outputId": "407169db-9e73-4cbe-ba9e-3c127c800c5c"
      },
      "source": [
        "plt.plot(history.history['accuracy'])\n",
        "plt.plot(history.history['val_accuracy'])\n",
        "plt.legend(['training', 'validation'], loc = 'upper left') #레전드 #왼쪽 위 네모박스\n",
        "plt.show()"
      ],
      "execution_count": null,
      "outputs": [
        {
          "output_type": "display_data",
          "data": {
            "image/png": "[encoded data removed]",
            "text/plain": [
              "<Figure size 432x288 with 1 Axes>"
            ]
          },
          "metadata": {
            "tags": [],
            "needs_background": "light"
          }
        }
      ]
    },
    {
      "cell_type": "code",
      "metadata": {
        "colab": {
          "base_uri": "https://localhost:8080/"
        },
        "id": "4Ee17KckrH0F",
        "outputId": "8eb21871-f32d-462b-b516-c570e2bb45ed"
      },
      "source": [
        "results = model.evaluate(X_test, y_test)\n",
        "print('Test accuracy:', results[1])"
      ],
      "execution_count": null,
      "outputs": [
        {
          "output_type": "stream",
          "text": [
            "313/313 [==============================] - 1s 2ms/step - loss: 1.8662 - accuracy: 0.4176\n",
            "Test accuracy: 0.41760000586509705\n"
          ],
          "name": "stdout"
        }
      ]
    },
    {
      "cell_type": "markdown",
      "metadata": {
        "id": "2FviX5XLsIMA"
      },
      "source": [
        "##**활성화 함수**"
      ]
    },
    {
      "cell_type": "code",
      "metadata": {
        "id": "IpZxafNhsGMp"
      },
      "source": [
        "def mlp_model_relu():\n",
        "    model = Sequential()\n",
        "    model.add(Dense(50, input_shape = (784, )))\n",
        "    model.add(Activation('relu'))\n",
        "    model.add(Dense(50)) \n",
        "    model.add(Activation('relu'))\n",
        "    model.add(Dense(50)) \n",
        "    model.add(Activation('relu'))\n",
        "    model.add(Dense(50)) \n",
        "    model.add(Activation('relu'))\n",
        "    model.add(Dense(10))\n",
        "    model.add(Activation('softmax'))\n",
        "    \n",
        "    sgd = optimizers.SGD(lr = 0.001)\n",
        "    model.compile(optimizer = sgd, loss='categorical_crossentropy', metrics = ['accuracy'])\n",
        "\n",
        "    return model"
      ],
      "execution_count": null,
      "outputs": []
    },
    {
      "cell_type": "code",
      "metadata": {
        "id": "9qX46Mw1suZZ"
      },
      "source": [
        "model = mlp_model_relu()\n",
        "history = model.fit(X_train, y_train, validation_split = 0.3, epochs = 100, verbose = 0)"
      ],
      "execution_count": null,
      "outputs": []
    },
    {
      "cell_type": "code",
      "metadata": {
        "colab": {
          "base_uri": "https://localhost:8080/",
          "height": 265
        },
        "id": "yQPId-kas4US",
        "outputId": "dab7b8b5-9c16-4f5f-e746-1a723c4d775f"
      },
      "source": [
        "plt.plot(history.history['accuracy']) #####################history.history?\n",
        "plt.plot(history.history['val_accuracy'])\n",
        "plt.legend(['training', 'validation'], loc = 'upper left') #레전드 #왼쪽 위 네모박스\n",
        "plt.show()"
      ],
      "execution_count": null,
      "outputs": [
        {
          "output_type": "display_data",
          "data": {
            "image/png": "[encoded data removed]",
            "text/plain": [
              "<Figure size 432x288 with 1 Axes>"
            ]
          },
          "metadata": {
            "tags": [],
            "needs_background": "light"
          }
        }
      ]
    },
    {
      "cell_type": "code",
      "metadata": {
        "colab": {
          "base_uri": "https://localhost:8080/"
        },
        "id": "j6KiC-zZtcuR",
        "outputId": "ab8440e3-e0fa-461f-f6ff-6d581c1f9254"
      },
      "source": [
        "results = model.evaluate(X_test, y_test)\n",
        "print('Test accuracy:', results[1])"
      ],
      "execution_count": null,
      "outputs": [
        {
          "output_type": "stream",
          "text": [
            "313/313 [==============================] - 1s 2ms/step - loss: 0.4932 - accuracy: 0.9225\n",
            "Test accuracy: 0.9225000143051147\n"
          ],
          "name": "stdout"
        }
      ]
    },
    {
      "cell_type": "markdown",
      "metadata": {
        "id": "GVj5nTdvtqUn"
      },
      "source": [
        "##**옵티마이저**"
      ]
    },
    {
      "cell_type": "code",
      "metadata": {
        "id": "Szag2nwitfl0"
      },
      "source": [
        "def mlp_model_optimizer():\n",
        "    model = Sequential()\n",
        "    model.add(Dense(50, input_shape = (784, )))\n",
        "    model.add(Activation('relu'))\n",
        "    model.add(Dense(50)) \n",
        "    model.add(Activation('relu'))\n",
        "    model.add(Dense(50)) \n",
        "    model.add(Activation('relu'))\n",
        "    model.add(Dense(50)) \n",
        "    model.add(Activation('relu'))\n",
        "    model.add(Dense(10))\n",
        "    model.add(Activation('softmax'))\n",
        "    \n",
        "    RMSProp = optimizers.RMSprop(lr = 0.001)\n",
        "    #많이 사용하는 활성화 함수 #Adam #RMSProp\n",
        "    #############################RMSProp\n",
        "    model.compile(optimizer = sgd, loss='categorical_crossentropy', metrics = ['accuracy'])\n",
        "\n",
        "    return model"
      ],
      "execution_count": null,
      "outputs": []
    },
    {
      "cell_type": "code",
      "metadata": {
        "id": "vKM0zosRt--x"
      },
      "source": [
        "model = mlp_model_optimizer()\n",
        "history = model.fit(X_train, y_train, validation_split = 0.3, epochs = 100, verbose = 0)"
      ],
      "execution_count": null,
      "outputs": []
    },
    {
      "cell_type": "code",
      "metadata": {
        "colab": {
          "base_uri": "https://localhost:8080/",
          "height": 265
        },
        "id": "uVtzlN1OuGkw",
        "outputId": "37a3e9af-c5ec-45ba-83a3-999954fb1c54"
      },
      "source": [
        "plt.plot(history.history['accuracy']) #####################history.history?\n",
        "plt.plot(history.history['val_accuracy'])\n",
        "plt.legend(['training', 'validation'], loc = 'upper left') #레전드 #왼쪽 위 네모박스\n",
        "plt.show()"
      ],
      "execution_count": null,
      "outputs": [
        {
          "output_type": "display_data",
          "data": {
            "image/png": "[encoded data removed]",
            "text/plain": [
              "<Figure size 432x288 with 1 Axes>"
            ]
          },
          "metadata": {
            "tags": [],
            "needs_background": "light"
          }
        }
      ]
    },
    {
      "cell_type": "code",
      "metadata": {
        "colab": {
          "base_uri": "https://localhost:8080/"
        },
        "id": "LTIcTYkAuJe9",
        "outputId": "a846dbee-545d-48dd-936a-44f160fc6d39"
      },
      "source": [
        "results = model.evaluate(X_test, y_test)\n",
        "print('Test accuracy:', results[1])"
      ],
      "execution_count": null,
      "outputs": [
        {
          "output_type": "stream",
          "text": [
            "313/313 [==============================] - 1s 2ms/step - loss: 0.5412 - accuracy: 0.9178\n",
            "Test accuracy: 0.9178000092506409\n"
          ],
          "name": "stdout"
        }
      ]
    },
    {
      "cell_type": "markdown",
      "metadata": {
        "id": "kni4kCbLuOkc"
      },
      "source": [
        "##**배치정규화**"
      ]
    },
    {
      "cell_type": "code",
      "metadata": {
        "id": "ec4yusRJuQ25"
      },
      "source": [
        "from keras.layers import BatchNormalization\n",
        "def mlp_model_BN():\n",
        "    model = Sequential()\n",
        "    model.add(Dense(50, input_shape = (784, )))\n",
        "    model.add(BatchNormalization())\n",
        "    model.add(Activation('relu'))\n",
        "    model.add(Dense(50)) \n",
        "    model.add(BatchNormalization())\n",
        "    model.add(Activation('relu'))\n",
        "    model.add(Dense(50)) \n",
        "    model.add(BatchNormalization())\n",
        "    model.add(Activation('relu'))\n",
        "    model.add(Dense(50)) \n",
        "    model.add(BatchNormalization())\n",
        "    model.add(Activation('relu'))\n",
        "    model.add(Dense(10))\n",
        "    model.add(Activation('softmax'))\n",
        "    \n",
        "    RMSProp = optimizers.RMSprop(lr = 0.001)\n",
        "    #많이 사용하는 활성화 함수 #Adam #RMSProp\n",
        "    #############################RMSProp\n",
        "    model.compile(optimizer = sgd, loss='categorical_crossentropy', metrics = ['accuracy'])\n",
        "\n",
        "    return model"
      ],
      "execution_count": null,
      "outputs": []
    },
    {
      "cell_type": "code",
      "metadata": {
        "id": "OINqY4pJuq2L"
      },
      "source": [
        "model = mlp_model_BN()\n",
        "history = model.fit(X_train, y_train, validation_split = 0.3, epochs = 100, verbose = 0)"
      ],
      "execution_count": null,
      "outputs": []
    },
    {
      "cell_type": "code",
      "metadata": {
        "colab": {
          "base_uri": "https://localhost:8080/",
          "height": 265
        },
        "id": "1ugasnikuz67",
        "outputId": "6dc9532b-d516-40cf-c4b0-231f7b800501"
      },
      "source": [
        "plt.plot(history.history['accuracy']) #####################history.history?\n",
        "plt.plot(history.history['val_accuracy'])\n",
        "plt.legend(['training', 'validation'], loc = 'upper left') #레전드 #왼쪽 위 네모박스\n",
        "plt.show()"
      ],
      "execution_count": null,
      "outputs": [
        {
          "output_type": "display_data",
          "data": {
            "image/png": "[encoded data removed]",
            "text/plain": [
              "<Figure size 432x288 with 1 Axes>"
            ]
          },
          "metadata": {
            "tags": [],
            "needs_background": "light"
          }
        }
      ]
    },
    {
      "cell_type": "code",
      "metadata": {
        "colab": {
          "base_uri": "https://localhost:8080/"
        },
        "id": "pT7NBo7ou2dE",
        "outputId": "519e88fd-eb6b-4ede-e88f-4b7f31e95768"
      },
      "source": [
        "results = model.evaluate(X_test, y_test)\n",
        "print('Test accuracy:', results[1])"
      ],
      "execution_count": null,
      "outputs": [
        {
          "output_type": "stream",
          "text": [
            "313/313 [==============================] - 1s 2ms/step - loss: 0.1637 - accuracy: 0.9486\n",
            "Test accuracy: 0.9485999941825867\n"
          ],
          "name": "stdout"
        }
      ]
    },
    {
      "cell_type": "markdown",
      "metadata": {
        "id": "Go6Kmwg1vBZ6"
      },
      "source": [
        "##**드랍아웃**"
      ]
    },
    {
      "cell_type": "code",
      "metadata": {
        "id": "lWYpiXw7vEAE"
      },
      "source": [
        "from keras.layers import Dropout\n",
        "def mlp_model_dropout():\n",
        "    model = Sequential()\n",
        "    model.add(Dense(50, input_shape = (784, )))\n",
        "    model.add(BatchNormalization())\n",
        "    model.add(Activation('relu'))\n",
        "    model.add(Dropout(0.2)) #erasing node as probability 0.2\n",
        "    model.add(Dense(50)) \n",
        "    model.add(BatchNormalization())\n",
        "    model.add(Activation('relu'))\n",
        "    model.add(Dropout(0.2))\n",
        "    model.add(Dense(50)) \n",
        "    model.add(BatchNormalization())\n",
        "    model.add(Activation('relu'))\n",
        "    model.add(Dropout(0.2))\n",
        "    model.add(Dense(50)) \n",
        "    model.add(BatchNormalization())\n",
        "    model.add(Activation('relu'))\n",
        "    model.add(Dropout(0.2))\n",
        "    model.add(Dense(10))\n",
        "    model.add(Activation('softmax'))\n",
        "    \n",
        "    RMSProp = optimizers.RMSprop(lr = 0.001)\n",
        "    #많이 사용하는 활성화 함수 #Adam #RMSProp\n",
        "    #############################RMSProp\n",
        "    model.compile(optimizer = sgd, loss='categorical_crossentropy', metrics = ['accuracy'])\n",
        "\n",
        "    return model"
      ],
      "execution_count": null,
      "outputs": []
    },
    {
      "cell_type": "code",
      "metadata": {
        "id": "qH6aZMslvp11"
      },
      "source": [
        "model = mlp_model_dropout()\n",
        "history = model.fit(X_train, y_train, validation_split = 0.3, epochs = 100, verbose = 0)"
      ],
      "execution_count": null,
      "outputs": []
    },
    {
      "cell_type": "code",
      "metadata": {
        "id": "-NGwWNXCvwud"
      },
      "source": [
        "plt.plot(history.history['accuracy']) #####################history.history?\n",
        "plt.plot(history.history['val_accuracy'])\n",
        "plt.legend(['training', 'validation'], loc = 'upper left') #레전드 #왼쪽 위 네모박스\n",
        "plt.show()"
      ],
      "execution_count": null,
      "outputs": []
    },
    {
      "cell_type": "code",
      "metadata": {
        "id": "cK9DUbmYv0Br"
      },
      "source": [
        "results = model.evaluate(X_test, y_test)\n",
        "print('Test accuracy:', results[1])"
      ],
      "execution_count": null,
      "outputs": []
    },
    {
      "cell_type": "markdown",
      "metadata": {
        "id": "tcKH9JBzQAUQ"
      },
      "source": [
        "##**그래디언트 클리핑**"
      ]
    },
    {
      "cell_type": "code",
      "metadata": {
        "id": "VCnBt30bQFqL"
      },
      "source": [
        "optimizer = keras.optimizers.SGD(clipvalue=1.0) #set clipvalue for gradient clipping\n",
        "model.compile(loss=\"mse\", optimizer=optimizer)"
      ],
      "execution_count": null,
      "outputs": []
    },
    {
      "cell_type": "markdown",
      "metadata": {
        "id": "_UlEIX4iv2h9"
      },
      "source": [
        "#**11.2 전이학습**"
      ]
    },
    {
      "cell_type": "markdown",
      "metadata": {
        "id": "ktS96JLVSTT-"
      },
      "source": [
        "##**11.2.1 케라스를 사용한 전이학습**\n",
        "일반적인 특정을 감지하는 경향\n",
        "\n",
        "= 심층 합성곱 신경망에서 잘 동작\n",
        "\n",
        "예시는 부적절\n",
        "\n",
        "- 작은 네트워크 : 패턴 수를 적게 학습\n",
        "\n",
        "- 완전 연결 네트워크 : 특정 패턴 학습"
      ]
    },
    {
      "cell_type": "code",
      "metadata": {
        "id": "Gxf_aX3pVYTC"
      },
      "source": [
        "from tensorflow import keras"
      ],
      "execution_count": null,
      "outputs": []
    },
    {
      "cell_type": "code",
      "metadata": {
        "colab": {
          "base_uri": "https://localhost:8080/"
        },
        "id": "bnpxiVxqVeOT",
        "outputId": "feb3d72b-ae1f-4d4f-85b2-dfd198ce20d9"
      },
      "source": [
        "array = ([1, 2, 3], [4, 5, 6], [7, 8, 9])\n",
        "array[ : -1]"
      ],
      "execution_count": null,
      "outputs": [
        {
          "output_type": "execute_result",
          "data": {
            "text/plain": [
              "([1, 2, 3], [4, 5, 6])"
            ]
          },
          "metadata": {
            "tags": []
          },
          "execution_count": 6
        }
      ]
    },
    {
      "cell_type": "code",
      "metadata": {
        "colab": {
          "base_uri": "https://localhost:8080/",
          "height": 363
        },
        "id": "pbrMmdm0STKj",
        "outputId": "299e3b53-f384-4e66-92ce-437f960e5d2a"
      },
      "source": [
        "model_A=keras.models.load_model(\"my_model_A.h5\")\n",
        "model_B_on_A = keras.models.Sequential(model_A.layers[:-1]) #################\n",
        "model_B_on_A.add(keras.layers.Dense(1, activation=\"sigmoid\"))"
      ],
      "execution_count": null,
      "outputs": [
        {
          "output_type": "error",
          "ename": "OSError",
          "evalue": "ignored",
          "traceback": [
            "\u001b[0;31m---------------------------------------------------------------------------\u001b[0m",
            "\u001b[0;31mOSError\u001b[0m                                   Traceback (most recent call last)",
            "\u001b[0;32m<ipython-input-3-c547fe251231>\u001b[0m in \u001b[0;36m<module>\u001b[0;34m()\u001b[0m\n\u001b[1;32m      1\u001b[0m \u001b[0;32mfrom\u001b[0m \u001b[0mtensorflow\u001b[0m \u001b[0;32mimport\u001b[0m \u001b[0mkeras\u001b[0m\u001b[0;34m\u001b[0m\u001b[0;34m\u001b[0m\u001b[0m\n\u001b[1;32m      2\u001b[0m \u001b[0mfashion_mnist\u001b[0m \u001b[0;34m=\u001b[0m \u001b[0mkeras\u001b[0m\u001b[0;34m.\u001b[0m\u001b[0mdatasets\u001b[0m\u001b[0;34m.\u001b[0m\u001b[0mfashion_mnist\u001b[0m\u001b[0;34m\u001b[0m\u001b[0;34m\u001b[0m\u001b[0m\n\u001b[0;32m----> 3\u001b[0;31m \u001b[0mmodel_A\u001b[0m\u001b[0;34m=\u001b[0m\u001b[0mkeras\u001b[0m\u001b[0;34m.\u001b[0m\u001b[0mmodels\u001b[0m\u001b[0;34m.\u001b[0m\u001b[0mload_model\u001b[0m\u001b[0;34m(\u001b[0m\u001b[0;34m\"my_model_A.h5\"\u001b[0m\u001b[0;34m)\u001b[0m\u001b[0;34m\u001b[0m\u001b[0;34m\u001b[0m\u001b[0m\n\u001b[0m",
            "\u001b[0;32m/usr/local/lib/python3.7/dist-packages/tensorflow/python/keras/saving/save.py\u001b[0m in \u001b[0;36mload_model\u001b[0;34m(filepath, custom_objects, compile, options)\u001b[0m\n\u001b[1;32m    209\u001b[0m       \u001b[0mfilepath\u001b[0m \u001b[0;34m=\u001b[0m \u001b[0mpath_to_string\u001b[0m\u001b[0;34m(\u001b[0m\u001b[0mfilepath\u001b[0m\u001b[0;34m)\u001b[0m\u001b[0;34m\u001b[0m\u001b[0;34m\u001b[0m\u001b[0m\n\u001b[1;32m    210\u001b[0m       \u001b[0;32mif\u001b[0m \u001b[0misinstance\u001b[0m\u001b[0;34m(\u001b[0m\u001b[0mfilepath\u001b[0m\u001b[0;34m,\u001b[0m \u001b[0msix\u001b[0m\u001b[0;34m.\u001b[0m\u001b[0mstring_types\u001b[0m\u001b[0;34m)\u001b[0m\u001b[0;34m:\u001b[0m\u001b[0;34m\u001b[0m\u001b[0;34m\u001b[0m\u001b[0m\n\u001b[0;32m--> 211\u001b[0;31m         \u001b[0mloader_impl\u001b[0m\u001b[0;34m.\u001b[0m\u001b[0mparse_saved_model\u001b[0m\u001b[0;34m(\u001b[0m\u001b[0mfilepath\u001b[0m\u001b[0;34m)\u001b[0m\u001b[0;34m\u001b[0m\u001b[0;34m\u001b[0m\u001b[0m\n\u001b[0m\u001b[1;32m    212\u001b[0m         \u001b[0;32mreturn\u001b[0m \u001b[0msaved_model_load\u001b[0m\u001b[0;34m.\u001b[0m\u001b[0mload\u001b[0m\u001b[0;34m(\u001b[0m\u001b[0mfilepath\u001b[0m\u001b[0;34m,\u001b[0m \u001b[0mcompile\u001b[0m\u001b[0;34m,\u001b[0m \u001b[0moptions\u001b[0m\u001b[0;34m)\u001b[0m\u001b[0;34m\u001b[0m\u001b[0;34m\u001b[0m\u001b[0m\n\u001b[1;32m    213\u001b[0m \u001b[0;34m\u001b[0m\u001b[0m\n",
            "\u001b[0;32m/usr/local/lib/python3.7/dist-packages/tensorflow/python/saved_model/loader_impl.py\u001b[0m in \u001b[0;36mparse_saved_model\u001b[0;34m(export_dir)\u001b[0m\n\u001b[1;32m    112\u001b[0m                   (export_dir,\n\u001b[1;32m    113\u001b[0m                    \u001b[0mconstants\u001b[0m\u001b[0;34m.\u001b[0m\u001b[0mSAVED_MODEL_FILENAME_PBTXT\u001b[0m\u001b[0;34m,\u001b[0m\u001b[0;34m\u001b[0m\u001b[0;34m\u001b[0m\u001b[0m\n\u001b[0;32m--> 114\u001b[0;31m                    constants.SAVED_MODEL_FILENAME_PB))\n\u001b[0m\u001b[1;32m    115\u001b[0m \u001b[0;34m\u001b[0m\u001b[0m\n\u001b[1;32m    116\u001b[0m \u001b[0;34m\u001b[0m\u001b[0m\n",
            "\u001b[0;31mOSError\u001b[0m: SavedModel file does not exist at: my_model_A.h5/{saved_model.pbtxt|saved_model.pb}"
          ]
        }
      ]
    },
    {
      "cell_type": "code",
      "metadata": {
        "id": "cp9pTGGuwMbw"
      },
      "source": [
        "#clone model A\n",
        "model_A_clone = keras.models.clone_model(model_A)\n",
        "model_A_clone.set_weights(model_A.get_weights())"
      ],
      "execution_count": null,
      "outputs": []
    },
    {
      "cell_type": "code",
      "metadata": {
        "id": "mqMiJ4XqZWfR"
      },
      "source": [
        "for layer in model_B_on_A.layers[:-1]:\n",
        "    layer.trainable = False \n",
        "    #reuse layer freezing\n",
        "    #give time for training model B \n",
        "model_B_on_A.compile(loss=\"binary_crossentropy\", optimizer=\"sgd\", metrics=[\"accuracy\"])"
      ],
      "execution_count": null,
      "outputs": []
    },
    {
      "cell_type": "code",
      "metadata": {
        "id": "rHuRzB2GdJ_m"
      },
      "source": [
        "history = model_B_on_A.fit(X_train_B, y_train_B, epochs=4, validation_data=(X_valid_B, y_valid_B))\n",
        "\n",
        "for layer in moder_B_on_A.layers[:-1]:\n",
        "    layer.trainable = True \n",
        "    #동결 해제 \n",
        "optimizer = keras.optimizers.SGD(lr=1e-4)\n",
        "#학습률을 낮추는 것이 좋음\n",
        "#세밀하게 튜닝하기 위해서 \n",
        "#기본 학습률 = 1e-2\n",
        "\n",
        "model_B_on_A.compile(loss=\"binary_crossentropy\", optimizer=optimizer, metrics=['accuracy'])\n",
        "history = model_B_on_A.fit(X_train_B, y_train_B, epochs=16, validation_data=(X_valid_B, y_valid_B))"
      ],
      "execution_count": null,
      "outputs": []
    },
    {
      "cell_type": "code",
      "metadata": {
        "id": "ZqKyUywIeHgF"
      },
      "source": [
        "model_B_on_A.evaluate(X_test_B, y_test_B)"
      ],
      "execution_count": null,
      "outputs": []
    },
    {
      "cell_type": "markdown",
      "metadata": {
        "id": "h-agrI25wLbE"
      },
      "source": [
        "#**11.3 고속 옵티마이저**"
      ]
    },
    {
      "cell_type": "markdown",
      "metadata": {
        "id": "guuo-4SPfE_E"
      },
      "source": [
        "### 11.3.1 모멘텀 최적화"
      ]
    },
    {
      "cell_type": "code",
      "metadata": {
        "id": "zp8J63bpwK6i"
      },
      "source": [
        "optimizer = keras.optimizers.SGD(lr=0.001, ,momentum=0.9)"
      ],
      "execution_count": null,
      "outputs": []
    },
    {
      "cell_type": "markdown",
      "metadata": {
        "id": "EJXQ3x-WfQW-"
      },
      "source": [
        "##11.3.2 네스테로프 가속 경사"
      ]
    },
    {
      "cell_type": "code",
      "metadata": {
        "id": "IF5BJdMpfTUr"
      },
      "source": [
        "optimizer = keras.optimizers.SGD(lr=0.001, momentum=0.9, nesterov=True)"
      ],
      "execution_count": null,
      "outputs": []
    },
    {
      "cell_type": "markdown",
      "metadata": {
        "id": "vzevLtgcipKq"
      },
      "source": [
        "##11.3.3 AdaGrad"
      ]
    },
    {
      "cell_type": "markdown",
      "metadata": {
        "id": "MRFfMKcViuvD"
      },
      "source": [
        "##11.3.4 RMSProp"
      ]
    },
    {
      "cell_type": "code",
      "metadata": {
        "id": "0PD9fkJEi-1B"
      },
      "source": [
        "optimizer = keras.optimizers.RMSProp(lr=0.001, rho=0.9)"
      ],
      "execution_count": null,
      "outputs": []
    },
    {
      "cell_type": "markdown",
      "metadata": {
        "id": "CZa0qaXXjByH"
      },
      "source": [
        "##11.3.5 Adam과 Nadam 최적화"
      ]
    },
    {
      "cell_type": "code",
      "metadata": {
        "id": "hpQTUIWPjKVA"
      },
      "source": [
        "optimizer = keras.optimizers.Adam(lr=0.001, beta_1=-0.9, beta_2=0.999)"
      ],
      "execution_count": null,
      "outputs": []
    },
    {
      "cell_type": "markdown",
      "metadata": {
        "id": "RJHMAs4TjU6l"
      },
      "source": [
        "##11.3.6 학습률 스케줄링"
      ]
    },
    {
      "cell_type": "code",
      "metadata": {
        "colab": {
          "base_uri": "https://localhost:8080/",
          "height": 230
        },
        "id": "MzIzMF4SjVEy",
        "outputId": "52a59996-3fe5-4e44-acfc-61b16abfa4d5"
      },
      "source": [
        "#거듭제곱 기반 스케줄링\n",
        "#decay : 학습률을 나누기 위해 수행할 스텝 수(s)의 역수\n",
        "optimizer = keras.optimizers.SGD(lr=0.001, decay=1e-4)\n",
        "\n",
        "#지수기반 스케줄링\n",
        "def exponential_decay(lr0, s):\n",
        "    def exponential_decay_fn(epoch):\n",
        "            return lr0 *0.1**(epoch/s)\n",
        "\n",
        "    return exponential_decay_fn\n",
        "\n",
        "#구간별 고정 스케줄링 \n",
        "def piecewise_constant_fn(epoch):\n",
        "    if epoch < 5 : \n",
        "        return 0.01\n",
        "    elif epoch < 15 :\n",
        "        return 0.005\n",
        "    else:\n",
        "        return 0.001\n",
        "\n",
        "#성능 기반 스케줄링 \n",
        "##ReduceLROnPlateau : patience 동안 성능이 향상되지 않으면 학습률에 0.5 곱함\n",
        "lr_scheduler = tf.keras.callbacks.ReduceLROnPlateau(factor=0.5, patience = 5)\n",
        "##LearningRateScheduler : 에포크마다 학습률 업데이트\n",
        "lr_scheduler = tf.keras.callbacks.LearningRateScheduler(exponential_decay_fn) \n",
        "\n",
        "#실제 적용 방법\n",
        "exponential_decay_fn = exponential_decay(lr0 = 0.01, s = 20) #지수 기반 스케줄링\n",
        "lr_scheduler = tf.keras.callbacks.LearningRateScheduler(exponential_decay_fn) #에포크마다 학습률 업데이트\n",
        "history = model.fit(X_train_scaled, y_train, epochs = 20,\n",
        "                    validation_data = (X_valid_scaled, y_valid)\n",
        "                    callbacks = [lr_scheduler]\n",
        "                    )\n",
        "\n"
      ],
      "execution_count": null,
      "outputs": [
        {
          "output_type": "error",
          "ename": "NameError",
          "evalue": "ignored",
          "traceback": [
            "\u001b[0;31m---------------------------------------------------------------------------\u001b[0m",
            "\u001b[0;31mNameError\u001b[0m                                 Traceback (most recent call last)",
            "\u001b[0;32m<ipython-input-2-b79df59a1a5f>\u001b[0m in \u001b[0;36m<module>\u001b[0;34m()\u001b[0m\n\u001b[1;32m      1\u001b[0m \u001b[0;31m#거듭제곱 기반 스케줄링\u001b[0m\u001b[0;34m\u001b[0m\u001b[0;34m\u001b[0m\u001b[0;34m\u001b[0m\u001b[0m\n\u001b[0;32m----> 2\u001b[0;31m \u001b[0moptimizer\u001b[0m \u001b[0;34m=\u001b[0m \u001b[0mkeras\u001b[0m\u001b[0;34m.\u001b[0m\u001b[0moptimizers\u001b[0m\u001b[0;34m.\u001b[0m\u001b[0mSGD\u001b[0m\u001b[0;34m(\u001b[0m\u001b[0mlr\u001b[0m\u001b[0;34m=\u001b[0m\u001b[0;36m0.001\u001b[0m\u001b[0;34m,\u001b[0m \u001b[0mdecay\u001b[0m\u001b[0;34m=\u001b[0m\u001b[0;36m1e-4\u001b[0m\u001b[0;34m)\u001b[0m\u001b[0;34m\u001b[0m\u001b[0;34m\u001b[0m\u001b[0m\n\u001b[0m\u001b[1;32m      3\u001b[0m \u001b[0;34m\u001b[0m\u001b[0m\n\u001b[1;32m      4\u001b[0m \u001b[0;31m#지수기반 스케줄링\u001b[0m\u001b[0;34m\u001b[0m\u001b[0;34m\u001b[0m\u001b[0;34m\u001b[0m\u001b[0m\n\u001b[1;32m      5\u001b[0m \u001b[0;32mdef\u001b[0m \u001b[0mexponential_decay_fn\u001b[0m\u001b[0;34m(\u001b[0m\u001b[0mepoch\u001b[0m\u001b[0;34m)\u001b[0m\u001b[0;34m:\u001b[0m\u001b[0;34m\u001b[0m\u001b[0;34m\u001b[0m\u001b[0m\n",
            "\u001b[0;31mNameError\u001b[0m: name 'keras' is not defined"
          ]
        }
      ]
    },
    {
      "cell_type": "markdown",
      "metadata": {
        "id": "mAsZ5c93wSyr"
      },
      "source": [
        "#**11.4 규제를 사용해 과대적합 피하기**"
      ]
    },
    {
      "cell_type": "markdown",
      "metadata": {
        "id": "lhyMxwXWneOn"
      },
      "source": [
        "##11.4.2 L1, L2 규제"
      ]
    },
    {
      "cell_type": "code",
      "metadata": {
        "id": "eVU8eHtawZcn"
      },
      "source": [
        "layer = tf.keras.layers.Dense(100, activation = 'relu',\n",
        "                              kernel_initializer = \"he_normal\",\n",
        "                              kernel_regularizer = tf.keras.regularizers.l2(0.02)"
      ],
      "execution_count": null,
      "outputs": []
    },
    {
      "cell_type": "code",
      "metadata": {
        "id": "gaaC3c9MnmbG"
      },
      "source": [
        "from functools import partial\n",
        "\n",
        "RegularizedDense = partial(tf.keras.layers.Dense,\n",
        "                           activation = 'relu',\n",
        "                           kernel_initializer = \"he_normal\",\n",
        "                           kernel_regularizer = tf.keras.regularizers.l2(0.02))\n",
        "\n",
        "\n",
        "model = tf.keras.models.Sequential([\n",
        "                tf.keras.layers.Flatten(input_shape = [28, 28]),\n",
        "                RegularizedDense(300),\n",
        "                RegularizedDense(100),\n",
        "                RegularizedDense(10, activation = 'softmax',\n",
        "                                 kernel_initializer = 'glorot_uniform')\n",
        "                ])"
      ],
      "execution_count": null,
      "outputs": []
    },
    {
      "cell_type": "markdown",
      "metadata": {
        "id": "fbTiORnHnlJ4"
      },
      "source": [
        "##11.4.2 드롭아웃"
      ]
    },
    {
      "cell_type": "code",
      "metadata": {
        "id": "OTe2zCH1nqXg"
      },
      "source": [
        "model = tf.keras.models.Sequential([\n",
        "           tf.keras.layers.Flatten(input_shape = [28, 28]),\n",
        "           tf.keras.layers.Dropout(rate = 0.2),\n",
        "           tf.keras.layers.Dense(300, kernel_initializer='he_normal'),\n",
        "           tf.keras.layers.Dropout(rate = 0.2),\n",
        "           tf.keras.layers.Activation(\"elu\"),\n",
        "           tf.keras.layers.Dense(100, kernel_initializer='he_normal'),\n",
        "           tf.keras.layers.Dropout(rate = 0.2),\n",
        "           tf.keras.layers.Dense(10, activation='softmax')\n",
        "           ])\n",
        "\n",
        "model.summary()"
      ],
      "execution_count": null,
      "outputs": []
    },
    {
      "cell_type": "markdown",
      "metadata": {
        "id": "DDmaj5rXn2bn"
      },
      "source": [
        "##11.4.3 몬테 카를로 드롭아웃"
      ]
    },
    {
      "cell_type": "code",
      "metadata": {
        "id": "Nnus6pL6n6pd"
      },
      "source": [
        "import numpy as np\n",
        "\n",
        "y_probas = np.stack([model(X_test_scaled, training=True)\n",
        "for sample in range(100)])\n",
        "\n",
        "y_proba = y_probas.mean(axis=0)"
      ],
      "execution_count": null,
      "outputs": []
    },
    {
      "cell_type": "code",
      "metadata": {
        "id": "xPdsH2KvoVKE"
      },
      "source": [
        "class MCDropout(keras.layers.Dropout):\n",
        "  def call(self, inputs):\n",
        "    return super().call(inputs, training=True)"
      ],
      "execution_count": null,
      "outputs": []
    },
    {
      "cell_type": "markdown",
      "metadata": {
        "id": "6fPgSyh5nt9Y"
      },
      "source": [
        "##11.4.4 맥스-노름 규제"
      ]
    },
    {
      "cell_type": "code",
      "metadata": {
        "id": "ulq-w3_TnwVi"
      },
      "source": [
        "tf.keras.layers.Dense(100, activation='elu',\n",
        "                      kernel_initializer = 'he_normal',\n",
        "                      kernel_constraint=tf.keras.constraints.max_norm(1.))"
      ],
      "execution_count": null,
      "outputs": []
    }
  ]
}