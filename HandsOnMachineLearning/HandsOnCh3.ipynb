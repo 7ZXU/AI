{
  "nbformat": 4,
  "nbformat_minor": 0,
  "metadata": {
    "colab": {
      "name": "HandsOnCh3.ipynb",
      "private_outputs": true,
      "provenance": [],
      "collapsed_sections": [],
      "include_colab_link": true
    },
    "kernelspec": {
      "name": "python3",
      "display_name": "Python 3"
    },
    "accelerator": "GPU"
  },
  "cells": [
    {
      "cell_type": "markdown",
      "metadata": {
        "id": "view-in-github",
        "colab_type": "text"
      },
      "source": [
        "<a href=\"https://colab.research.google.com/github/7ZXU/AI/blob/main/HandsOnMachineLearning/HandsOnCh3.ipynb\" target=\"_parent\"><img src=\"https://colab.research.google.com/assets/colab-badge.svg\" alt=\"Open In Colab\"/></a>"
      ]
    },
    {
      "cell_type": "markdown",
      "metadata": {
        "id": "6LatyCOi3O4u"
      },
      "source": [
        "#MNIST 숫자 데이터셋을 다양하게 학습시키기\n",
        "\n",
        "지도학습 \n",
        "- classification\n",
        "- regression\n",
        "\n",
        "##[classification] Conv net - Keras를 이용한 학습 맛보기"
      ]
    },
    {
      "cell_type": "code",
      "metadata": {
        "id": "surIs-xfAyab"
      },
      "source": [
        "pip install tensorflow"
      ],
      "execution_count": null,
      "outputs": []
    },
    {
      "cell_type": "code",
      "metadata": {
        "id": "rNjUZ2JNCWjI"
      },
      "source": [
        "import tensorflow as tf\n",
        "import numpy as np\n",
        "import pandas as pd\n",
        "import matplotlib.pyplot as plt\n",
        "import seaborn as sns"
      ],
      "execution_count": null,
      "outputs": []
    },
    {
      "cell_type": "code",
      "metadata": {
        "id": "RCDFk8dP2o4r"
      },
      "source": [
        "(mnist_images, mnist_labels),_=tf.keras.datasets.mnist.load_data()\n",
        "###################,_왜붙이는거지?\n",
        "mnist_images\n",
        "\n",
        "#mnist_labels.shape"
      ],
      "execution_count": null,
      "outputs": []
    },
    {
      "cell_type": "code",
      "metadata": {
        "id": "Ikh88IJME4wo"
      },
      "source": [
        "mnist_images.shape"
      ],
      "execution_count": null,
      "outputs": []
    },
    {
      "cell_type": "code",
      "metadata": {
        "id": "iO37q95EAty9"
      },
      "source": [
        "mnist_images = tf.cast(mnist_images[..., tf.newaxis]/255, tf.float32)\n",
        "#이미지를 255로 나눠주고 float32로 바꿔줌\n",
        "############################255로 왜 나눠줌?\n",
        "#tf.newaxis \n",
        "#차원추가\n",
        "mnist_labels = tf.cast(mnist_labels, tf.int64)\n",
        "#라벨을 int64로 바꿔줌\n",
        "mnist_images"
      ],
      "execution_count": null,
      "outputs": []
    },
    {
      "cell_type": "code",
      "metadata": {
        "id": "bsyrMIj5BoVO"
      },
      "source": [
        "train_images=mnist_images[:50000, :,:,:]\n",
        "train_labels=mnist_labels[:50000]\n",
        "\n",
        "test_images=mnist_images[55000:,:,:,:]\n",
        "test_labels=mnist_labels[55000:]\n",
        "\n",
        "valid_images=mnist_images[50000:55000,:,:,:]\n",
        "valid_labels=mnist_labels[50000:55000]\n"
      ],
      "execution_count": null,
      "outputs": []
    },
    {
      "cell_type": "code",
      "metadata": {
        "id": "K1zQsIApKuiq"
      },
      "source": [
        "mnist_model = tf.keras.models.Sequential([\n",
        "    #keras #tf의 API\n",
        "    #convolution 네트워크\n",
        "    #maxpolling 네트워크\n",
        "    \n",
        "    tf.keras.layers.Conv2D(32, [3,3],activation='relu',input_shape=(28,28,1)),\n",
        "    tf.keras.layers.MaxPooling2D((2,2)),\n",
        "    tf.keras.layers.Conv2D(32, [3,3],activation='relu'),\n",
        "    tf.keras.layers.MaxPooling2D((2,2)),\n",
        "    tf.keras.layers.Conv2D(32, [3,3],activation='relu'),\n",
        "    tf.keras.layers.Flatten(),\n",
        "    #Dense 줄여주기\n",
        "    tf.keras.layers.Dense(64,activation='relu'),\n",
        "    tf.keras.layers.Dense(10,activation='softmax')\n",
        "])"
      ],
      "execution_count": null,
      "outputs": []
    },
    {
      "cell_type": "code",
      "metadata": {
        "id": "RgxX0mtXUmiC"
      },
      "source": [
        "mnist_model.compile(\n",
        "                    loss=tf.keras.losses.SparseCategoricalCrossentropy(from_logits=True), \n",
        "                    optimizer='Adam', \n",
        "                    metrics=['accuracy']                    \n",
        "                    )\n",
        "\n",
        "#과열적합 과수적합"
      ],
      "execution_count": null,
      "outputs": []
    },
    {
      "cell_type": "code",
      "metadata": {
        "id": "OFlDTBC0hFit"
      },
      "source": [
        "mnist_model.summary()\n",
        "#.summary() #모델 개요\n",
        "#Total params\n",
        "#예측 모델 변수는 적당해야함\n",
        "#무-전기톱 #통나무-커터칼\n",
        "#과열적합 #과수적합"
      ],
      "execution_count": null,
      "outputs": []
    },
    {
      "cell_type": "code",
      "metadata": {
        "id": "csW5eelj1xG8"
      },
      "source": [
        "history = mnist_model.fit(\n",
        "    train_images, \n",
        "    train_labels, \n",
        "    epochs = 20, \n",
        "    validation_data=(valid_images, valid_labels)\n",
        ")"
      ],
      "execution_count": null,
      "outputs": []
    },
    {
      "cell_type": "code",
      "metadata": {
        "id": "2nOQ6YyK3u3E"
      },
      "source": [
        "prediction = mnist_model.predict(test_images)\n",
        "#훈련된 모델을 사용하여 이미지에 대한 예측 \n",
        "#prediction #모델의 신뢰도 나타냄\n",
        "prediction_argmax = np.argmax(prediction, axis = 1)\n",
        "#np.argmax\n",
        "#axis에 해당하는 값들 중 가장 큰 값의 인덱스 반환\n",
        "#axis = 1(y축)\n",
        "#가장 높은 신뢰도 가진 레이블 찾기\n"
      ],
      "execution_count": null,
      "outputs": []
    },
    {
      "cell_type": "code",
      "metadata": {
        "id": "9WLOyhb65Cp1"
      },
      "source": [
        "#벡터화 연산\n",
        "acc_arr = (prediction_argmax == test_labels.numpy())\n",
        "acc = np.sum(acc_arr)/5000*100\n",
        "print(\"정확도 : \", acc, '%')"
      ],
      "execution_count": null,
      "outputs": []
    },
    {
      "cell_type": "code",
      "metadata": {
        "id": "G2shins45TMr"
      },
      "source": [
        "pd.DataFrame(history.history).plot(figsize=(8,5))\n",
        "plt.show()"
      ],
      "execution_count": null,
      "outputs": []
    },
    {
      "cell_type": "markdown",
      "metadata": {
        "id": "XAGtRVrs8T2Q"
      },
      "source": [
        "##MLP (Multi Layer Perceptron)\n",
        "기하학적 정보를 담지 못한다"
      ]
    },
    {
      "cell_type": "code",
      "metadata": {
        "id": "N-iVlwIj7szK"
      },
      "source": [
        "model=tf.keras.Sequential([\n",
        "                           tf.keras.layers.Flatten(input_shape=(28,28)),\n",
        "                           tf.keras.layers.Dense(128, activation='relu'),\n",
        "                           tf.keras.layers.Dense(10,activation='softmax')\n",
        "])"
      ],
      "execution_count": null,
      "outputs": []
    },
    {
      "cell_type": "code",
      "metadata": {
        "id": "gHeyudG_86RY"
      },
      "source": [
        "model.compile(\n",
        "    loss=tf.keras.losses.SparseCategoricalCrossentropy(from_logits=True), \n",
        "    #loss 측정 함수 \n",
        "    optimizer = 'Adam', \n",
        "    metrics = ['accuracy']\n",
        "    )"
      ],
      "execution_count": null,
      "outputs": []
    },
    {
      "cell_type": "code",
      "metadata": {
        "id": "E4Z-6tWi9aIu"
      },
      "source": [
        "model.summary()"
      ],
      "execution_count": null,
      "outputs": []
    },
    {
      "cell_type": "code",
      "metadata": {
        "id": "xc0NuI_B9erH"
      },
      "source": [
        "history = model.fit(\n",
        "    train_images, train_labels, epochs=20, \n",
        "    validation_data = (valid_images, valid_labels)\n",
        "                    )"
      ],
      "execution_count": null,
      "outputs": []
    },
    {
      "cell_type": "code",
      "metadata": {
        "id": "sG6WrJbC-Eb6"
      },
      "source": [
        "prediction = model.predict(test_images)\n",
        "prediction_argmax = np.argmax(prediction, axis=1)"
      ],
      "execution_count": null,
      "outputs": []
    },
    {
      "cell_type": "code",
      "metadata": {
        "id": "mF5xAQUW-YSl"
      },
      "source": [
        "acc_arr = (prediction_argmax==test_labels.numpy())\n",
        "acc = np.sum(acc_arr)/5000*100 ##########################5000으로 왜 나눔?\n",
        "print(\"정확도 : \",acc,'%')"
      ],
      "execution_count": null,
      "outputs": []
    },
    {
      "cell_type": "code",
      "metadata": {
        "id": "B3q8VUnP-nhQ"
      },
      "source": [
        "pd.DataFrame(history.history).plot(figsize=(8,5))\n",
        "plt.show()"
      ],
      "execution_count": null,
      "outputs": []
    },
    {
      "cell_type": "markdown",
      "metadata": {
        "id": "JK5pQM3W-zGV"
      },
      "source": [
        "##뭐가 더 좋은 모델인가요? CNN VS MLP \n",
        "\n",
        "CNN이 더 좋은 모델이다. \n",
        "지금 분류하는 데이터는 MNIST 데이터로 이미지 데이터이다.\n",
        "\n",
        "이미지 데이터의 경우 \n",
        "RGB를 생각해보면 \n",
        "가까운 픽셀끼리 비슷한 값을 갖고 \n",
        "먼 픽셀끼리는 그 연관성이 떨어지기 때문에 \n",
        "픽셀 배열에서 오는 \n",
        "기하학적인 정보가 있다.\n",
        "\n",
        "그런데 MLP의 경우에서는 \n",
        "FLATTEN METHOD를 통해서\n",
        "1차원 배열로 그 기하학적 특성을 파괴하기때문에 \n",
        "공간 배열에서 오는 정보를 잃는다.\n",
        "\n",
        "따라서 공간 특성을 유지할 수 있는 \n",
        "CNN이 더 좋은 모델이다.\n",
        "\n"
      ]
    },
    {
      "cell_type": "code",
      "metadata": {
        "id": "Ku2OB4Al-vbX"
      },
      "source": [
        "from sklearn.datasets import fetch_openml\n",
        "\n",
        "mnist = fetch_openml('mnist_784', version = 1)\n",
        "mnist.keys()"
      ],
      "execution_count": null,
      "outputs": []
    },
    {
      "cell_type": "code",
      "metadata": {
        "id": "Rp40gpWoALIn"
      },
      "source": [
        "X, y = mnist[\"data\"], mnist[\"target\"]\n",
        "\n",
        "print(X.shape)\n",
        "print(y.shape)"
      ],
      "execution_count": null,
      "outputs": []
    },
    {
      "cell_type": "code",
      "metadata": {
        "id": "V3BiZ5cDAWEi"
      },
      "source": [
        "type(y[0]) #숫자가 아닌 문자열"
      ],
      "execution_count": null,
      "outputs": []
    },
    {
      "cell_type": "code",
      "metadata": {
        "id": "9JG2mdbMAjeu"
      },
      "source": [
        "y=y.astype(np.uint8) #숫자로 변환"
      ],
      "execution_count": null,
      "outputs": []
    },
    {
      "cell_type": "code",
      "metadata": {
        "id": "rj9fX7zcAnOR"
      },
      "source": [
        "X_train, X_test, y_train, y_test = X[:60000], X[60000:], y[:60000], y[60000:]\n",
        "#train, test data 불러오기"
      ],
      "execution_count": null,
      "outputs": []
    },
    {
      "cell_type": "markdown",
      "metadata": {
        "id": "7V4jXvpVA-bB"
      },
      "source": [
        "##**이진 분류기** \n",
        "True of False"
      ]
    },
    {
      "cell_type": "code",
      "metadata": {
        "id": "Y-fMeIf4A2ua"
      },
      "source": [
        "y_train_5=(y_train == 5)\n",
        "t_test_5=(y_test == 5)\n",
        "#5일때만 1값 가짐"
      ],
      "execution_count": null,
      "outputs": []
    },
    {
      "cell_type": "code",
      "metadata": {
        "id": "qivpQkgpBUbJ"
      },
      "source": [
        "from sklearn.linear_model import SGDClassifier \n",
        "#SGDClassifier\n",
        "#Support Vector machine과 비슷\n",
        "#경사하강법 -> 모든 데이터 사용해서 w,b 구함\n",
        "#확률적 경사하강법 -> 일부 데이터만 뽑아서 w, b 구함 \n",
        "#SVM을 SGD로 최적화한 것\n",
        "from sklearn.pipeline import make_pipeline\n",
        "#pipeline\n",
        "#버튼 누르면 이하 기능이 실행됨\n",
        "\n",
        "sgd_clf = make_pipeline( #파이프라인 감싸주는 습관 들이기\n",
        "    SGDClassifier(random_state=42)\n",
        ")\n",
        "sgd_clf.fit(X_train, y_train_5) #학습"
      ],
      "execution_count": null,
      "outputs": []
    },
    {
      "cell_type": "code",
      "metadata": {
        "id": "xOcTbgf2DcJw"
      },
      "source": [
        "from sklearn.model_selection import cross_val_score \n",
        "#교차검증이용\n",
        "#데이터 세트를 a, b, c로 나눔\n",
        "#b,c 이용 ->a 테스트 \n",
        "#데이터 세트 분할하는 수만큼 성능 나옴\n",
        "cross_val_score(sgd_clf, X_train, y_train_5, cv=3, scoring = 'accuracy')\n",
        "\n",
        "#from~import~ #강경한 의사표현식 \n",
        "#from <module> import <method>\n",
        "#module #.py로 된 파이썬 라이브러리 집합\n"
      ],
      "execution_count": null,
      "outputs": []
    },
    {
      "cell_type": "code",
      "metadata": {
        "id": "eusqBTHoE372"
      },
      "source": [
        "import sklearn.model_selection as sms\n",
        "sms.cross_val_score(sgd_clf, X_train, y_train_5, cv=3, scoring='accuracy')\n",
        "#위의 from~import~와 동일한 의미"
      ],
      "execution_count": null,
      "outputs": []
    },
    {
      "cell_type": "markdown",
      "metadata": {
        "id": "elpBZQAlFN-1"
      },
      "source": [
        "##**Never5Classifier**\n",
        "모든 이미지를 5가 아니라고 하는 더미 분류기"
      ]
    },
    {
      "cell_type": "code",
      "metadata": {
        "id": "C7xhve5YFNA6"
      },
      "source": [
        "#DuckTyping\n",
        "#method를 통해서 type 결정\n",
        "#다른 class더라도 동일 method이면 동일 type으로 간주\n",
        "class Parrot:\n",
        "    def fly(self):\n",
        "        print(\"Parrot flying\")\n",
        "\n",
        "class Airplane:\n",
        "    def fly(self):\n",
        "        print(\"Airplane flying\")\n",
        "\n",
        "class Whale:\n",
        "    def swim(self):\n",
        "        print(\"Whale swimming\")\n",
        "\n",
        "def lift_off(entity):\n",
        "    entity.fly()\n",
        "\n",
        "parrot = Parrot()\n",
        "airplane = Airplane()\n",
        "whale = Whale()\n",
        "\n",
        "lift_off(parrot) # prints `Parrot flying`\n",
        "lift_off(airplane) # prints `Airplane flying`\n",
        "lift_off(whale) # Throws the error `'Whale' object has no attribute 'fly'`"
      ],
      "execution_count": null,
      "outputs": []
    },
    {
      "cell_type": "code",
      "metadata": {
        "id": "ggkxNNTiZu2Z"
      },
      "source": [
        ""
      ],
      "execution_count": null,
      "outputs": []
    },
    {
      "cell_type": "code",
      "metadata": {
        "id": "Wn2d0EnlHEWp"
      },
      "source": [
        "from sklearn.base import BaseEstimator, TransformerMixin\n",
        "#BaseEstimator\n",
        "#.fit() #transform 감 잡기\n",
        "#.transform() #transform 실행\n",
        "\n",
        "#TransformerMixin \n",
        "#fit_transform = fit+transform\n",
        "#fit_transform 자동상속\n",
        "\n",
        "class Never5Classifier(BaseEstimator, TransformerMixin): #상속\n",
        "    def fit(self, X, y=None): \n",
        "        #y는 부모클래스의 self 메서드에서 정의 #따라서 y=None\n",
        "        return self\n",
        "    def transform(self, X, y=None):\n",
        "        return self\n",
        "    def predict(self, X): #모두 0, False 예측 만들어냄\n",
        "        return np.zeros((len(X),1), dtype=bool)\n",
        "\n",
        "cross_val_score(Never5Classifier(), X_train, y_train_5, cv=3, scoring='accuracy')\n"
      ],
      "execution_count": null,
      "outputs": []
    },
    {
      "cell_type": "markdown",
      "metadata": {
        "id": "w34YSRe7NEbn"
      },
      "source": [
        "##**오차행렬-이진분류기**\n",
        "\n",
        "무엇이 오차였는지 확인하기 위해서 오차 행렬 직접 확인해보기"
      ]
    },
    {
      "cell_type": "code",
      "metadata": {
        "id": "LESWukEDNBan"
      },
      "source": [
        "from sklearn.model_selection import cross_val_predict\n",
        "from sklearn.metrics import confusion_matrix\n",
        "\n",
        "y_train_pred = cross_val_predict(sgd_clf, X_train, y_train_5,cv=3)\n",
        "confusion_matrix(y_train_5, y_train_pred)\n",
        "#confusion_matrix\n",
        "#([[1 0],  1 : 5 아님 -> 5 아님 \n",
        "#  [0 1]]) 1 : 5 맞음 -> 5 맞음\n",
        "\n"
      ],
      "execution_count": null,
      "outputs": []
    },
    {
      "cell_type": "code",
      "metadata": {
        "id": "gGjgntxdNttd"
      },
      "source": [
        "from sklearn.metrics import precision_score, recall_score, f1_score\n",
        "precision = precision_score(y_train_5, y_train_pred)\n",
        "recall = recall_score(y_train_5, y_train_pred)\n",
        "f1 = f1_score(y_train_5, y_train_pred)\n",
        "print('정밀도:',precision,'\\n재현율:',recall,'\\nF1:',f1)\n"
      ],
      "execution_count": null,
      "outputs": []
    },
    {
      "cell_type": "markdown",
      "metadata": {
        "id": "1qlTU_2xSGtq"
      },
      "source": [
        "**의료 데이터에서는 정밀도가 중요한가 재현율이 중요한가**\n",
        "\n",
        "- 정밀도 : true라고 예측한 값 중 실제 true인 비율\n",
        "\n",
        "- 재현율 : 실제 true인 값을 true로 예측하는 비율\n",
        "\n",
        "true를 최대한 빠짐없이 예측하는 것이 중요하기에 정밀도 보다는 재현율이 중요하다"
      ]
    },
    {
      "cell_type": "markdown",
      "metadata": {
        "id": "lW4QPHAoS0RJ"
      },
      "source": [
        "##**정밀도 재현율 트레이드오프 : 이진분류기**"
      ]
    },
    {
      "cell_type": "code",
      "metadata": {
        "id": "2y8ZXWqSSn3r"
      },
      "source": [
        "y_scores = cross_val_predict(sgd_clf, X_train, y_train_5, cv=3, method='decision_function')"
      ],
      "execution_count": null,
      "outputs": []
    },
    {
      "cell_type": "code",
      "metadata": {
        "id": "GAUQwZ8_Ph5A"
      },
      "source": [
        "from sklearn.metrics import precision_recall_curve\n",
        "precisions, recalls, thresholds = precision_recall_curve(y_train_5, y_scores)"
      ],
      "execution_count": null,
      "outputs": []
    },
    {
      "cell_type": "code",
      "metadata": {
        "id": "xJPbfeqfTfk7"
      },
      "source": [
        "plt.plot(thresholds, precisions[:-1], 'b--', label='정밀도')\n",
        "plt.plot(thresholds, recalls[:-1], 'g--',label='재현율')\n",
        "plt.ylim([0,1])\n",
        "plt.xlim([-100000, 50000])\n",
        "plt.show()"
      ],
      "execution_count": null,
      "outputs": []
    },
    {
      "cell_type": "code",
      "metadata": {
        "id": "sYDF3q8SWboM"
      },
      "source": [
        "thresholds.shape"
      ],
      "execution_count": null,
      "outputs": []
    },
    {
      "cell_type": "markdown",
      "metadata": {
        "id": "b9ilI4A-Whk6"
      },
      "source": [
        "##**다중분류기 : 핵심**\n"
      ]
    },
    {
      "cell_type": "code",
      "metadata": {
        "id": "TCgYa3tQWenH"
      },
      "source": [
        "from sklearn.svm import SVC\n",
        "svm_clf = SVC()\n",
        "svm_clf.fit(X_train, y_train)\n",
        "#데이터 전처리 및 결과해석이 더 중요"
      ],
      "execution_count": null,
      "outputs": []
    },
    {
      "cell_type": "code",
      "metadata": {
        "id": "HP2GrJMdXtz8"
      },
      "source": [
        "def disp(prediction, ans):\n",
        "    if prediction == ans : \n",
        "        print(\"정답\")\n",
        "    else:\n",
        "        print(\"오답\")\n",
        "\n",
        "for i in range(10):\n",
        "    disp(svm_clf.predict([X_test[i]]),y_test[i])"
      ],
      "execution_count": null,
      "outputs": []
    },
    {
      "cell_type": "code",
      "metadata": {
        "id": "yZjgnzAhYNdt"
      },
      "source": [
        "cross_val_score(sgd_clf, X_train, y_train, cv=3, scoring='accuracy')"
      ],
      "execution_count": null,
      "outputs": []
    },
    {
      "cell_type": "code",
      "metadata": {
        "id": "njFs5q44ZEOe"
      },
      "source": [
        "from sklearn.ensemble import RandomForestClassifier"
      ],
      "execution_count": null,
      "outputs": []
    },
    {
      "cell_type": "code",
      "metadata": {
        "id": "GMDKf6QrZMgZ"
      },
      "source": [
        "rf_clf = RandomForestClassifier()\n",
        "rf_clf.fit(X_train, y_train)\n",
        "cross_val_score(rf_clf, X_train, y_train, cv=3, scoring = 'accuracy')"
      ],
      "execution_count": null,
      "outputs": []
    },
    {
      "cell_type": "markdown",
      "metadata": {
        "id": "Fa1eEI8ZafQm"
      },
      "source": [
        "##**데이터 전처리의 중요성**"
      ]
    },
    {
      "cell_type": "code",
      "metadata": {
        "id": "3mjAwv26aefQ"
      },
      "source": [
        "from sklearn.preprocessing import StandardScaler\n",
        "X_train_scaled=StandardScaler().fit_transform(X_train.astype(np.float64))"
      ],
      "execution_count": null,
      "outputs": []
    },
    {
      "cell_type": "code",
      "metadata": {
        "id": "ZLqCz7RVbC9F"
      },
      "source": [
        "cross_val_score(sgd_clf, X_train_scaled,y_train, cv=3, scoring='accuracy')"
      ],
      "execution_count": null,
      "outputs": []
    },
    {
      "cell_type": "code",
      "metadata": {
        "id": "g9oh6SIqbLD_"
      },
      "source": [
        "cross_val_score(rf_clf, X_train_scaled, y_train, cv=3,scoring = 'accuracy')"
      ],
      "execution_count": null,
      "outputs": []
    },
    {
      "cell_type": "markdown",
      "metadata": {
        "id": "OgrkeaxEbhiu"
      },
      "source": [
        "##**에러분석**\n"
      ]
    },
    {
      "cell_type": "code",
      "metadata": {
        "id": "MSpVL25tbuQd"
      },
      "source": [
        "y_train_pred = cross_val_predict(sgd_clf, X_train_scaled, y_train, cv=3) #예측 만들기\n",
        "conf_mx=confusion_matrix(y_train,t_train_pred) \n",
        "plt.matshow(conf_mx, cmap=plt.cm.gray) #이미지 표현\n",
        "plt.show()"
      ],
      "execution_count": null,
      "outputs": []
    },
    {
      "cell_type": "code",
      "metadata": {
        "id": "QUk2EoR_bum_"
      },
      "source": [
        "row_sums=conf_mx.sum(axis=1, keepdims=True)\n",
        "#오차 행렬 값을 클래스의 이미지 개수로 나눔\n",
        "#에러 비율 비교 \n",
        "norm_conf_mx = conf_mx / row_sums"
      ],
      "execution_count": null,
      "outputs": []
    },
    {
      "cell_type": "code",
      "metadata": {
        "id": "Otid_IzQdp72"
      },
      "source": [
        "np.fill_diagonal(norm_conf_mx, 0) #주대각선 0 으로 채움\n",
        "plt.matshow(norm_conf_mx, cmap=plt.cm.gray) #이미지 표현\n",
        "plt.show()\n",
        "\n",
        "#행 #실제 클래스 \n",
        "#열 #예측 클래스 "
      ],
      "execution_count": null,
      "outputs": []
    },
    {
      "cell_type": "code",
      "metadata": {
        "id": "DN1t2UzljMPl"
      },
      "source": [
        ""
      ],
      "execution_count": null,
      "outputs": []
    }
  ]
}