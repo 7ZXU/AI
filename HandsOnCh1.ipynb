{
  "nbformat": 4,
  "nbformat_minor": 0,
  "metadata": {
    "colab": {
      "name": "HandsOnCh1.ipynb",
      "provenance": [],
      "collapsed_sections": [],
      "include_colab_link": true
    },
    "kernelspec": {
      "name": "python3",
      "display_name": "Python 3"
    },
    "accelerator": "GPU"
  },
  "cells": [
    {
      "cell_type": "markdown",
      "metadata": {
        "id": "view-in-github",
        "colab_type": "text"
      },
      "source": [
        "<a href=\"https://colab.research.google.com/github/7ZXU/AI/blob/main/HandsOnCh1.ipynb\" target=\"_parent\"><img src=\"https://colab.research.google.com/assets/colab-badge.svg\" alt=\"Open In Colab\"/></a>"
      ]
    },
    {
      "cell_type": "markdown",
      "metadata": {
        "id": "4Q33xt-kzmEf"
      },
      "source": [
        "케라스 주로 이용\n",
        "텐서플로 위에서 케라스 굴러감\n",
        "따라서 텐서플로 공부 필요 \n",
        "\n",
        "# Tensorflow 2.0 시작하기\n",
        "colab에서는 이미 Tensorflow 라이브러리 설치되있기에 추가 설치 필요없음\n"
      ]
    },
    {
      "cell_type": "code",
      "metadata": {
        "colab": {
          "base_uri": "https://localhost:8080/"
        },
        "id": "eYwbdZHoxMFZ",
        "outputId": "cb323f49-f4e0-4d29-c1b5-3811a67ed176"
      },
      "source": [
        "pip install tensorflow"
      ],
      "execution_count": null,
      "outputs": [
        {
          "output_type": "stream",
          "text": [
            "Requirement already satisfied: tensorflow in /usr/local/lib/python3.7/dist-packages (2.4.1)\n",
            "Requirement already satisfied: flatbuffers~=1.12.0 in /usr/local/lib/python3.7/dist-packages (from tensorflow) (1.12)\n",
            "Requirement already satisfied: six~=1.15.0 in /usr/local/lib/python3.7/dist-packages (from tensorflow) (1.15.0)\n",
            "Requirement already satisfied: tensorboard~=2.4 in /usr/local/lib/python3.7/dist-packages (from tensorflow) (2.4.1)\n",
            "Requirement already satisfied: termcolor~=1.1.0 in /usr/local/lib/python3.7/dist-packages (from tensorflow) (1.1.0)\n",
            "Requirement already satisfied: gast==0.3.3 in /usr/local/lib/python3.7/dist-packages (from tensorflow) (0.3.3)\n",
            "Requirement already satisfied: grpcio~=1.32.0 in /usr/local/lib/python3.7/dist-packages (from tensorflow) (1.32.0)\n",
            "Requirement already satisfied: absl-py~=0.10 in /usr/local/lib/python3.7/dist-packages (from tensorflow) (0.10.0)\n",
            "Requirement already satisfied: astunparse~=1.6.3 in /usr/local/lib/python3.7/dist-packages (from tensorflow) (1.6.3)\n",
            "Requirement already satisfied: keras-preprocessing~=1.1.2 in /usr/local/lib/python3.7/dist-packages (from tensorflow) (1.1.2)\n",
            "Requirement already satisfied: protobuf>=3.9.2 in /usr/local/lib/python3.7/dist-packages (from tensorflow) (3.12.4)\n",
            "Requirement already satisfied: wheel~=0.35 in /usr/local/lib/python3.7/dist-packages (from tensorflow) (0.36.2)\n",
            "Requirement already satisfied: wrapt~=1.12.1 in /usr/local/lib/python3.7/dist-packages (from tensorflow) (1.12.1)\n",
            "Requirement already satisfied: numpy~=1.19.2 in /usr/local/lib/python3.7/dist-packages (from tensorflow) (1.19.5)\n",
            "Requirement already satisfied: typing-extensions~=3.7.4 in /usr/local/lib/python3.7/dist-packages (from tensorflow) (3.7.4.3)\n",
            "Requirement already satisfied: opt-einsum~=3.3.0 in /usr/local/lib/python3.7/dist-packages (from tensorflow) (3.3.0)\n",
            "Requirement already satisfied: google-pasta~=0.2 in /usr/local/lib/python3.7/dist-packages (from tensorflow) (0.2.0)\n",
            "Requirement already satisfied: h5py~=2.10.0 in /usr/local/lib/python3.7/dist-packages (from tensorflow) (2.10.0)\n",
            "Requirement already satisfied: tensorflow-estimator<2.5.0,>=2.4.0 in /usr/local/lib/python3.7/dist-packages (from tensorflow) (2.4.0)\n",
            "Requirement already satisfied: google-auth<2,>=1.6.3 in /usr/local/lib/python3.7/dist-packages (from tensorboard~=2.4->tensorflow) (1.27.0)\n",
            "Requirement already satisfied: requests<3,>=2.21.0 in /usr/local/lib/python3.7/dist-packages (from tensorboard~=2.4->tensorflow) (2.23.0)\n",
            "Requirement already satisfied: google-auth-oauthlib<0.5,>=0.4.1 in /usr/local/lib/python3.7/dist-packages (from tensorboard~=2.4->tensorflow) (0.4.2)\n",
            "Requirement already satisfied: markdown>=2.6.8 in /usr/local/lib/python3.7/dist-packages (from tensorboard~=2.4->tensorflow) (3.3.4)\n",
            "Requirement already satisfied: werkzeug>=0.11.15 in /usr/local/lib/python3.7/dist-packages (from tensorboard~=2.4->tensorflow) (1.0.1)\n",
            "Requirement already satisfied: tensorboard-plugin-wit>=1.6.0 in /usr/local/lib/python3.7/dist-packages (from tensorboard~=2.4->tensorflow) (1.8.0)\n",
            "Requirement already satisfied: setuptools>=41.0.0 in /usr/local/lib/python3.7/dist-packages (from tensorboard~=2.4->tensorflow) (53.0.0)\n",
            "Requirement already satisfied: rsa<5,>=3.1.4; python_version >= \"3.6\" in /usr/local/lib/python3.7/dist-packages (from google-auth<2,>=1.6.3->tensorboard~=2.4->tensorflow) (4.7.2)\n",
            "Requirement already satisfied: cachetools<5.0,>=2.0.0 in /usr/local/lib/python3.7/dist-packages (from google-auth<2,>=1.6.3->tensorboard~=2.4->tensorflow) (4.2.1)\n",
            "Requirement already satisfied: pyasn1-modules>=0.2.1 in /usr/local/lib/python3.7/dist-packages (from google-auth<2,>=1.6.3->tensorboard~=2.4->tensorflow) (0.2.8)\n",
            "Requirement already satisfied: urllib3!=1.25.0,!=1.25.1,<1.26,>=1.21.1 in /usr/local/lib/python3.7/dist-packages (from requests<3,>=2.21.0->tensorboard~=2.4->tensorflow) (1.24.3)\n",
            "Requirement already satisfied: idna<3,>=2.5 in /usr/local/lib/python3.7/dist-packages (from requests<3,>=2.21.0->tensorboard~=2.4->tensorflow) (2.10)\n",
            "Requirement already satisfied: chardet<4,>=3.0.2 in /usr/local/lib/python3.7/dist-packages (from requests<3,>=2.21.0->tensorboard~=2.4->tensorflow) (3.0.4)\n",
            "Requirement already satisfied: certifi>=2017.4.17 in /usr/local/lib/python3.7/dist-packages (from requests<3,>=2.21.0->tensorboard~=2.4->tensorflow) (2020.12.5)\n",
            "Requirement already satisfied: requests-oauthlib>=0.7.0 in /usr/local/lib/python3.7/dist-packages (from google-auth-oauthlib<0.5,>=0.4.1->tensorboard~=2.4->tensorflow) (1.3.0)\n",
            "Requirement already satisfied: importlib-metadata; python_version < \"3.8\" in /usr/local/lib/python3.7/dist-packages (from markdown>=2.6.8->tensorboard~=2.4->tensorflow) (3.7.0)\n",
            "Requirement already satisfied: pyasn1>=0.1.3 in /usr/local/lib/python3.7/dist-packages (from rsa<5,>=3.1.4; python_version >= \"3.6\"->google-auth<2,>=1.6.3->tensorboard~=2.4->tensorflow) (0.4.8)\n",
            "Requirement already satisfied: oauthlib>=3.0.0 in /usr/local/lib/python3.7/dist-packages (from requests-oauthlib>=0.7.0->google-auth-oauthlib<0.5,>=0.4.1->tensorboard~=2.4->tensorflow) (3.1.0)\n",
            "Requirement already satisfied: zipp>=0.5 in /usr/local/lib/python3.7/dist-packages (from importlib-metadata; python_version < \"3.8\"->markdown>=2.6.8->tensorboard~=2.4->tensorflow) (3.4.0)\n"
          ],
          "name": "stdout"
        }
      ]
    },
    {
      "cell_type": "code",
      "metadata": {
        "id": "zAy8o8r80RLk"
      },
      "source": [
        "#라이브러리 import\n",
        "import tensorflow as tf\n",
        "import numpy as np\n",
        "import pandas as pd\n",
        "import matplotlib.pyplot as plt\n",
        "import seaborn as sns"
      ],
      "execution_count": null,
      "outputs": []
    },
    {
      "cell_type": "code",
      "metadata": {
        "colab": {
          "base_uri": "https://localhost:8080/",
          "height": 35
        },
        "id": "58DTSuvP0hpM",
        "outputId": "d75852af-23e8-432b-caa9-a2b690837e71"
      },
      "source": [
        "tf.__version__\n",
        "#버전 확인 습관 들이기! .__version__"
      ],
      "execution_count": null,
      "outputs": [
        {
          "output_type": "execute_result",
          "data": {
            "application/vnd.google.colaboratory.intrinsic+json": {
              "type": "string"
            },
            "text/plain": [
              "'2.4.1'"
            ]
          },
          "metadata": {
            "tags": []
          },
          "execution_count": 3
        }
      ]
    },
    {
      "cell_type": "code",
      "metadata": {
        "id": "ZzqxjPSb0s8a"
      },
      "source": [
        "a=tf.constant(5, name='input_a') #상수생성 #tf.constant(값, name='변수이름')\n",
        "b=tf.constant(3, name='input_b')\n"
      ],
      "execution_count": null,
      "outputs": []
    },
    {
      "cell_type": "code",
      "metadata": {
        "id": "bwy2oGI02JJY"
      },
      "source": [
        "c=tf.multiply(a,b, name='mul_c')\n",
        "d=tf.add(a,b, name='add_d')\n",
        "e=tf.subtract(a,b, name='sub_e')"
      ],
      "execution_count": null,
      "outputs": []
    },
    {
      "cell_type": "code",
      "metadata": {
        "colab": {
          "base_uri": "https://localhost:8080/"
        },
        "id": "-ySG-l-L2b6m",
        "outputId": "bbed72e6-586d-4525-f636-e0ab91850a72"
      },
      "source": [
        "tf.print(c) #값만 보고 싶다면 #tf.print"
      ],
      "execution_count": null,
      "outputs": [
        {
          "output_type": "stream",
          "text": [
            "15\n"
          ],
          "name": "stdout"
        }
      ]
    },
    {
      "cell_type": "code",
      "metadata": {
        "colab": {
          "base_uri": "https://localhost:8080/"
        },
        "id": "RUQ0dL-g2efe",
        "outputId": "099710d8-22bf-4cac-fe27-109a3ddb5dcd"
      },
      "source": [
        "c"
      ],
      "execution_count": null,
      "outputs": [
        {
          "output_type": "execute_result",
          "data": {
            "text/plain": [
              "<tf.Tensor: shape=(), dtype=int32, numpy=15>"
            ]
          },
          "metadata": {
            "tags": []
          },
          "execution_count": 7
        }
      ]
    },
    {
      "cell_type": "markdown",
      "metadata": {
        "id": "BJwM3ctE2ihZ"
      },
      "source": [
        "#텐서 정의"
      ]
    },
    {
      "cell_type": "code",
      "metadata": {
        "id": "K2MWg96T2gXE"
      },
      "source": [
        "list = [[1, 2, 3], [4, 5, 6]]\n",
        "array = np.array([1, 4, 6])\n",
        "\n",
        "x = tf.convert_to_tensor(2) #int \n",
        "x1 = tf.convert_to_tensor(list) #list \n",
        "x2 = tf.convert_to_tensor(array) #array"
      ],
      "execution_count": null,
      "outputs": []
    },
    {
      "cell_type": "code",
      "metadata": {
        "colab": {
          "base_uri": "https://localhost:8080/"
        },
        "id": "N1TngfqIByN0",
        "outputId": "b521ed44-8f63-499b-caf0-84e4a750c1a4"
      },
      "source": [
        "tf.print(x)"
      ],
      "execution_count": null,
      "outputs": [
        {
          "output_type": "stream",
          "text": [
            "2\n"
          ],
          "name": "stdout"
        }
      ]
    },
    {
      "cell_type": "code",
      "metadata": {
        "colab": {
          "base_uri": "https://localhost:8080/"
        },
        "id": "P-UaWQ9ZB3E0",
        "outputId": "3c4f9d21-ec95-4188-cf5e-6bb0cbac3074"
      },
      "source": [
        "tf.print(x1)"
      ],
      "execution_count": null,
      "outputs": [
        {
          "output_type": "stream",
          "text": [
            "[[1 2 3]\n",
            " [4 5 6]]\n"
          ],
          "name": "stdout"
        }
      ]
    },
    {
      "cell_type": "code",
      "metadata": {
        "colab": {
          "base_uri": "https://localhost:8080/"
        },
        "id": "7ZDBH3KzB4Ug",
        "outputId": "f90e923c-9581-430e-d42f-30011232cab5"
      },
      "source": [
        "tf.print(x2)"
      ],
      "execution_count": null,
      "outputs": [
        {
          "output_type": "stream",
          "text": [
            "[1 4 6]\n"
          ],
          "name": "stdout"
        }
      ]
    },
    {
      "cell_type": "markdown",
      "metadata": {
        "id": "b2DDpB8FGKOj"
      },
      "source": [
        "#난수 생성 및 텐서플로 자료형의 다양한 출력\n",
        "난수 생성은 가중치 초기화와 직접적 연관이 있으므로, 신경망 구성을 *저수준으로 하게 된다면 필수적으로 알아야 하는 기능입니다\n",
        "\n",
        "*저수준 : 가중치(w)값을 수작업으로 입력하는 것과 같은 수준"
      ]
    },
    {
      "cell_type": "code",
      "metadata": {
        "id": "v7SM-t9xB82d"
      },
      "source": [
        "rand = tf.random.uniform([1], 0, 1)\n",
        "#([생성갯수], 최솟값, 최댓값) 랜덤 균일 분포"
      ],
      "execution_count": null,
      "outputs": []
    },
    {
      "cell_type": "code",
      "metadata": {
        "colab": {
          "base_uri": "https://localhost:8080/"
        },
        "id": "h47A3QnrG9IB",
        "outputId": "6f0a44fd-8c13-4109-fd7b-a738b20de53e"
      },
      "source": [
        "tf.print(rand)\n",
        "print(rand)\n",
        "rand"
      ],
      "execution_count": null,
      "outputs": [
        {
          "output_type": "stream",
          "text": [
            "[0.396946907]\n",
            "tf.Tensor([0.3969469], shape=(1,), dtype=float32)\n"
          ],
          "name": "stdout"
        },
        {
          "output_type": "execute_result",
          "data": {
            "text/plain": [
              "<tf.Tensor: shape=(1,), dtype=float32, numpy=array([0.3969469], dtype=float32)>"
            ]
          },
          "metadata": {
            "tags": []
          },
          "execution_count": 13
        }
      ]
    },
    {
      "cell_type": "code",
      "metadata": {
        "id": "3AkZvVB7HBMO"
      },
      "source": [
        "\n",
        "rand = tf.random.normal([1], 0, 1)\n",
        "#([생성갯수], 평균, 표준편차) 랜덤 정규 분포"
      ],
      "execution_count": null,
      "outputs": []
    },
    {
      "cell_type": "code",
      "metadata": {
        "colab": {
          "base_uri": "https://localhost:8080/"
        },
        "id": "N5UDp0ryHm01",
        "outputId": "ce0e3de3-5e57-4e70-e00a-b85c79f3584f"
      },
      "source": [
        "tf.print(rand)\n",
        "print(rand)\n",
        "rand"
      ],
      "execution_count": null,
      "outputs": [
        {
          "output_type": "stream",
          "text": [
            "[0.0857512578]\n",
            "tf.Tensor([0.08575126], shape=(1,), dtype=float32)\n"
          ],
          "name": "stdout"
        },
        {
          "output_type": "execute_result",
          "data": {
            "text/plain": [
              "<tf.Tensor: shape=(1,), dtype=float32, numpy=array([0.08575126], dtype=float32)>"
            ]
          },
          "metadata": {
            "tags": []
          },
          "execution_count": 15
        }
      ]
    },
    {
      "cell_type": "markdown",
      "metadata": {
        "id": "Pwk4s8i4H30X"
      },
      "source": [
        "# tf.random.uniform vs tf.normal.normal (by seaborn)"
      ]
    },
    {
      "cell_type": "code",
      "metadata": {
        "id": "lev5EhQ0HpK7"
      },
      "source": [
        "output1 = tf.random.uniform([50000], 0, 1)\n",
        "output2 = tf.random.normal([50000], 0, 1)"
      ],
      "execution_count": null,
      "outputs": []
    },
    {
      "cell_type": "code",
      "metadata": {
        "colab": {
          "base_uri": "https://localhost:8080/",
          "height": 374
        },
        "id": "DRApMIDLIRdS",
        "outputId": "fc239b28-9a38-44f8-92e8-d053097a5f38"
      },
      "source": [
        "plt.figure(figsize = (10,6)) #배경 사이즈 #(가로, 세로)\n",
        "plt.subplot(211) \n",
        "#plt.subplot(row,col,pos) \n",
        "#그래프 여러개 그릴 때, 그래프 위치 지정 \n",
        "#콤마 생략 가능\n",
        "sns.histplot(output1, bins=100, kde=True)\n",
        "#########################\n",
        "#bins = 100 뭐지? 변량값 100개?\n",
        "#########################\n",
        "plt.subplot(212)\n",
        "sns.histplot(output2, bins=100, kde=True)\n",
        "plt.show()"
      ],
      "execution_count": null,
      "outputs": [
        {
          "output_type": "display_data",
          "data": {
            "image/png": "[encoded data removed]",
            "text/plain": [
              "<Figure size 720x432 with 2 Axes>"
            ]
          },
          "metadata": {
            "tags": [],
            "needs_background": "light"
          }
        }
      ]
    },
    {
      "cell_type": "markdown",
      "metadata": {
        "id": "fDx1R6fSxg7a"
      },
      "source": [
        "matplotlib 그래프 그리기"
      ]
    },
    {
      "cell_type": "code",
      "metadata": {
        "colab": {
          "base_uri": "https://localhost:8080/",
          "height": 374
        },
        "id": "01JEDfa6xVqI",
        "outputId": "8f75c3e7-07fd-4aba-a5cd-1b10758da6de"
      },
      "source": [
        "plt.figure(figsize=(10,6))\n",
        "plt.subplot(211)\n",
        "plt.hist(output1, bins=50, density=True)\n",
        "#bins #몇개의 영역으로 쪼갤것인지\n",
        "#density #밀도함수로 바꿔 막대 아래 면적 1됨\n",
        "plt.subplot(212)\n",
        "plt.hist(output2, bins=1000, density=True)\n",
        "plt.show()\n",
        "#####################################\n",
        "#선 나오는 것 해결 못함"
      ],
      "execution_count": null,
      "outputs": [
        {
          "output_type": "display_data",
          "data": {
            "image/png": "[encoded data removed]",
            "text/plain": [
              "<Figure size 720x432 with 2 Axes>"
            ]
          },
          "metadata": {
            "tags": [],
            "needs_background": "light"
          }
        }
      ]
    },
    {
      "cell_type": "markdown",
      "metadata": {
        "id": "A9XXN0yY2gjE"
      },
      "source": [
        "간단한 신경망 학습"
      ]
    },
    {
      "cell_type": "code",
      "metadata": {
        "id": "MHL5_Di81i-P"
      },
      "source": [
        "import math\n",
        "def sigmoid(x):\n",
        "    return 1/(1+np.exp(-x))\n",
        "def ReLU(x):\n",
        "    return np.maximum(x,0)\n",
        "    #ReLU는 국민 activation function"
      ],
      "execution_count": null,
      "outputs": []
    },
    {
      "cell_type": "code",
      "metadata": {
        "id": "nxgQsVeh4i95"
      },
      "source": [
        "input = np.linspace(-10, 10, 1000)\n",
        "#np.linspace(start, stop, num)\n",
        "#start이상 stop이하에서 num 개수만큼의 수를 만들어라"
      ],
      "execution_count": null,
      "outputs": []
    },
    {
      "cell_type": "code",
      "metadata": {
        "id": "pW3sxVxa4tuc"
      },
      "source": [
        "result = sigmoid(input)"
      ],
      "execution_count": null,
      "outputs": []
    },
    {
      "cell_type": "code",
      "metadata": {
        "colab": {
          "base_uri": "https://localhost:8080/",
          "height": 265
        },
        "id": "vKmmB7j35a66",
        "outputId": "1c6568a7-f565-42ae-90e5-04bd8f09b47a"
      },
      "source": [
        "plt.plot(input, result)\n",
        "plt.show()"
      ],
      "execution_count": null,
      "outputs": [
        {
          "output_type": "display_data",
          "data": {
            "image/png": "[encoded data removed]",
            "text/plain": [
              "<Figure size 432x288 with 1 Axes>"
            ]
          },
          "metadata": {
            "tags": [],
            "needs_background": "light"
          }
        }
      ]
    },
    {
      "cell_type": "code",
      "metadata": {
        "colab": {
          "base_uri": "https://localhost:8080/",
          "height": 265
        },
        "id": "1W9U1gZ-5e-A",
        "outputId": "ce7f5b9b-4da5-401b-e787-e8ed99bac118"
      },
      "source": [
        "plt.plot(input, ReLU(result))\n",
        "plt.show()\n",
        "#ReLU(x):x<0이면 x=0으로 변형, x>0이면 그대로 사용 \n",
        "#result>0 이기에 그래프 그대로 나옴"
      ],
      "execution_count": null,
      "outputs": [
        {
          "output_type": "display_data",
          "data": {
            "image/png": "[encoded data removed]",
            "text/plain": [
              "<Figure size 432x288 with 1 Axes>"
            ]
          },
          "metadata": {
            "tags": [],
            "needs_background": "light"
          }
        }
      ]
    },
    {
      "cell_type": "code",
      "metadata": {
        "colab": {
          "base_uri": "https://localhost:8080/"
        },
        "id": "akS-MBOW5umz",
        "outputId": "f4dfe796-7382-40a2-a2fb-e21081f72e87"
      },
      "source": [
        "#간단한 신경망\n",
        "x=1 #입력값\n",
        "y=0 #목표값\n",
        "w=tf.random.normal([1],0,1) #가중치생성\n",
        "output=sigmoid(x*w) #wx\n",
        "print(output)\n",
        "output=ReLU(output) #n=활성화함수(wx+b)\n",
        "print(output)\n",
        "#####################################\n",
        "#sigmoid relu 함께쓰는 이유?"
      ],
      "execution_count": null,
      "outputs": [
        {
          "output_type": "stream",
          "text": [
            "[0.25418666]\n",
            "[0.25418666]\n"
          ],
          "name": "stdout"
        }
      ]
    },
    {
      "cell_type": "code",
      "metadata": {
        "colab": {
          "base_uri": "https://localhost:8080/"
        },
        "id": "zrxU9Fi06ttL",
        "outputId": "66849a33-8f35-4d97-bb29-5f4c150d99b7"
      },
      "source": [
        "x=1\n",
        "y=0\n",
        "w=tf.random.normal([1],0,1)\n",
        "a=0.1 #learning rate(학습률)\n",
        "for i in range(1000): #학습\n",
        "    output=sigmoid(x*w)\n",
        "    err=y-output #오차\n",
        "    w=w+a*err*x #경사하강법\n",
        "    if i%100==99:\n",
        "        print(i, err, output)"
      ],
      "execution_count": null,
      "outputs": [
        {
          "output_type": "stream",
          "text": [
            "99 [-0.10772666] [0.10772666]\n",
            "199 [-0.05386272] [0.05386272]\n",
            "299 [-0.0355226] [0.0355226]\n",
            "399 [-0.02641298] [0.02641298]\n",
            "499 [-0.02099234] [0.02099234]\n",
            "599 [-0.01740501] [0.01740501]\n",
            "699 [-0.01485841] [0.01485841]\n",
            "799 [-0.01295842] [0.01295842]\n",
            "899 [-0.01148711] [0.01148711]\n",
            "999 [-0.01031455] [0.01031455]\n"
          ],
          "name": "stdout"
        }
      ]
    },
    {
      "cell_type": "markdown",
      "metadata": {
        "id": "8UyOJ33ID0Oz"
      },
      "source": [
        "#다차원 텐서곱\n",
        "텐서플로에서는 정보 주고 받는 모든 형태가 텐서\n",
        "벡터, 행렬 모두 일반화 하면 텐서 취급"
      ]
    },
    {
      "cell_type": "code",
      "metadata": {
        "id": "0pIRDqQI-IhS"
      },
      "source": [
        "x=[[2,]]"
      ],
      "execution_count": null,
      "outputs": []
    },
    {
      "cell_type": "code",
      "metadata": {
        "colab": {
          "base_uri": "https://localhost:8080/"
        },
        "id": "1Vg2pn87EM3q",
        "outputId": "c06a22e6-1409-4c66-a31b-0c646495eb4f"
      },
      "source": [
        "m=tf.matmul(x,x) #tf.matmul #행렬곱\n",
        "print('hello, {}'.format(m))"
      ],
      "execution_count": null,
      "outputs": [
        {
          "output_type": "stream",
          "text": [
            "hello, [[4]]\n"
          ],
          "name": "stdout"
        }
      ]
    },
    {
      "cell_type": "code",
      "metadata": {
        "colab": {
          "base_uri": "https://localhost:8080/"
        },
        "id": "fWrAFuoJEUuH",
        "outputId": "a2f08d71-526a-4ebe-b617-fe0315917d1e"
      },
      "source": [
        "a=tf.constant([[1,2], [3, 4]])\n",
        "print(a)\n",
        "tf.print(a)"
      ],
      "execution_count": null,
      "outputs": [
        {
          "output_type": "stream",
          "text": [
            "tf.Tensor(\n",
            "[[1 2]\n",
            " [3 4]], shape=(2, 2), dtype=int32)\n",
            "[[1 2]\n",
            " [3 4]]\n"
          ],
          "name": "stdout"
        }
      ]
    },
    {
      "cell_type": "code",
      "metadata": {
        "colab": {
          "base_uri": "https://localhost:8080/"
        },
        "id": "FNgiQ-IWFOMM",
        "outputId": "4b107bce-ed70-45e6-8a97-40747f187ccc"
      },
      "source": [
        "m=tf.matmul(a,a) #tf.matmul #행렬곱\n",
        "tf.print(m)"
      ],
      "execution_count": null,
      "outputs": [
        {
          "output_type": "stream",
          "text": [
            "[[7 10]\n",
            " [15 22]]\n"
          ],
          "name": "stdout"
        }
      ]
    },
    {
      "cell_type": "code",
      "metadata": {
        "colab": {
          "base_uri": "https://localhost:8080/"
        },
        "id": "EkO40D4MFZSp",
        "outputId": "ad7a20fe-c397-40f2-9bca-679b9a70c229"
      },
      "source": [
        "#브로드캐스팅\n",
        "#텐서에 1을 더한다는 것은 말이 안됨\n",
        "b=tf.add(a,1)\n",
        "tf.print(b)\n",
        "print(b)"
      ],
      "execution_count": null,
      "outputs": [
        {
          "output_type": "stream",
          "text": [
            "[[2 3]\n",
            " [4 5]]\n",
            "tf.Tensor(\n",
            "[[2 3]\n",
            " [4 5]], shape=(2, 2), dtype=int32)\n"
          ],
          "name": "stdout"
        }
      ]
    },
    {
      "cell_type": "code",
      "metadata": {
        "colab": {
          "base_uri": "https://localhost:8080/"
        },
        "id": "x3Rcqt5rGHF4",
        "outputId": "3fe317d9-dbcf-4f71-dcb3-1fe2cb7daeec"
      },
      "source": [
        "print(a*b) \n",
        "#matmul 없이도 행렬곱 가능\n",
        "#numpy처럼 사용하기"
      ],
      "execution_count": null,
      "outputs": [
        {
          "output_type": "stream",
          "text": [
            "tf.Tensor(\n",
            "[[ 2  6]\n",
            " [12 20]], shape=(2, 2), dtype=int32)\n"
          ],
          "name": "stdout"
        }
      ]
    },
    {
      "cell_type": "code",
      "metadata": {
        "colab": {
          "base_uri": "https://localhost:8080/"
        },
        "id": "ezJhEMSBIsvr",
        "outputId": "c62e9c8c-9028-45b7-c190-9aa04b574459"
      },
      "source": [
        "c=np.multiply(a, b)\n",
        "c\n",
        "#tensor->numpy변환"
      ],
      "execution_count": null,
      "outputs": [
        {
          "output_type": "execute_result",
          "data": {
            "text/plain": [
              "array([[ 2,  6],\n",
              "       [12, 20]], dtype=int32)"
            ]
          },
          "metadata": {
            "tags": []
          },
          "execution_count": 32
        }
      ]
    },
    {
      "cell_type": "code",
      "metadata": {
        "colab": {
          "base_uri": "https://localhost:8080/"
        },
        "id": "pWtfJFa3I4ro",
        "outputId": "5a95d3c9-d196-4a82-b297-04e7c58071c4"
      },
      "source": [
        "a"
      ],
      "execution_count": null,
      "outputs": [
        {
          "output_type": "execute_result",
          "data": {
            "text/plain": [
              "<tf.Tensor: shape=(2, 2), dtype=int32, numpy=\n",
              "array([[1, 2],\n",
              "       [3, 4]], dtype=int32)>"
            ]
          },
          "metadata": {
            "tags": []
          },
          "execution_count": 33
        }
      ]
    },
    {
      "cell_type": "code",
      "metadata": {
        "colab": {
          "base_uri": "https://localhost:8080/"
        },
        "id": "X01bM9byI8tl",
        "outputId": "1c4b5808-1a9b-43e1-bead-a03332d423b6"
      },
      "source": [
        "a.numpy()\n",
        "#tensor a -> numpy 변환"
      ],
      "execution_count": null,
      "outputs": [
        {
          "output_type": "execute_result",
          "data": {
            "text/plain": [
              "array([[1, 2],\n",
              "       [3, 4]], dtype=int32)"
            ]
          },
          "metadata": {
            "tags": []
          },
          "execution_count": 34
        }
      ]
    },
    {
      "cell_type": "markdown",
      "metadata": {
        "id": "qxXO09T1JEhJ"
      },
      "source": [
        "#Gradient Tape(자동 미분) : 편미분"
      ]
    },
    {
      "cell_type": "code",
      "metadata": {
        "colab": {
          "base_uri": "https://localhost:8080/"
        },
        "id": "DXYqcFTuI-zK",
        "outputId": "54ecceb4-b5de-4af1-d7ce-8e45868e4e94"
      },
      "source": [
        "w=tf.Variable([[1.0]])\n",
        "with tf.GradientTape() as tape:\n",
        "    loss = w*w\n",
        "\n",
        "grad = tape.gradient(loss, w) \n",
        "#편미분\n",
        "#tf.GradientTape.gradient()\n",
        "#loss에 w가 얼마나 기여하는지 계산\n",
        "\n",
        "#loss=w^2\n",
        "#loss편미분=2w\n",
        "\n",
        "print(grad)"
      ],
      "execution_count": null,
      "outputs": [
        {
          "output_type": "stream",
          "text": [
            "tf.Tensor([[2.]], shape=(1, 1), dtype=float32)\n"
          ],
          "name": "stdout"
        }
      ]
    },
    {
      "cell_type": "code",
      "metadata": {
        "colab": {
          "base_uri": "https://localhost:8080/"
        },
        "id": "4Zxp_8AiJjIh",
        "outputId": "3250371d-2328-4081-ee9f-f774c52a4a6b"
      },
      "source": [
        "x=tf.constant(3.0)\n",
        "y=tf.constant(3.0)\n",
        "with tf.GradientTape(persistent=True) as g:\n",
        "    g.watch(x) #관심있게 보겠다 #tensor 추적\n",
        "    ###########################################\n",
        "    #watch 꼭 필요한건가? 없으면 None 뜨긴함\n",
        "\n",
        "    g.watch(y)\n",
        "\n",
        "    z0=x**2\n",
        "    z1=y**2\n",
        "dz_dy = g.gradient(z1,y) #y에 대한 편미분\n",
        "dz_dx = g.gradient(z0,x) #x에 대한 편미분\n",
        "\n",
        "print(dz_dy)\n",
        "print(dz_dx)\n",
        "\n",
        "del g #persistent 삭제"
      ],
      "execution_count": null,
      "outputs": [
        {
          "output_type": "stream",
          "text": [
            "tf.Tensor(6.0, shape=(), dtype=float32)\n",
            "tf.Tensor(6.0, shape=(), dtype=float32)\n"
          ],
          "name": "stdout"
        }
      ]
    },
    {
      "cell_type": "code",
      "metadata": {
        "colab": {
          "base_uri": "https://localhost:8080/"
        },
        "id": "SXb4A9dbMFKA",
        "outputId": "1ed4f54a-b028-4648-a91a-cdba224a46a9"
      },
      "source": [
        "#차원을 reduce하는 tf연산\n",
        "tf.print(a)\n",
        "print(tf.reduce_sum(a)) #합으로 차원 줄이기\n",
        "tf.print(tf.reduce_mean(a)) #평균으로 차원 줄이기"
      ],
      "execution_count": null,
      "outputs": [
        {
          "output_type": "stream",
          "text": [
            "[[1 2]\n",
            " [3 4]]\n",
            "tf.Tensor(10, shape=(), dtype=int32)\n",
            "2\n"
          ],
          "name": "stdout"
        }
      ]
    },
    {
      "cell_type": "code",
      "metadata": {
        "colab": {
          "base_uri": "https://localhost:8080/"
        },
        "id": "BeZmWGi6S1pd",
        "outputId": "08a6936d-deea-4652-dd90-c925ba305175"
      },
      "source": [
        "#tf.ones()\n",
        "x=tf.ones((2, 2)) \n",
        "#tf.ones(n, m)\n",
        "#n*m array 반환\n",
        "#dtype=float32\n",
        "#1. 채움\n",
        "tf.print(x)"
      ],
      "execution_count": null,
      "outputs": [
        {
          "output_type": "stream",
          "text": [
            "[[1 1]\n",
            " [1 1]]\n"
          ],
          "name": "stdout"
        }
      ]
    },
    {
      "cell_type": "code",
      "metadata": {
        "colab": {
          "base_uri": "https://localhost:8080/"
        },
        "id": "a1e90m5CTQDX",
        "outputId": "59f6b92e-abb7-48c4-90a7-28ffaacf5fb7"
      },
      "source": [
        "with tf.GradientTape(persistent=True) as t :\n",
        "    t.watch(x)\n",
        "    y=tf.reduce_sum(x)\n",
        "    z=tf.multiply(y, y)\n",
        "    tf.print(y)\n",
        "    tf.print(z)"
      ],
      "execution_count": null,
      "outputs": [
        {
          "output_type": "stream",
          "text": [
            "4\n",
            "16\n"
          ],
          "name": "stdout"
        }
      ]
    },
    {
      "cell_type": "code",
      "metadata": {
        "colab": {
          "base_uri": "https://localhost:8080/"
        },
        "id": "BKxzNtNhUUO-",
        "outputId": "0e3d053b-8e53-4b5c-e706-37fc6358d025"
      },
      "source": [
        "dz_dy = t.gradient(z, y)\n",
        "dz_dy"
      ],
      "execution_count": null,
      "outputs": [
        {
          "output_type": "execute_result",
          "data": {
            "text/plain": [
              "<tf.Tensor: shape=(), dtype=float32, numpy=8.0>"
            ]
          },
          "metadata": {
            "tags": []
          },
          "execution_count": 40
        }
      ]
    },
    {
      "cell_type": "code",
      "metadata": {
        "colab": {
          "base_uri": "https://localhost:8080/"
        },
        "id": "gtSEP2oTUlsA",
        "outputId": "c84c41c4-37cc-4c07-c6d5-c5a77ea83c27"
      },
      "source": [
        "dz_dx = t.gradient(z, x)\n",
        "dz_dx\n",
        "#########################################\n",
        "#편미분 식 꼭 물어보기!!!"
      ],
      "execution_count": null,
      "outputs": [
        {
          "output_type": "execute_result",
          "data": {
            "text/plain": [
              "<tf.Tensor: shape=(2, 2), dtype=float32, numpy=\n",
              "array([[8., 8.],\n",
              "       [8., 8.]], dtype=float32)>"
            ]
          },
          "metadata": {
            "tags": []
          },
          "execution_count": 41
        }
      ]
    },
    {
      "cell_type": "code",
      "metadata": {
        "id": "XHB42uy5W_YX"
      },
      "source": [
        "x=tf.constant(3.0)\n",
        "with tf.GradientTape(persistent=True) as t:\n",
        "    t.watch(x)\n",
        "    y=x*x\n",
        "    z=y*x*z + 3\n",
        "    w=x+1999999\n",
        "\n",
        "dy_dx=t.gradient(y,x) #2x\n",
        "dz_dx=t.gradient(z,x) #yz\n",
        "dw_dx=t.gradient(w,x) #1\n",
        "del t\n"
      ],
      "execution_count": null,
      "outputs": []
    },
    {
      "cell_type": "code",
      "metadata": {
        "colab": {
          "base_uri": "https://localhost:8080/"
        },
        "id": "6w8E-8BAezYW",
        "outputId": "217620c6-6d22-46fa-da73-9fad929eddef"
      },
      "source": [
        "print(dy_dx)\n",
        "tf.print(dy_dx)\n",
        "dy_dx.numpy()"
      ],
      "execution_count": null,
      "outputs": [
        {
          "output_type": "stream",
          "text": [
            "tf.Tensor(6.0, shape=(), dtype=float32)\n",
            "6\n"
          ],
          "name": "stdout"
        },
        {
          "output_type": "execute_result",
          "data": {
            "text/plain": [
              "6.0"
            ]
          },
          "metadata": {
            "tags": []
          },
          "execution_count": 43
        }
      ]
    },
    {
      "cell_type": "code",
      "metadata": {
        "colab": {
          "base_uri": "https://localhost:8080/"
        },
        "id": "oSLPbv8hfDAS",
        "outputId": "7354a465-96c6-4759-ad0f-695e06091e48"
      },
      "source": [
        "print(dz_dx)\n",
        "tf.print(dz_dx)\n",
        "dz_dx.numpy()"
      ],
      "execution_count": null,
      "outputs": [
        {
          "output_type": "stream",
          "text": [
            "tf.Tensor(432.0, shape=(), dtype=float32)\n",
            "432\n"
          ],
          "name": "stdout"
        },
        {
          "output_type": "execute_result",
          "data": {
            "text/plain": [
              "432.0"
            ]
          },
          "metadata": {
            "tags": []
          },
          "execution_count": 44
        }
      ]
    },
    {
      "cell_type": "code",
      "metadata": {
        "colab": {
          "base_uri": "https://localhost:8080/"
        },
        "id": "BwoiW6zhfmim",
        "outputId": "f867aa37-3e0e-4b0d-af56-0c8cbc2d1951"
      },
      "source": [
        "print(dw_dx)\n",
        "tf.print(dw_dx)\n",
        "dw_dx.numpy()"
      ],
      "execution_count": null,
      "outputs": [
        {
          "output_type": "stream",
          "text": [
            "tf.Tensor(1.0, shape=(), dtype=float32)\n",
            "1\n"
          ],
          "name": "stdout"
        },
        {
          "output_type": "execute_result",
          "data": {
            "text/plain": [
              "1.0"
            ]
          },
          "metadata": {
            "tags": []
          },
          "execution_count": 45
        }
      ]
    },
    {
      "cell_type": "markdown",
      "metadata": {
        "id": "Hup-_a7Tf2ds"
      },
      "source": [
        "#tf.Data API"
      ]
    },
    {
      "cell_type": "code",
      "metadata": {
        "colab": {
          "base_uri": "https://localhost:8080/"
        },
        "id": "B-7K02JAfoOo",
        "outputId": "db2ac5bb-77c2-460d-8070-9b1b89b6485e"
      },
      "source": [
        "dataset = tf.data.Dataset.from_tensor_slices([8, 3, 0, 8, 2, 1])\n",
        "#tesor를 잘라서 dataset 안으로 넣어줌\n",
        "dataset\n",
        "#dataset 사용 목적\n",
        "#데이터를 편하게 확인하기 위해서"
      ],
      "execution_count": null,
      "outputs": [
        {
          "output_type": "execute_result",
          "data": {
            "text/plain": [
              "<TensorSliceDataset shapes: (), types: tf.int32>"
            ]
          },
          "metadata": {
            "tags": []
          },
          "execution_count": 46
        }
      ]
    },
    {
      "cell_type": "code",
      "metadata": {
        "colab": {
          "base_uri": "https://localhost:8080/"
        },
        "id": "c7rI5WUVgqM6",
        "outputId": "6e6fa6dd-9e93-4ba2-da02-ee2c453ee5a5"
      },
      "source": [
        "#dataset 안의 내용 확인하는 방법\n",
        "#for문 사용\n",
        "for i in dataset:\n",
        "    print(i.numpy())"
      ],
      "execution_count": null,
      "outputs": [
        {
          "output_type": "stream",
          "text": [
            "8\n",
            "3\n",
            "0\n",
            "8\n",
            "2\n",
            "1\n"
          ],
          "name": "stdout"
        }
      ]
    },
    {
      "cell_type": "code",
      "metadata": {
        "id": "M-EClL6shCBr"
      },
      "source": [
        "it = iter(dataset) #반복자 생성"
      ],
      "execution_count": null,
      "outputs": []
    },
    {
      "cell_type": "code",
      "metadata": {
        "colab": {
          "base_uri": "https://localhost:8080/"
        },
        "id": "LBgJHB77hJ3f",
        "outputId": "10b394ef-468f-46ed-db44-5fe286d779aa"
      },
      "source": [
        "print(next(it).numpy()) \n",
        "#next(it) \n",
        "#다음 dataset값 반환 \n",
        "#마지막 도달하면 에러"
      ],
      "execution_count": null,
      "outputs": [
        {
          "output_type": "stream",
          "text": [
            "8\n"
          ],
          "name": "stdout"
        }
      ]
    },
    {
      "cell_type": "code",
      "metadata": {
        "colab": {
          "base_uri": "https://localhost:8080/"
        },
        "id": "vPrUmG9qhNt7",
        "outputId": "d88ce93a-465d-4227-b945-136eef2ddfca"
      },
      "source": [
        "dataset.reduce(3, lambda state, value:state+value).numpy()"
      ],
      "execution_count": null,
      "outputs": [
        {
          "output_type": "execute_result",
          "data": {
            "text/plain": [
              "25"
            ]
          },
          "metadata": {
            "tags": []
          },
          "execution_count": 50
        }
      ]
    },
    {
      "cell_type": "code",
      "metadata": {
        "id": "LtIw6CWakppp"
      },
      "source": [
        "dataset1 = tf.data.Dataset.from_tensor_slices(tf.random.uniform([4,10]))\n",
        "#uniform 균일하게 만들기 \n",
        "#matrix #행 열 깊이\n",
        "#4개의 배치로 자름 "
      ],
      "execution_count": null,
      "outputs": []
    },
    {
      "cell_type": "code",
      "metadata": {
        "colab": {
          "base_uri": "https://localhost:8080/"
        },
        "id": "fNtUqvohlL6m",
        "outputId": "58fbc3d7-156a-4e6c-f345-fc26fb44eab7"
      },
      "source": [
        "print(dataset1)\n",
        "dataset1"
      ],
      "execution_count": null,
      "outputs": [
        {
          "output_type": "stream",
          "text": [
            "<TensorSliceDataset shapes: (10,), types: tf.float32>\n"
          ],
          "name": "stdout"
        },
        {
          "output_type": "execute_result",
          "data": {
            "text/plain": [
              "<TensorSliceDataset shapes: (10,), types: tf.float32>"
            ]
          },
          "metadata": {
            "tags": []
          },
          "execution_count": 52
        }
      ]
    },
    {
      "cell_type": "code",
      "metadata": {
        "colab": {
          "base_uri": "https://localhost:8080/"
        },
        "id": "EbY-SJ58oE64",
        "outputId": "cfb3bc48-3f37-4000-833c-a59adbdb5ae1"
      },
      "source": [
        "dataset1.element_spec #구성 예쁘게 보기"
      ],
      "execution_count": null,
      "outputs": [
        {
          "output_type": "execute_result",
          "data": {
            "text/plain": [
              "TensorSpec(shape=(10,), dtype=tf.float32, name=None)"
            ]
          },
          "metadata": {
            "tags": []
          },
          "execution_count": 53
        }
      ]
    },
    {
      "cell_type": "code",
      "metadata": {
        "colab": {
          "base_uri": "https://localhost:8080/"
        },
        "id": "FwJTgSh1oKmZ",
        "outputId": "469adec7-8a69-4f63-9f63-fbe314df9716"
      },
      "source": [
        "dataset2 = tf.data.Dataset.from_tensor_slices(\n",
        "    (tf.random.uniform([4]), \n",
        "    tf.random.uniform([4,100])))\n",
        "dataset2"
      ],
      "execution_count": null,
      "outputs": [
        {
          "output_type": "execute_result",
          "data": {
            "text/plain": [
              "<TensorSliceDataset shapes: ((), (100,)), types: (tf.float32, tf.float32)>"
            ]
          },
          "metadata": {
            "tags": []
          },
          "execution_count": 54
        }
      ]
    },
    {
      "cell_type": "code",
      "metadata": {
        "colab": {
          "base_uri": "https://localhost:8080/"
        },
        "id": "hufam0GgoY9P",
        "outputId": "7da927fb-b2ae-463f-a8ca-e29ae4c407c8"
      },
      "source": [
        "dataset2.element_spec"
      ],
      "execution_count": null,
      "outputs": [
        {
          "output_type": "execute_result",
          "data": {
            "text/plain": [
              "(TensorSpec(shape=(), dtype=tf.float32, name=None),\n",
              " TensorSpec(shape=(100,), dtype=tf.float32, name=None))"
            ]
          },
          "metadata": {
            "tags": []
          },
          "execution_count": 55
        }
      ]
    },
    {
      "cell_type": "code",
      "metadata": {
        "id": "5wRWkMU7ozPX"
      },
      "source": [
        "dataset3 = tf.data.Dataset.zip((dataset1, dataset2))\n",
        "#zip #dataset 합치기 "
      ],
      "execution_count": null,
      "outputs": []
    },
    {
      "cell_type": "code",
      "metadata": {
        "colab": {
          "base_uri": "https://localhost:8080/"
        },
        "id": "p8xSpTzyo-dK",
        "outputId": "44e66e79-2e20-4b00-c912-46a534a46937"
      },
      "source": [
        "dataset3.element_spec"
      ],
      "execution_count": null,
      "outputs": [
        {
          "output_type": "execute_result",
          "data": {
            "text/plain": [
              "(TensorSpec(shape=(10,), dtype=tf.float32, name=None),\n",
              " (TensorSpec(shape=(), dtype=tf.float32, name=None),\n",
              "  TensorSpec(shape=(100,), dtype=tf.float32, name=None)))"
            ]
          },
          "metadata": {
            "tags": []
          },
          "execution_count": 57
        }
      ]
    },
    {
      "cell_type": "code",
      "metadata": {
        "id": "MlsM9nS9pBih"
      },
      "source": [
        "dataset4 = tf.data.Dataset.from_tensors(tf.SparseTensor(indices=[[0,0],[1,2]], values=[1,2],dense_shape=[3,4]))"
      ],
      "execution_count": null,
      "outputs": []
    },
    {
      "cell_type": "code",
      "metadata": {
        "colab": {
          "base_uri": "https://localhost:8080/"
        },
        "id": "VWTt3Szn_3-f",
        "outputId": "565f11ce-5e84-4328-ca20-c7595cc8d08a"
      },
      "source": [
        "for elem in dataset4 : \n",
        "    print(elem)"
      ],
      "execution_count": null,
      "outputs": [
        {
          "output_type": "stream",
          "text": [
            "SparseTensor(indices=tf.Tensor(\n",
            "[[0 0]\n",
            " [1 2]], shape=(2, 2), dtype=int64), values=tf.Tensor([1 2], shape=(2,), dtype=int32), dense_shape=tf.Tensor([3 4], shape=(2,), dtype=int64))\n"
          ],
          "name": "stdout"
        }
      ]
    },
    {
      "cell_type": "code",
      "metadata": {
        "colab": {
          "base_uri": "https://localhost:8080/"
        },
        "id": "kT8PGHgIASnp",
        "outputId": "8665fa41-3ba2-4a76-a7d9-01bd369aac57"
      },
      "source": [
        "dataset4.element_spec.value_type"
      ],
      "execution_count": null,
      "outputs": [
        {
          "output_type": "execute_result",
          "data": {
            "text/plain": [
              "tensorflow.python.framework.sparse_tensor.SparseTensor"
            ]
          },
          "metadata": {
            "tags": []
          },
          "execution_count": 61
        }
      ]
    },
    {
      "cell_type": "code",
      "metadata": {
        "id": "hz3fwzK_A9lb"
      },
      "source": [
        "np.set_printoptions(precision=3) #소수점아래자리자르기"
      ],
      "execution_count": null,
      "outputs": []
    },
    {
      "cell_type": "code",
      "metadata": {
        "colab": {
          "base_uri": "https://localhost:8080/"
        },
        "id": "hRs-wINIBFGx",
        "outputId": "baae605f-fb09-4f61-cf97-8fec614cfd44"
      },
      "source": [
        "for z in dataset1 : \n",
        "    print(z.numpy())\n",
        "\n",
        "#from_tensors_slices() #4개의 배치로 자른 dataset 불러오기"
      ],
      "execution_count": null,
      "outputs": [
        {
          "output_type": "stream",
          "text": [
            "[0.788 0.394 0.906 0.279 0.394 0.908 0.596 0.674 0.122 0.249]\n",
            "[0.692 0.277 0.638 0.781 0.966 0.677 0.119 0.713 0.715 0.851]\n",
            "[0.262 0.126 0.43  0.877 0.884 0.766 0.695 0.985 0.692 0.725]\n",
            "[0.395 0.734 0.748 0.208 0.758 0.495 0.474 0.193 0.319 0.267]\n"
          ],
          "name": "stdout"
        }
      ]
    },
    {
      "cell_type": "code",
      "metadata": {
        "colab": {
          "base_uri": "https://localhost:8080/",
          "height": 183
        },
        "id": "jh2YlkuFBUrA",
        "outputId": "67c02477-15af-4481-a0dd-00b5225589d5"
      },
      "source": [
        "iterator=dataset1.as_numpy_iterator()\n",
        "list(iterator)"
      ],
      "execution_count": null,
      "outputs": [
        {
          "output_type": "error",
          "ename": "TypeError",
          "evalue": "ignored",
          "traceback": [
            "\u001b[0;31m---------------------------------------------------------------------------\u001b[0m",
            "\u001b[0;31mTypeError\u001b[0m                                 Traceback (most recent call last)",
            "\u001b[0;32m<ipython-input-87-85ae25d737d9>\u001b[0m in \u001b[0;36m<module>\u001b[0;34m()\u001b[0m\n\u001b[1;32m      1\u001b[0m \u001b[0miterator\u001b[0m\u001b[0;34m=\u001b[0m\u001b[0mdataset1\u001b[0m\u001b[0;34m.\u001b[0m\u001b[0mas_numpy_iterator\u001b[0m\u001b[0;34m(\u001b[0m\u001b[0;34m)\u001b[0m\u001b[0;34m\u001b[0m\u001b[0;34m\u001b[0m\u001b[0m\n\u001b[0;32m----> 2\u001b[0;31m \u001b[0mlist\u001b[0m\u001b[0;34m(\u001b[0m\u001b[0miterator\u001b[0m\u001b[0;34m)\u001b[0m\u001b[0;34m\u001b[0m\u001b[0;34m\u001b[0m\u001b[0m\n\u001b[0m",
            "\u001b[0;31mTypeError\u001b[0m: 'list' object is not callable"
          ]
        }
      ]
    },
    {
      "cell_type": "code",
      "metadata": {
        "colab": {
          "base_uri": "https://localhost:8080/",
          "height": 183
        },
        "id": "cEYYETVfBlAN",
        "outputId": "ed6346c3-91a8-4587-95b3-52610b9dadc0"
      },
      "source": [
        "for i in range(4):\n",
        "    print(list(dataset1.as_numpy_iterator())[i])"
      ],
      "execution_count": null,
      "outputs": [
        {
          "output_type": "error",
          "ename": "TypeError",
          "evalue": "ignored",
          "traceback": [
            "\u001b[0;31m---------------------------------------------------------------------------\u001b[0m",
            "\u001b[0;31mTypeError\u001b[0m                                 Traceback (most recent call last)",
            "\u001b[0;32m<ipython-input-72-697f06cf67e5>\u001b[0m in \u001b[0;36m<module>\u001b[0;34m()\u001b[0m\n\u001b[1;32m      1\u001b[0m \u001b[0;32mfor\u001b[0m \u001b[0mi\u001b[0m \u001b[0;32min\u001b[0m \u001b[0mrange\u001b[0m\u001b[0;34m(\u001b[0m\u001b[0;36m4\u001b[0m\u001b[0;34m)\u001b[0m\u001b[0;34m:\u001b[0m\u001b[0;34m\u001b[0m\u001b[0;34m\u001b[0m\u001b[0m\n\u001b[0;32m----> 2\u001b[0;31m     \u001b[0mprint\u001b[0m\u001b[0;34m(\u001b[0m\u001b[0mlist\u001b[0m\u001b[0;34m(\u001b[0m\u001b[0mdataset1\u001b[0m\u001b[0;34m.\u001b[0m\u001b[0mas_numpy_iterator\u001b[0m\u001b[0;34m(\u001b[0m\u001b[0;34m)\u001b[0m\u001b[0;34m)\u001b[0m\u001b[0;34m[\u001b[0m\u001b[0mi\u001b[0m\u001b[0;34m]\u001b[0m\u001b[0;34m)\u001b[0m\u001b[0;34m\u001b[0m\u001b[0;34m\u001b[0m\u001b[0m\n\u001b[0m",
            "\u001b[0;31mTypeError\u001b[0m: 'list' object is not callable"
          ]
        }
      ]
    },
    {
      "cell_type": "code",
      "metadata": {
        "colab": {
          "base_uri": "https://localhost:8080/",
          "height": 183
        },
        "id": "5uyScORdDlNv",
        "outputId": "83ad13a3-ac7a-4cc0-a668-d7c6bca02dbd"
      },
      "source": [
        "dataset =tf.data.Dataset.from_tensor_slices([[1,2],[3,4]])\n",
        "list(dataset.as_numpy_iterator())\n"
      ],
      "execution_count": null,
      "outputs": [
        {
          "output_type": "error",
          "ename": "TypeError",
          "evalue": "ignored",
          "traceback": [
            "\u001b[0;31m---------------------------------------------------------------------------\u001b[0m",
            "\u001b[0;31mTypeError\u001b[0m                                 Traceback (most recent call last)",
            "\u001b[0;32m<ipython-input-88-e3fc7c99cc45>\u001b[0m in \u001b[0;36m<module>\u001b[0;34m()\u001b[0m\n\u001b[1;32m      1\u001b[0m \u001b[0mdataset\u001b[0m \u001b[0;34m=\u001b[0m\u001b[0mtf\u001b[0m\u001b[0;34m.\u001b[0m\u001b[0mdata\u001b[0m\u001b[0;34m.\u001b[0m\u001b[0mDataset\u001b[0m\u001b[0;34m.\u001b[0m\u001b[0mfrom_tensor_slices\u001b[0m\u001b[0;34m(\u001b[0m\u001b[0;34m[\u001b[0m\u001b[0;34m[\u001b[0m\u001b[0;36m1\u001b[0m\u001b[0;34m,\u001b[0m\u001b[0;36m2\u001b[0m\u001b[0;34m]\u001b[0m\u001b[0;34m,\u001b[0m\u001b[0;34m[\u001b[0m\u001b[0;36m3\u001b[0m\u001b[0;34m,\u001b[0m\u001b[0;36m4\u001b[0m\u001b[0;34m]\u001b[0m\u001b[0;34m]\u001b[0m\u001b[0;34m)\u001b[0m\u001b[0;34m\u001b[0m\u001b[0;34m\u001b[0m\u001b[0m\n\u001b[0;32m----> 2\u001b[0;31m \u001b[0mlist\u001b[0m\u001b[0;34m(\u001b[0m\u001b[0mdataset\u001b[0m\u001b[0;34m.\u001b[0m\u001b[0mas_numpy_iterator\u001b[0m\u001b[0;34m(\u001b[0m\u001b[0;34m)\u001b[0m\u001b[0;34m)\u001b[0m\u001b[0;34m\u001b[0m\u001b[0;34m\u001b[0m\u001b[0m\n\u001b[0m",
            "\u001b[0;31mTypeError\u001b[0m: 'list' object is not callable"
          ]
        }
      ]
    },
    {
      "cell_type": "code",
      "metadata": {
        "colab": {
          "base_uri": "https://localhost:8080/",
          "height": 183
        },
        "id": "NljGUlR7Gn_w",
        "outputId": "0c8398d3-b1f6-4290-9f78-250f0a0f9c61"
      },
      "source": [
        "dataset = tf.data.Dataset.from_tensor_slices([[1,2,3],[1,2,4],[4,5,6]])\n",
        "list(dataset.as_numpy_iterator())"
      ],
      "execution_count": null,
      "outputs": [
        {
          "output_type": "error",
          "ename": "TypeError",
          "evalue": "ignored",
          "traceback": [
            "\u001b[0;31m---------------------------------------------------------------------------\u001b[0m",
            "\u001b[0;31mTypeError\u001b[0m                                 Traceback (most recent call last)",
            "\u001b[0;32m<ipython-input-89-ee707e22d9cd>\u001b[0m in \u001b[0;36m<module>\u001b[0;34m()\u001b[0m\n\u001b[1;32m      1\u001b[0m \u001b[0mdataset\u001b[0m \u001b[0;34m=\u001b[0m \u001b[0mtf\u001b[0m\u001b[0;34m.\u001b[0m\u001b[0mdata\u001b[0m\u001b[0;34m.\u001b[0m\u001b[0mDataset\u001b[0m\u001b[0;34m.\u001b[0m\u001b[0mfrom_tensor_slices\u001b[0m\u001b[0;34m(\u001b[0m\u001b[0;34m[\u001b[0m\u001b[0;34m[\u001b[0m\u001b[0;36m1\u001b[0m\u001b[0;34m,\u001b[0m\u001b[0;36m2\u001b[0m\u001b[0;34m,\u001b[0m\u001b[0;36m3\u001b[0m\u001b[0;34m]\u001b[0m\u001b[0;34m,\u001b[0m\u001b[0;34m[\u001b[0m\u001b[0;36m1\u001b[0m\u001b[0;34m,\u001b[0m\u001b[0;36m2\u001b[0m\u001b[0;34m,\u001b[0m\u001b[0;36m4\u001b[0m\u001b[0;34m]\u001b[0m\u001b[0;34m,\u001b[0m\u001b[0;34m[\u001b[0m\u001b[0;36m4\u001b[0m\u001b[0;34m,\u001b[0m\u001b[0;36m5\u001b[0m\u001b[0;34m,\u001b[0m\u001b[0;36m6\u001b[0m\u001b[0;34m]\u001b[0m\u001b[0;34m]\u001b[0m\u001b[0;34m)\u001b[0m\u001b[0;34m\u001b[0m\u001b[0;34m\u001b[0m\u001b[0m\n\u001b[0;32m----> 2\u001b[0;31m \u001b[0mlist\u001b[0m\u001b[0;34m(\u001b[0m\u001b[0mdataset\u001b[0m\u001b[0;34m.\u001b[0m\u001b[0mas_numpy_iterator\u001b[0m\u001b[0;34m(\u001b[0m\u001b[0;34m)\u001b[0m\u001b[0;34m)\u001b[0m\u001b[0;34m\u001b[0m\u001b[0;34m\u001b[0m\u001b[0m\n\u001b[0m",
            "\u001b[0;31mTypeError\u001b[0m: 'list' object is not callable"
          ]
        }
      ]
    },
    {
      "cell_type": "code",
      "metadata": {
        "colab": {
          "base_uri": "https://localhost:8080/",
          "height": 131
        },
        "id": "z1FIV5ceG1c3",
        "outputId": "f347f5d2-85b2-4052-9e3e-0b4cf6206edf"
      },
      "source": [
        "dataset = tf.data.Dataset.from_tensor_slices(([[1,2,3],[1,2,4]))\n",
        "list(dataset.as_numpy_iterator())"
      ],
      "execution_count": null,
      "outputs": [
        {
          "output_type": "error",
          "ename": "SyntaxError",
          "evalue": "ignored",
          "traceback": [
            "\u001b[0;36m  File \u001b[0;32m\"<ipython-input-90-ce0fc2dfb873>\"\u001b[0;36m, line \u001b[0;32m1\u001b[0m\n\u001b[0;31m    dataset = tf.data.Dataset.from_tensor_slices(([[1,2,3],[1,2,4]))\u001b[0m\n\u001b[0m                                                                  ^\u001b[0m\n\u001b[0;31mSyntaxError\u001b[0m\u001b[0;31m:\u001b[0m invalid syntax\n"
          ]
        }
      ]
    },
    {
      "cell_type": "code",
      "metadata": {
        "colab": {
          "base_uri": "https://localhost:8080/",
          "height": 183
        },
        "id": "YisOsTRtG8ER",
        "outputId": "34bbbd79-0f2d-4735-c61d-8e65bda3a3d7"
      },
      "source": [
        "dataset = tf.data.Dataset.from_tensor_slices({'a':[1,2],'b':[3,4]})\n",
        "list(dataset.as_numpy_iterator())"
      ],
      "execution_count": null,
      "outputs": [
        {
          "output_type": "error",
          "ename": "TypeError",
          "evalue": "ignored",
          "traceback": [
            "\u001b[0;31m---------------------------------------------------------------------------\u001b[0m",
            "\u001b[0;31mTypeError\u001b[0m                                 Traceback (most recent call last)",
            "\u001b[0;32m<ipython-input-91-dbb1f1f2493c>\u001b[0m in \u001b[0;36m<module>\u001b[0;34m()\u001b[0m\n\u001b[1;32m      1\u001b[0m \u001b[0mdataset\u001b[0m \u001b[0;34m=\u001b[0m \u001b[0mtf\u001b[0m\u001b[0;34m.\u001b[0m\u001b[0mdata\u001b[0m\u001b[0;34m.\u001b[0m\u001b[0mDataset\u001b[0m\u001b[0;34m.\u001b[0m\u001b[0mfrom_tensor_slices\u001b[0m\u001b[0;34m(\u001b[0m\u001b[0;34m{\u001b[0m\u001b[0;34m'a'\u001b[0m\u001b[0;34m:\u001b[0m\u001b[0;34m[\u001b[0m\u001b[0;36m1\u001b[0m\u001b[0;34m,\u001b[0m\u001b[0;36m2\u001b[0m\u001b[0;34m]\u001b[0m\u001b[0;34m,\u001b[0m\u001b[0;34m'b'\u001b[0m\u001b[0;34m:\u001b[0m\u001b[0;34m[\u001b[0m\u001b[0;36m3\u001b[0m\u001b[0;34m,\u001b[0m\u001b[0;36m4\u001b[0m\u001b[0;34m]\u001b[0m\u001b[0;34m}\u001b[0m\u001b[0;34m)\u001b[0m\u001b[0;34m\u001b[0m\u001b[0;34m\u001b[0m\u001b[0m\n\u001b[0;32m----> 2\u001b[0;31m \u001b[0mlist\u001b[0m\u001b[0;34m(\u001b[0m\u001b[0mdataset\u001b[0m\u001b[0;34m.\u001b[0m\u001b[0mas_numpy_iterator\u001b[0m\u001b[0;34m(\u001b[0m\u001b[0;34m)\u001b[0m\u001b[0;34m)\u001b[0m\u001b[0;34m\u001b[0m\u001b[0;34m\u001b[0m\u001b[0m\n\u001b[0m",
            "\u001b[0;31mTypeError\u001b[0m: 'list' object is not callable"
          ]
        }
      ]
    },
    {
      "cell_type": "markdown",
      "metadata": {
        "id": "Vambbk_WHSIz"
      },
      "source": [
        "#Feature Lable 붙여보기"
      ]
    },
    {
      "cell_type": "code",
      "metadata": {
        "colab": {
          "base_uri": "https://localhost:8080/"
        },
        "id": "93yB87ANHNbV",
        "outputId": "b6211642-217a-40b7-9d0d-c39df7a37876"
      },
      "source": [
        "features= tf.constant([[1,3],[2,1],[3,3]])\n",
        "labels = tf.constant(['A','B','A'])\n",
        "dataset = tf.data.Dataset.from_tensor_slices((features,labels))\n",
        "dataset\n",
        "#합치는 방법1 #from_tensor_slices활용"
      ],
      "execution_count": null,
      "outputs": [
        {
          "output_type": "execute_result",
          "data": {
            "text/plain": [
              "<TensorSliceDataset shapes: ((2,), ()), types: (tf.int32, tf.string)>"
            ]
          },
          "metadata": {
            "tags": []
          },
          "execution_count": 106
        }
      ]
    },
    {
      "cell_type": "code",
      "metadata": {
        "colab": {
          "base_uri": "https://localhost:8080/"
        },
        "id": "sZ3x0GPUHsO9",
        "outputId": "7c78312e-26dd-4177-bcc6-4054e0e3884b"
      },
      "source": [
        "features_dataset = tf.data.Dataset.from_tensor_slices(features)\n",
        "labels_dataset = tf.data.Dataset.from_tensor_slices(labels)\n",
        "dataset = tf.data.Dataset.zip((features_dataset, labels_dataset))\n",
        "dataset\n",
        "#합치는 방법2 #두 데이터 모두 dataset으로 묶어져 있다면 -> zip으로 묶기\n",
        "#tesnsorflow에서는 dataset으로 바꿔주는 것이 좋음"
      ],
      "execution_count": null,
      "outputs": [
        {
          "output_type": "execute_result",
          "data": {
            "text/plain": [
              "<ZipDataset shapes: ((2,), ()), types: (tf.int32, tf.string)>"
            ]
          },
          "metadata": {
            "tags": []
          },
          "execution_count": 107
        }
      ]
    },
    {
      "cell_type": "code",
      "metadata": {
        "id": "MSxuR8qUH9nt"
      },
      "source": [
        "batched_features = tf.data.Dataset.from_tensor_slices([[[1,2],[3,4]],[[3,4],[1,5]],[[3,5],[3,6]]])\n",
        "#2*2행렬\n"
      ],
      "execution_count": null,
      "outputs": []
    },
    {
      "cell_type": "code",
      "metadata": {
        "id": "0mSXtXVTIi54"
      },
      "source": [
        "batched_labels = tf.data.Dataset.from_tensor_slices([['A','B'],['A','A'],['B','A']])"
      ],
      "execution_count": null,
      "outputs": []
    },
    {
      "cell_type": "code",
      "metadata": {
        "colab": {
          "base_uri": "https://localhost:8080/",
          "height": 166
        },
        "id": "DqWVx1IWIxlU",
        "outputId": "3e1fa632-2af0-4cac-d79a-3bab6957701f"
      },
      "source": [
        "list(batched_features.as_numpy_iterator())"
      ],
      "execution_count": null,
      "outputs": [
        {
          "output_type": "error",
          "ename": "TypeError",
          "evalue": "ignored",
          "traceback": [
            "\u001b[0;31m---------------------------------------------------------------------------\u001b[0m",
            "\u001b[0;31mTypeError\u001b[0m                                 Traceback (most recent call last)",
            "\u001b[0;32m<ipython-input-110-bb45716f4ffc>\u001b[0m in \u001b[0;36m<module>\u001b[0;34m()\u001b[0m\n\u001b[0;32m----> 1\u001b[0;31m \u001b[0mlist\u001b[0m\u001b[0;34m(\u001b[0m\u001b[0mbatched_features\u001b[0m\u001b[0;34m.\u001b[0m\u001b[0mas_numpy_iterator\u001b[0m\u001b[0;34m(\u001b[0m\u001b[0;34m)\u001b[0m\u001b[0;34m)\u001b[0m\u001b[0;34m\u001b[0m\u001b[0;34m\u001b[0m\u001b[0m\n\u001b[0m",
            "\u001b[0;31mTypeError\u001b[0m: 'list' object is not callable"
          ]
        }
      ]
    },
    {
      "cell_type": "code",
      "metadata": {
        "colab": {
          "base_uri": "https://localhost:8080/",
          "height": 166
        },
        "id": "qhfXU7naJLWn",
        "outputId": "c510850c-09e2-474f-ecfb-1e8cb06cfca6"
      },
      "source": [
        "list(batched_labels.as_numpy_iterator())"
      ],
      "execution_count": null,
      "outputs": [
        {
          "output_type": "error",
          "ename": "TypeError",
          "evalue": "ignored",
          "traceback": [
            "\u001b[0;31m---------------------------------------------------------------------------\u001b[0m",
            "\u001b[0;31mTypeError\u001b[0m                                 Traceback (most recent call last)",
            "\u001b[0;32m<ipython-input-111-0c434a2a98c7>\u001b[0m in \u001b[0;36m<module>\u001b[0;34m()\u001b[0m\n\u001b[0;32m----> 1\u001b[0;31m \u001b[0mlist\u001b[0m\u001b[0;34m(\u001b[0m\u001b[0mbatched_labels\u001b[0m\u001b[0;34m.\u001b[0m\u001b[0mas_numpy_iterator\u001b[0m\u001b[0;34m(\u001b[0m\u001b[0;34m)\u001b[0m\u001b[0;34m)\u001b[0m\u001b[0;34m\u001b[0m\u001b[0;34m\u001b[0m\u001b[0m\n\u001b[0m",
            "\u001b[0;31mTypeError\u001b[0m: 'list' object is not callable"
          ]
        }
      ]
    },
    {
      "cell_type": "code",
      "metadata": {
        "id": "zBb3eUi7Jgl3"
      },
      "source": [
        "batched_data = tf.data.Dataset.zip((batched_features,batched_labels))\n",
        "####################################\n",
        "#왜 라벨로 바꿔준다음에 zip하는거지?"
      ],
      "execution_count": null,
      "outputs": []
    },
    {
      "cell_type": "code",
      "metadata": {
        "colab": {
          "base_uri": "https://localhost:8080/"
        },
        "id": "yGjsfFmsJsw6",
        "outputId": "bf5c82b6-93a0-48c1-815a-8b39b77fe7a7"
      },
      "source": [
        "for elem in batched_data.as_numpy_iterator():\n",
        "    print(elem)\n",
        "    #feature + label = batch\n",
        "    #batch모음 -> dataset"
      ],
      "execution_count": null,
      "outputs": [
        {
          "output_type": "stream",
          "text": [
            "(array([[1, 2],\n",
            "       [3, 4]], dtype=int32), array([b'A', b'B'], dtype=object))\n",
            "(array([[3, 4],\n",
            "       [1, 5]], dtype=int32), array([b'A', b'A'], dtype=object))\n",
            "(array([[3, 5],\n",
            "       [3, 6]], dtype=int32), array([b'B', b'A'], dtype=object))\n"
          ],
          "name": "stdout"
        }
      ]
    },
    {
      "cell_type": "markdown",
      "metadata": {
        "id": "zO6dP08eLS9D"
      },
      "source": [
        "#And 네트워크 구현"
      ]
    },
    {
      "cell_type": "code",
      "metadata": {
        "colab": {
          "base_uri": "https://localhost:8080/"
        },
        "id": "DjtFju7bK_rj",
        "outputId": "41907608-9fe4-49d8-96a4-85a23ac881bf"
      },
      "source": [
        "import numpy as np\n",
        "import tensorflow as tf\n",
        "\n",
        "x=np.array([[1,1],[1,0],[0,1],[0,0]])\n",
        "y=np.array([[1],[0],[0],[0]])\n",
        "w=tf.random.normal([2],0,1)\n",
        "b=tf.random.normal([1],0,1)\n",
        "b_x=1\n",
        "learning_rate=0.1\n",
        "\n",
        "for i in range(2000):\n",
        "    error_sum=0\n",
        "    for j in range(4):\n",
        "        output = sigmoid(np.sum(x[j]*w)+b_x*b)\n",
        "        err = y[j][0] - output\n",
        "        w=w+err*learning_rate*x[j]\n",
        "        b=b+b_x*learning_rate*err\n",
        "        error_sum +=err\n",
        "\n",
        "        if i%200 == 199:\n",
        "            print(i, error_sum)"
      ],
      "execution_count": null,
      "outputs": [
        {
          "output_type": "stream",
          "text": [
            "199 [0.262]\n",
            "199 [0.079]\n",
            "199 [-0.101]\n",
            "199 [-0.116]\n",
            "399 [0.157]\n",
            "399 [0.046]\n",
            "399 [-0.065]\n",
            "399 [-0.068]\n",
            "599 [0.111]\n",
            "599 [0.032]\n",
            "599 [-0.047]\n",
            "599 [-0.048]\n",
            "799 [0.086]\n",
            "799 [0.025]\n",
            "799 [-0.036]\n",
            "799 [-0.037]\n",
            "999 [0.07]\n",
            "999 [0.02]\n",
            "999 [-0.03]\n",
            "999 [-0.03]\n",
            "1199 [0.058]\n",
            "1199 [0.017]\n",
            "1199 [-0.025]\n",
            "1199 [-0.025]\n",
            "1399 [0.05]\n",
            "1399 [0.014]\n",
            "1399 [-0.021]\n",
            "1399 [-0.022]\n",
            "1599 [0.044]\n",
            "1599 [0.013]\n",
            "1599 [-0.019]\n",
            "1599 [-0.019]\n",
            "1799 [0.039]\n",
            "1799 [0.011]\n",
            "1799 [-0.017]\n",
            "1799 [-0.017]\n",
            "1999 [0.035]\n",
            "1999 [0.01]\n",
            "1999 [-0.015]\n",
            "1999 [-0.015]\n"
          ],
          "name": "stdout"
        }
      ]
    },
    {
      "cell_type": "code",
      "metadata": {
        "colab": {
          "base_uri": "https://localhost:8080/"
        },
        "id": "66FrX7A6MkFP",
        "outputId": "795ab736-ec19-4883-9c90-1c5c01715ed6"
      },
      "source": [
        "for i in range(4):\n",
        "    print('X:',x[i],'Y:',y[i],'Output=',sigmoid(np.sum(x[i]*w)+b_x*b))\n",
        "    ###########################\n",
        "    #b_x왜 곱하는거지?\n"
      ],
      "execution_count": null,
      "outputs": [
        {
          "output_type": "stream",
          "text": [
            "X: [1 1] Y: [1] Output= [0.965]\n",
            "X: [1 0] Y: [0] Output= [0.025]\n",
            "X: [0 1] Y: [0] Output= [0.025]\n",
            "X: [0 0] Y: [0] Output= [2.452e-05]\n"
          ],
          "name": "stdout"
        }
      ]
    },
    {
      "cell_type": "code",
      "metadata": {
        "colab": {
          "base_uri": "https://localhost:8080/"
        },
        "id": "C2DT5sIoNGBg",
        "outputId": "de352164-fad7-4acd-c432-230a8824ac21"
      },
      "source": [
        "tf.print(w)\n",
        "tf.print(b)\n",
        "#w > b\n",
        "#[1 1]이면 w모든 요소와 곱해져 더해짐\n",
        "#값이 커지면 sigmoid 1가까운 값 반환"
      ],
      "execution_count": null,
      "outputs": [
        {
          "output_type": "stream",
          "text": [
            "[6.95789385 6.96104908]\n",
            "[-10.6159945]\n"
          ],
          "name": "stdout"
        }
      ]
    },
    {
      "cell_type": "markdown",
      "metadata": {
        "id": "odGSr-M9Nq2B"
      },
      "source": [
        "#XOR 네트워크 구현"
      ]
    },
    {
      "cell_type": "code",
      "metadata": {
        "colab": {
          "base_uri": "https://localhost:8080/"
        },
        "id": "jykfG0eINRqj",
        "outputId": "79adddc1-22b3-4826-ea57-58de0fd383df"
      },
      "source": [
        "import numpy as np\n",
        "import tensorflow as tf\n",
        "\n",
        "x=np.array([[1,1],[1,0],[0,1],[0,0]])\n",
        "y=np.array([[0],[1],[1],[0]]) #값이 다를 때만 1반환 #XOR\n",
        "w=tf.random.normal([2],0,1)\n",
        "b=tf.random.normal([1],0,1)\n",
        "b_x=1\n",
        "learning_rate=0.1\n",
        "\n",
        "for i in range(2000):\n",
        "    error_sum=0\n",
        "    for j in range(4):\n",
        "        output = sigmoid(np.sum(x[j]*w)+b_x*b)\n",
        "        err = y[j][0] - output\n",
        "        w=w+err*learning_rate*x[j]\n",
        "        b=b+b_x*learning_rate*err #####################b_x대체 왜 곱하는거?\n",
        "        error_sum +=err\n",
        "\n",
        "    if i%200 == 199:\n",
        "        print(i, error_sum)"
      ],
      "execution_count": null,
      "outputs": [
        {
          "output_type": "stream",
          "text": [
            "199 [0.002]\n",
            "399 [9.99e-05]\n",
            "599 [3.994e-06]\n",
            "799 [1.788e-07]\n",
            "999 [0.]\n",
            "1199 [0.]\n",
            "1399 [0.]\n",
            "1599 [0.]\n",
            "1799 [0.]\n",
            "1999 [0.]\n"
          ],
          "name": "stdout"
        }
      ]
    },
    {
      "cell_type": "code",
      "metadata": {
        "colab": {
          "base_uri": "https://localhost:8080/"
        },
        "id": "6CLBNfHoOX3E",
        "outputId": "0e52c504-91fd-47be-a5e1-5b67270a2e95"
      },
      "source": [
        "for i in range(4):\n",
        "    print('X:',x[i],'Y:',y[i],'Output = ', sigmoid(np.sum(x[i]*w)+b_x*b))"
      ],
      "execution_count": null,
      "outputs": [
        {
          "output_type": "stream",
          "text": [
            "X: [1 1] Y: [0] Output =  [0.513]\n",
            "X: [1 0] Y: [1] Output =  [0.513]\n",
            "X: [0 1] Y: [1] Output =  [0.5]\n",
            "X: [0 0] Y: [0] Output =  [0.5]\n"
          ],
          "name": "stdout"
        }
      ]
    },
    {
      "cell_type": "code",
      "metadata": {
        "colab": {
          "base_uri": "https://localhost:8080/"
        },
        "id": "sjbXo4mnO6Uk",
        "outputId": "228100de-3a97-4ed1-98d1-a1d178d189d7"
      },
      "source": [
        "tf.print(w)\n",
        "tf.print(b)\n",
        "#w, b값이 줄어듦"
      ],
      "execution_count": null,
      "outputs": [
        {
          "output_type": "stream",
          "text": [
            "[0.0512818918 1.34110451e-07]\n",
            "[-1.67638063e-07]\n"
          ],
          "name": "stdout"
        }
      ]
    },
    {
      "cell_type": "markdown",
      "metadata": {
        "id": "hHeVjF9cPByL"
      },
      "source": [
        "왜 단층 신경망은 XOR 네트워크를 학습할 수 없을까?"
      ]
    },
    {
      "cell_type": "markdown",
      "metadata": {
        "id": "fq435DwLPJYz"
      },
      "source": [
        "#3.1 MNIST"
      ]
    },
    {
      "cell_type": "code",
      "metadata": {
        "id": "tXH9PLXBO-p2"
      },
      "source": [
        ""
      ],
      "execution_count": null,
      "outputs": []
    }
  ]
}